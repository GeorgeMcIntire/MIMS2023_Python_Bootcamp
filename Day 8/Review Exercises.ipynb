{
 "cells": [
  {
   "cell_type": "markdown",
   "id": "6364a716",
   "metadata": {},
   "source": [
    "# Exercise 1: Combos\n",
    "\n",
    "From day 4 exercises\n",
    "\n",
    "Create combination pairs for every name in a list\n",
    "\n",
    "Expected output:\n",
    "\n",
    "[('Andrea', 'Bob'),\n",
    " ('Andrea', 'Cassandra'),\n",
    " ('Andrea', 'Doug'),\n",
    " ('Bob', 'Cassandra'),\n",
    " ('Bob', 'Doug'),\n",
    " ('Cassandra', 'Doug')]"
   ]
  },
  {
   "cell_type": "code",
   "execution_count": null,
   "id": "35e47133",
   "metadata": {},
   "outputs": [],
   "source": [
    "names = ['Andrea', 'Bob', 'Cassandra', 'Doug']\n"
   ]
  },
  {
   "cell_type": "code",
   "execution_count": null,
   "id": "758a71c3",
   "metadata": {},
   "outputs": [],
   "source": []
  },
  {
   "cell_type": "markdown",
   "id": "a34cb779",
   "metadata": {},
   "source": [
    "## Exercise 2: Find other anagrams\n",
    "\n",
    "Extract the strings from `strings` that have a fellow anagram.\n",
    "\n",
    "Expected output = [\"cat\", \"act\", \"god\", \"dog\"]"
   ]
  },
  {
   "cell_type": "code",
   "execution_count": null,
   "id": "de335a8c",
   "metadata": {},
   "outputs": [],
   "source": [
    "strings = [\"cat\", \"act\", \"god\", \"dog\", \"day\", \"ace\"]"
   ]
  },
  {
   "cell_type": "code",
   "execution_count": null,
   "id": "4212e28f",
   "metadata": {},
   "outputs": [],
   "source": []
  },
  {
   "cell_type": "code",
   "execution_count": null,
   "id": "726896ef",
   "metadata": {},
   "outputs": [],
   "source": []
  },
  {
   "cell_type": "markdown",
   "id": "48bf8f50",
   "metadata": {},
   "source": [
    "## Exercise 3: Vowel Race\n",
    "\n",
    "We have two text passages. We're going to count up the number of vowels in each passage until one of them reaches 10.\n",
    "\n",
    "Hint: casing"
   ]
  },
  {
   "cell_type": "code",
   "execution_count": null,
   "id": "7b68432b",
   "metadata": {},
   "outputs": [],
   "source": [
    "passage1 = \"\"\"The whole idea of a cover letter is that it can help the employer see you as more than just your résumé. \n",
    "Managers generally aren’t hiring based solely on your work history\"\"\"\n",
    "\n",
    "passage2 = \"\"\"The No. 1 mistake people make with cover letters is that they simply use them to summarize their résumé. \n",
    "This makes no sense — hiring managers don’t need a summary of your résumé! It’s on the very next page!\"\"\""
   ]
  },
  {
   "cell_type": "code",
   "execution_count": null,
   "id": "b603c3b8",
   "metadata": {},
   "outputs": [],
   "source": []
  },
  {
   "cell_type": "code",
   "execution_count": null,
   "id": "f55c72ad",
   "metadata": {},
   "outputs": [],
   "source": []
  },
  {
   "cell_type": "markdown",
   "id": "b02a052f",
   "metadata": {},
   "source": [
    "## Exercise 4: Tax Calculator\n",
    "\n",
    "\n",
    "This is an upgrade on the previous versions. This time we're going make our function generalizable so that it can work with varying income levels and rates"
   ]
  },
  {
   "cell_type": "code",
   "execution_count": 4,
   "id": "81209d6b",
   "metadata": {},
   "outputs": [],
   "source": [
    "tax_brackets = [\n",
    "    (0, 0)\n",
    "    (10000, 0.1),\n",
    "    (25000, 0.15),\n",
    "    (50000, 0.20),\n",
    "    (75000, 0.25),\n",
    "    (100000, 0.3),\n",
    "    (float(\"inf\"), 0.4)]"
   ]
  },
  {
   "cell_type": "code",
   "execution_count": 5,
   "id": "99893bf6",
   "metadata": {},
   "outputs": [],
   "source": [
    "tax_brackets2 = [(0, 0.0), \n",
    "                 (10000, 0.1), \n",
    "                 (30000, 0.2), \n",
    "                 (60000, 0.3), \n",
    "                 (float('inf'), 0.4)]\n"
   ]
  },
  {
   "cell_type": "code",
   "execution_count": 6,
   "id": "cc48e927",
   "metadata": {},
   "outputs": [],
   "source": [
    "income = 120000"
   ]
  },
  {
   "cell_type": "code",
   "execution_count": null,
   "id": "850f1133",
   "metadata": {},
   "outputs": [],
   "source": []
  },
  {
   "cell_type": "markdown",
   "id": "ad586a90",
   "metadata": {},
   "source": [
    "## Exercise 5: Fibonacci Sequence\n",
    "\n",
    "A Fibonacci sequence is the integer sequence of 0, 1, 1, 2, 3, 5, 8....\n",
    "\n",
    "The first two terms are 0 and 1. All other terms are obtained by adding the preceding two terms. This means to say the nth term is the sum of (n-1)th and (n-2)th term."
   ]
  },
  {
   "cell_type": "code",
   "execution_count": null,
   "id": "5a38dc39",
   "metadata": {},
   "outputs": [],
   "source": []
  },
  {
   "cell_type": "code",
   "execution_count": null,
   "id": "090256ca",
   "metadata": {},
   "outputs": [],
   "source": []
  },
  {
   "cell_type": "code",
   "execution_count": null,
   "id": "b3aa83e2",
   "metadata": {},
   "outputs": [],
   "source": []
  },
  {
   "cell_type": "markdown",
   "id": "0a7ebbf8",
   "metadata": {},
   "source": [
    "## Exercise 6: Sum Overlap\n",
    "\n",
    "\n",
    "Write a function that sums up the values that overlap n positions between a left list and right list.\n",
    "\n",
    "For example:\n",
    "\n",
    "`n = 2`\n",
    "\n",
    "`left = [10, 20, 30, 40, 50]`\n",
    "\n",
    "`right = [30, 40, 50, 60, 12]`\n",
    "\n",
    "\n",
    "Do a pairwise summation of the right 2 items of `left` and the left two items of `right`\n",
    "\n",
    "\n",
    "`40 + 30 = 70`\n",
    "\n",
    "`50 + 40 = 90`\n",
    "\n",
    "Then combine those two sums with the rest of the items in the list.\n",
    "\n",
    "Output = [10, 20, 30, 70, 90, 50, 60, 12]\n"
   ]
  },
  {
   "cell_type": "code",
   "execution_count": 7,
   "id": "17dbee7a",
   "metadata": {},
   "outputs": [],
   "source": [
    "n = 2\n",
    "\n",
    "left = [10, 20, 30, 40, 50]\n",
    "\n",
    "right = [30, 40, 50, 60, 12]"
   ]
  },
  {
   "cell_type": "code",
   "execution_count": null,
   "id": "d451af01",
   "metadata": {},
   "outputs": [],
   "source": []
  },
  {
   "cell_type": "code",
   "execution_count": null,
   "id": "98726dbc",
   "metadata": {},
   "outputs": [],
   "source": []
  },
  {
   "cell_type": "markdown",
   "id": "bb227194",
   "metadata": {},
   "source": [
    "## Exercise 7: Counting Nests\n",
    "\n",
    "Write a function to count the layers of nesting in a given list\n",
    "\n",
    "`[2,3,4,[2,45,5,7,4,[3,5,[6,947,1]]]]` ==> 4"
   ]
  },
  {
   "cell_type": "code",
   "execution_count": null,
   "id": "4060364a",
   "metadata": {},
   "outputs": [],
   "source": [
    "lst = [2,3,4,[2,45,5,7,4,[3,5,[6,947,1]]]]"
   ]
  },
  {
   "cell_type": "code",
   "execution_count": null,
   "id": "26f6be7b",
   "metadata": {},
   "outputs": [],
   "source": []
  },
  {
   "cell_type": "code",
   "execution_count": null,
   "id": "e536d8aa",
   "metadata": {},
   "outputs": [],
   "source": []
  },
  {
   "cell_type": "markdown",
   "id": "6390395d",
   "metadata": {},
   "source": [
    "## Exercise 8: Random Guessing\n",
    "\n",
    "Write a script that tries to randomly guess a number chosen from 0-100.\n",
    "\n",
    "After each wrong attempt, print whether or not the guess was too low or high then use this information modify the possibility of numbers you're guessing.\n",
    "\n",
    "Use random.choice to choose the number you're trying to guess.\n",
    "\n",
    "Record the number of attempts"
   ]
  },
  {
   "cell_type": "code",
   "execution_count": 35,
   "id": "0237e33b",
   "metadata": {},
   "outputs": [],
   "source": [
    "import random"
   ]
  },
  {
   "cell_type": "code",
   "execution_count": null,
   "id": "87f32851",
   "metadata": {},
   "outputs": [],
   "source": []
  },
  {
   "cell_type": "code",
   "execution_count": null,
   "id": "2863bbe9",
   "metadata": {},
   "outputs": [],
   "source": []
  },
  {
   "cell_type": "markdown",
   "id": "76b0026f",
   "metadata": {},
   "source": [
    "**Part B**"
   ]
  },
  {
   "cell_type": "markdown",
   "id": "a00351d6",
   "metadata": {},
   "source": [
    "Let's simulate this game 1000 times and tally the number of attempts it takes to guess the correct number."
   ]
  },
  {
   "cell_type": "code",
   "execution_count": null,
   "id": "246cdbc3",
   "metadata": {},
   "outputs": [],
   "source": []
  },
  {
   "cell_type": "markdown",
   "id": "b8ebd172",
   "metadata": {},
   "source": []
  },
  {
   "cell_type": "code",
   "execution_count": null,
   "id": "674c861f",
   "metadata": {},
   "outputs": [],
   "source": []
  },
  {
   "cell_type": "code",
   "execution_count": null,
   "id": "665e985d",
   "metadata": {},
   "outputs": [],
   "source": []
  },
  {
   "cell_type": "code",
   "execution_count": null,
   "id": "e5a83493",
   "metadata": {},
   "outputs": [],
   "source": []
  },
  {
   "cell_type": "markdown",
   "id": "687cf66d",
   "metadata": {},
   "source": [
    "## Exercise 9: Bubble Sorting\n",
    "\n",
    "Bubble sort is a simple sorting algorithm that repeatedly steps through the list to be sorted, compares adjacent elements, and swaps them if they are in the wrong order. The process is repeated until the list is sorted. \n",
    "\n",
    "\n",
    "Here's a step-by-step breakdown of the bubble sort algorithm in Python:\n",
    "\n",
    "\n",
    "- Step 1: Start with an unsorted list of elements.\n",
    "\n",
    "- Step 2: Repeat the following steps until the list is sorted:\n",
    "\n",
    "    - Compare adjacent elements starting from the first two elements.\n",
    "    - If the current element is greater than the next element, swap them.\n",
    "    - Move to the next adjacent pair and repeat the comparison and swapping until the end of the list.\n",
    "\n",
    "- Step 3: After each pass, the largest element will \"bubble\" to the end of the list. So, in the next pass, you don't need to check the last element since it's already sorted.\n",
    "\n",
    "\n",
    "Demonstration below."
   ]
  },
  {
   "cell_type": "markdown",
   "id": "81233e2f",
   "metadata": {},
   "source": [
    "![https://commons.wikimedia.org/wiki/File:Bubble-sort-example-300px.gif](https://upload.wikimedia.org/wikipedia/commons/c/c8/Bubble-sort-example-300px.gif)\n",
    "\n",
    "https://commons.wikimedia.org/wiki/File:Bubble-sort-example-300px.gif"
   ]
  },
  {
   "cell_type": "code",
   "execution_count": null,
   "id": "c7453fd8",
   "metadata": {},
   "outputs": [],
   "source": []
  }
 ],
 "metadata": {
  "kernelspec": {
   "display_name": "Python 3 (ipykernel)",
   "language": "python",
   "name": "python3"
  },
  "language_info": {
   "codemirror_mode": {
    "name": "ipython",
    "version": 3
   },
   "file_extension": ".py",
   "mimetype": "text/x-python",
   "name": "python",
   "nbconvert_exporter": "python",
   "pygments_lexer": "ipython3",
   "version": "3.9.12"
  }
 },
 "nbformat": 4,
 "nbformat_minor": 5
}
