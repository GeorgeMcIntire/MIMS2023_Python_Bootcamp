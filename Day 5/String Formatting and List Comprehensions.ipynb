{
 "cells": [
  {
   "cell_type": "markdown",
   "id": "6f08fcde",
   "metadata": {},
   "source": [
    "# String Formatting and List Comprehensions"
   ]
  },
  {
   "cell_type": "markdown",
   "id": "fdb100c4",
   "metadata": {},
   "source": [
    "String formatting in Python is a way of constructing and manipulating strings by inserting dynamic values into them. It allows you to create more readable and flexible output by substituting placeholders with actual values. Python provides multiple methods for string formatting as we'll see below."
   ]
  },
  {
   "cell_type": "markdown",
   "id": "18a58a5a",
   "metadata": {},
   "source": [
    "### MadLibs"
   ]
  },
  {
   "cell_type": "markdown",
   "id": "01291761",
   "metadata": {},
   "source": [
    "String concatenation version"
   ]
  },
  {
   "cell_type": "code",
   "execution_count": 23,
   "id": "57766f03",
   "metadata": {},
   "outputs": [
    {
     "name": "stdout",
     "output_type": "stream",
     "text": [
      "Aida has a pet fiesty possom. One day, Aida saw the possom leap in the park.\n"
     ]
    }
   ],
   "source": [
    "name = \"Aida\"\n",
    "adjective = \"fiesty\"\n",
    "animal = \"possom\"\n",
    "action = \"leap\"\n",
    "\n",
    "mad_lib = name + \" has a pet \" + adjective + \" \" + animal + \". One day, \" + name + \" saw the \" + animal + \" \" + action + \" in the park.\"\n",
    "\n",
    "print(mad_lib)"
   ]
  },
  {
   "cell_type": "markdown",
   "id": "33fc465b",
   "metadata": {},
   "source": [
    "This way is laborious and annoying. That's where string formatting comes."
   ]
  },
  {
   "cell_type": "markdown",
   "id": "4d830a31",
   "metadata": {},
   "source": [
    "**The `.format()` method way**"
   ]
  },
  {
   "cell_type": "markdown",
   "id": "e37436e2",
   "metadata": {},
   "source": [
    "The `.format()` method is a built-in string method in Python that allows you to perform string formatting. It provides a flexible and powerful way to construct strings by inserting dynamic values into placeholders within the string."
   ]
  },
  {
   "cell_type": "code",
   "execution_count": 24,
   "id": "bff4006b",
   "metadata": {},
   "outputs": [
    {
     "name": "stdout",
     "output_type": "stream",
     "text": [
      "Today is Monday July 31\n"
     ]
    }
   ],
   "source": [
    "dow = \"Monday\"\n",
    "date = 31\n",
    "sentence = \"Today is {} July {}\".format(dow, date)\n",
    "print(sentence)"
   ]
  },
  {
   "cell_type": "markdown",
   "id": "e70d86a6",
   "metadata": {},
   "source": [
    "We don't have to convert numbers to strings!"
   ]
  },
  {
   "cell_type": "markdown",
   "id": "4156a03c",
   "metadata": {},
   "source": [
    "The order of the curly brackets matches the order of the inputs into `.format()`"
   ]
  },
  {
   "cell_type": "markdown",
   "id": "9c7a88b0",
   "metadata": {},
   "source": [
    "We can also specify the order inserting the strings  "
   ]
  },
  {
   "cell_type": "code",
   "execution_count": 16,
   "id": "efecb0ab",
   "metadata": {},
   "outputs": [
    {
     "name": "stdout",
     "output_type": "stream",
     "text": [
      "Today is Monday July 31\n"
     ]
    }
   ],
   "source": [
    "sentence = \"Today is {0} July {1}\".format(dow, date)\n",
    "print(sentence)"
   ]
  },
  {
   "cell_type": "markdown",
   "id": "008492d7",
   "metadata": {},
   "source": [
    "Another example."
   ]
  },
  {
   "cell_type": "code",
   "execution_count": 17,
   "id": "80254703",
   "metadata": {},
   "outputs": [
    {
     "name": "stdout",
     "output_type": "stream",
     "text": [
      "Today is 31 July Monday\n"
     ]
    }
   ],
   "source": [
    "sentence = \"Today is {1} July {0}\".format(dow, date)\n",
    "print(sentence)"
   ]
  },
  {
   "cell_type": "code",
   "execution_count": null,
   "id": "cb0fde5f",
   "metadata": {},
   "outputs": [],
   "source": []
  },
  {
   "cell_type": "markdown",
   "id": "0462b7ce",
   "metadata": {},
   "source": [
    "When it comes the madlib example then we need to specify the string ordering because they are multiple instances of certain strings."
   ]
  },
  {
   "cell_type": "code",
   "execution_count": 18,
   "id": "7dda11b7",
   "metadata": {},
   "outputs": [
    {
     "name": "stdout",
     "output_type": "stream",
     "text": [
      "Yvette Vargas has a pet fiesty possom. One day, Yvette Vargas saw the possom leap in the park.\n"
     ]
    }
   ],
   "source": [
    "madlib =  \"{0} has a pet {1} {2}. One day, {0} saw the {2} {3} in the park.\".format(name, adjective, animal, action)\n",
    "print(madlib)"
   ]
  },
  {
   "cell_type": "code",
   "execution_count": null,
   "id": "55108d86",
   "metadata": {},
   "outputs": [],
   "source": []
  },
  {
   "cell_type": "markdown",
   "id": "e2a8d6f9",
   "metadata": {},
   "source": [
    "For loop example"
   ]
  },
  {
   "cell_type": "code",
   "execution_count": 22,
   "id": "95cff704",
   "metadata": {},
   "outputs": [
    {
     "name": "stdout",
     "output_type": "stream",
     "text": [
      "Aishwarya Sriram loves Python!\n",
      "\n",
      "Chris Raptopoulos loves Python!\n",
      "\n",
      "Diana Chen loves Python!\n",
      "\n",
      "Frances Brittingham loves Python!\n",
      "\n",
      "Hayford Atim loves Python!\n",
      "\n",
      "Maya Schoucair loves Python!\n",
      "\n",
      "Silvana Moiceanu loves Python!\n",
      "\n",
      "Yvette Vargas loves Python!\n",
      "\n"
     ]
    }
   ],
   "source": [
    "names = ['Aishwarya Sriram', 'Chris Raptopoulos', 'Diana Chen', 'Frances Brittingham',\n",
    " 'Hayford Atim', 'Maya Schoucair', 'Silvana Moiceanu', 'Yvette Vargas']\n",
    "\n",
    "for n in names:\n",
    "    \n",
    "    print(\"{} loves Python!\\n\".format(n))"
   ]
  },
  {
   "cell_type": "markdown",
   "id": "e1a0c7eb",
   "metadata": {},
   "source": [
    "**F-strings**\n",
    "\n",
    "F-strings (Formatted String Literals) (Introduced in Python 3.6). F-strings provide a more concise and readable way of formatting strings by embedding expressions inside curly braces {} directly within the string."
   ]
  },
  {
   "cell_type": "markdown",
   "id": "2981b748",
   "metadata": {},
   "source": [
    "Put a f before the first quotation mark"
   ]
  },
  {
   "cell_type": "code",
   "execution_count": 20,
   "id": "736a62c2",
   "metadata": {},
   "outputs": [
    {
     "name": "stdout",
     "output_type": "stream",
     "text": [
      "Today is Monday July 31\n"
     ]
    }
   ],
   "source": [
    "sentence = f\"Today is {dow} July {date}\"\n",
    "print(sentence)"
   ]
  },
  {
   "cell_type": "markdown",
   "id": "bcc00305",
   "metadata": {},
   "source": [
    "Madlib example"
   ]
  },
  {
   "cell_type": "code",
   "execution_count": 21,
   "id": "e89c3558",
   "metadata": {},
   "outputs": [
    {
     "name": "stdout",
     "output_type": "stream",
     "text": [
      "Yvette Vargas has a pet fiesty possom. One day, Yvette Vargas saw the possom leap in the park.\n"
     ]
    }
   ],
   "source": [
    "madlib =  f\"{name} has a pet {adjective} {animal}. One day, {name} saw the {animal} {action} in the park.\"\n",
    "print(madlib)"
   ]
  },
  {
   "cell_type": "markdown",
   "id": "984ba09b",
   "metadata": {},
   "source": [
    "For loop example but capitalized names."
   ]
  },
  {
   "cell_type": "code",
   "execution_count": 33,
   "id": "876c68ec",
   "metadata": {},
   "outputs": [
    {
     "name": "stdout",
     "output_type": "stream",
     "text": [
      "AISHWARYA SRIRAM loves Python!\n",
      "\n",
      "CHRIS RAPTOPOULOS loves Python!\n",
      "\n",
      "DIANA CHEN loves Python!\n",
      "\n",
      "FRANCES BRITTINGHAM loves Python!\n",
      "\n",
      "HAYFORD ATIM loves Python!\n",
      "\n",
      "MAYA SCHOUCAIR loves Python!\n",
      "\n",
      "SILVANA MOICEANU loves Python!\n",
      "\n",
      "YVETTE VARGAS loves Python!\n",
      "\n"
     ]
    }
   ],
   "source": [
    "names = ['Aishwarya Sriram', 'Chris Raptopoulos', 'Diana Chen', 'Frances Brittingham',\n",
    " 'Hayford Atim', 'Maya Schoucair', 'Silvana Moiceanu', 'Yvette Vargas']\n",
    "\n",
    "for n in names:\n",
    "    \n",
    "    print(f\"{n.upper()} loves Python!\\n\")"
   ]
  },
  {
   "cell_type": "markdown",
   "id": "47fc8aac",
   "metadata": {},
   "source": [
    "What does this code tinkering show us?"
   ]
  },
  {
   "cell_type": "code",
   "execution_count": null,
   "id": "8d3cf660",
   "metadata": {},
   "outputs": [],
   "source": []
  },
  {
   "cell_type": "code",
   "execution_count": null,
   "id": "3230ea15",
   "metadata": {},
   "outputs": [],
   "source": []
  },
  {
   "cell_type": "markdown",
   "id": "08c26818",
   "metadata": {},
   "source": [
    "Not much a real difference between the two, f-strings are just a newer thing."
   ]
  },
  {
   "cell_type": "markdown",
   "id": "8be5d4ee",
   "metadata": {},
   "source": [
    "The old school example. \n",
    "\n",
    "%-formatting: The % operator is used to perform string formatting. It replaces placeholders in the string with corresponding values passed as a tuple. The placeholders are represented by % followed by a format specifier."
   ]
  },
  {
   "cell_type": "markdown",
   "id": "13707e9f",
   "metadata": {},
   "source": [
    "Don't do this, this is just for show."
   ]
  },
  {
   "cell_type": "code",
   "execution_count": 28,
   "id": "0c9f4826",
   "metadata": {},
   "outputs": [],
   "source": [
    "# sentence = \"Today is %s July %d \" % (dow, date)\n",
    "# print(sentence)"
   ]
  },
  {
   "cell_type": "code",
   "execution_count": null,
   "id": "ea33f767",
   "metadata": {},
   "outputs": [],
   "source": []
  },
  {
   "cell_type": "markdown",
   "id": "17c257c6",
   "metadata": {},
   "source": [
    "Let's amend the sentence that prints the day of the week and date by adding the correct suffix to the date"
   ]
  },
  {
   "cell_type": "code",
   "execution_count": 29,
   "id": "8faec8cb",
   "metadata": {},
   "outputs": [
    {
     "name": "stdout",
     "output_type": "stream",
     "text": [
      "Today is Monday July 31st\n"
     ]
    }
   ],
   "source": [
    "suffix = \"st\"\n",
    "\n",
    "sentence = f\"Today is {dow} July {date}{suffix}\"\n",
    "print(sentence)"
   ]
  },
  {
   "cell_type": "markdown",
   "id": "a775e1ab",
   "metadata": {},
   "source": [
    "Let's make generalize this so that it works with any date. "
   ]
  },
  {
   "cell_type": "code",
   "execution_count": null,
   "id": "50030830",
   "metadata": {},
   "outputs": [],
   "source": [
    "##CODE HERE"
   ]
  },
  {
   "cell_type": "code",
   "execution_count": null,
   "id": "c8c27402",
   "metadata": {},
   "outputs": [],
   "source": []
  },
  {
   "cell_type": "code",
   "execution_count": null,
   "id": "4c24c8a1",
   "metadata": {},
   "outputs": [],
   "source": []
  },
  {
   "cell_type": "code",
   "execution_count": null,
   "id": "c2ad67ce",
   "metadata": {},
   "outputs": [],
   "source": []
  },
  {
   "cell_type": "code",
   "execution_count": null,
   "id": "169c9a3f",
   "metadata": {},
   "outputs": [],
   "source": []
  },
  {
   "cell_type": "code",
   "execution_count": null,
   "id": "a10e978a",
   "metadata": {},
   "outputs": [],
   "source": []
  },
  {
   "cell_type": "markdown",
   "id": "9ab0e879",
   "metadata": {},
   "source": [
    "We can also unpack a list into a string using formatting.\n",
    "\n",
    "Pass a list into the `format` method with an * at the start."
   ]
  },
  {
   "cell_type": "code",
   "execution_count": 32,
   "id": "d4165cc0",
   "metadata": {},
   "outputs": [
    {
     "name": "stdout",
     "output_type": "stream",
     "text": [
      "Today's lottery numbers are 23, 55, 68, 19, 25, 56\n"
     ]
    }
   ],
   "source": [
    "## Give me six numbers\n",
    "lotto_numbers = []\n",
    "\n",
    "print(\"Today's lottery numbers are {}, {}, {}, {}, {}, {}\".format(*lotto_numbers))"
   ]
  },
  {
   "cell_type": "markdown",
   "id": "71a38ddf",
   "metadata": {},
   "source": [
    "Make sure the number of {} matches list length."
   ]
  },
  {
   "cell_type": "code",
   "execution_count": null,
   "id": "4e9489a5",
   "metadata": {},
   "outputs": [],
   "source": []
  },
  {
   "cell_type": "markdown",
   "id": "757d0d01",
   "metadata": {},
   "source": [
    "**Other ways to format strings with string-formatting**"
   ]
  },
  {
   "cell_type": "markdown",
   "id": "ebb8299c",
   "metadata": {},
   "source": [
    "Use {:.df} to round. d = decimal place."
   ]
  },
  {
   "cell_type": "code",
   "execution_count": 34,
   "id": "c9d88622",
   "metadata": {},
   "outputs": [
    {
     "data": {
      "text/plain": [
       "'The number is 4.09'"
      ]
     },
     "execution_count": 34,
     "metadata": {},
     "output_type": "execute_result"
    }
   ],
   "source": [
    "num = 4.090274\n",
    "\n",
    "\"The number is {:.2f}\".format(num)"
   ]
  },
  {
   "cell_type": "markdown",
   "id": "28947fc1",
   "metadata": {},
   "source": [
    "You can string-format while you're string-formatting."
   ]
  },
  {
   "cell_type": "code",
   "execution_count": 38,
   "id": "7e22d273",
   "metadata": {},
   "outputs": [
    {
     "data": {
      "text/plain": [
       "'The number is 4.090'"
      ]
     },
     "execution_count": 38,
     "metadata": {},
     "output_type": "execute_result"
    }
   ],
   "source": [
    "d = 3\n",
    "\n",
    "\"The number is {:.{}f}\".format(num, d)"
   ]
  },
  {
   "cell_type": "markdown",
   "id": "feb38c48",
   "metadata": {},
   "source": [
    "Comma separator for bigger numbers"
   ]
  },
  {
   "cell_type": "code",
   "execution_count": 35,
   "id": "a8301969",
   "metadata": {},
   "outputs": [
    {
     "data": {
      "text/plain": [
       "'The big number is 3,892,674,937'"
      ]
     },
     "execution_count": 35,
     "metadata": {},
     "output_type": "execute_result"
    }
   ],
   "source": [
    "big_num = 3892674937\n",
    "\n",
    "\"The big number is {:,}\".format(big_num)"
   ]
  },
  {
   "cell_type": "code",
   "execution_count": null,
   "id": "0250a057",
   "metadata": {},
   "outputs": [],
   "source": []
  },
  {
   "cell_type": "code",
   "execution_count": null,
   "id": "2794adc8",
   "metadata": {},
   "outputs": [],
   "source": []
  },
  {
   "cell_type": "markdown",
   "id": "d836f8fc",
   "metadata": {},
   "source": [
    "## List Comprehensions\n",
    "\n",
    "List comprehensions are a concise and elegant way to create lists in Python. They allow you to construct a new list by performing an operation on each element of an existing iterable (such as a list, tuple, or string) and applying an optional condition to filter the elements. List comprehensions provide a more compact and readable alternative to using traditional loops to generate lists."
   ]
  },
  {
   "cell_type": "markdown",
   "id": "b357d356",
   "metadata": {},
   "source": [
    "Create a new list that is the square of numbers 1-10."
   ]
  },
  {
   "cell_type": "markdown",
   "id": "20afb80b",
   "metadata": {},
   "source": [
    "Previous method"
   ]
  },
  {
   "cell_type": "code",
   "execution_count": 39,
   "id": "99415c26",
   "metadata": {},
   "outputs": [
    {
     "data": {
      "text/plain": [
       "[1, 4, 9, 16, 25, 36, 49, 64, 81, 100]"
      ]
     },
     "execution_count": 39,
     "metadata": {},
     "output_type": "execute_result"
    }
   ],
   "source": [
    "squares = []\n",
    "\n",
    "for i in range(1, 11):\n",
    "    squares.append(i**2)\n",
    "squares"
   ]
  },
  {
   "cell_type": "markdown",
   "id": "c0941f1e",
   "metadata": {},
   "source": [
    "List comprehension version"
   ]
  },
  {
   "cell_type": "code",
   "execution_count": 40,
   "id": "e38507e3",
   "metadata": {},
   "outputs": [
    {
     "data": {
      "text/plain": [
       "[1, 4, 9, 16, 25, 36, 49, 64, 81, 100]"
      ]
     },
     "execution_count": 40,
     "metadata": {},
     "output_type": "execute_result"
    }
   ],
   "source": [
    "squares = [i**2 for i in range(1, 11)]\n",
    "squares"
   ]
  },
  {
   "cell_type": "markdown",
   "id": "53c5c2af",
   "metadata": {},
   "source": [
    "Syntax:\n",
    "\n",
    "`new_list = [expression for item in iterable if condition]`"
   ]
  },
  {
   "cell_type": "markdown",
   "id": "e21d7425",
   "metadata": {},
   "source": [
    "`expression` is the operation or transformation to be applied to each item.\n",
    "\n",
    "`item` is the variable representing each element in the iterable.\n",
    "\n",
    "`iterable` is the original collection (e.g., list, tuple, string) from which you want to create the new list.\n",
    "\n",
    "`condition` is an optional filter that can be used to include only certain elements that satisfy a specific condition."
   ]
  },
  {
   "cell_type": "markdown",
   "id": "ca258f55",
   "metadata": {},
   "source": [
    "Square only the even numbers"
   ]
  },
  {
   "cell_type": "code",
   "execution_count": 41,
   "id": "ce7de040",
   "metadata": {},
   "outputs": [
    {
     "data": {
      "text/plain": [
       "[4, 16, 36, 64, 100]"
      ]
     },
     "execution_count": 41,
     "metadata": {},
     "output_type": "execute_result"
    }
   ],
   "source": [
    "#Old version\n",
    "\n",
    "even_squares = []\n",
    "\n",
    "for i in range(1, 11):\n",
    "    if i%2 == 0:\n",
    "        even_squares.append(i**2)\n",
    "even_squares"
   ]
  },
  {
   "cell_type": "code",
   "execution_count": 42,
   "id": "10284247",
   "metadata": {},
   "outputs": [],
   "source": [
    "even_squares = [i**2  for i in range(1, 11) if i % 2 == 0]"
   ]
  },
  {
   "cell_type": "code",
   "execution_count": null,
   "id": "5c9d89e6",
   "metadata": {},
   "outputs": [],
   "source": []
  },
  {
   "cell_type": "markdown",
   "id": "f2b73995",
   "metadata": {},
   "source": [
    "If we want to use an else clause, the syntax gets a little trickier because the `if` gets moved to the front instead of kept in the back.\n",
    "\n",
    "`new_list = [expression_if_true if condition else expression_if_false for item in iterable]`"
   ]
  },
  {
   "cell_type": "markdown",
   "id": "ce818483",
   "metadata": {},
   "source": [
    "Square the evens and double the odds"
   ]
  },
  {
   "cell_type": "code",
   "execution_count": 43,
   "id": "a201f75d",
   "metadata": {},
   "outputs": [
    {
     "data": {
      "text/plain": [
       "[2, 4, 6, 16, 10, 36, 14, 64, 18, 100]"
      ]
     },
     "execution_count": 43,
     "metadata": {},
     "output_type": "execute_result"
    }
   ],
   "source": [
    "even_squares_double_odds = [i**2 if i % 2 == 0 else i*2 for i in range(1, 11)]\n",
    "even_squares_double_odds"
   ]
  },
  {
   "cell_type": "code",
   "execution_count": null,
   "id": "014ced4b",
   "metadata": {},
   "outputs": [],
   "source": []
  },
  {
   "cell_type": "markdown",
   "id": "8053a713",
   "metadata": {},
   "source": [
    "**Nested-iterations with comprehensions**\n",
    "Syntax:\n",
    "\n",
    "`[expression for item1 in iterable1 for item2 in iterable2]`\n",
    "\n",
    "<br>\n",
    "\n",
    "Create combination pairs"
   ]
  },
  {
   "cell_type": "code",
   "execution_count": 61,
   "id": "99c6e6d4",
   "metadata": {},
   "outputs": [
    {
     "data": {
      "text/plain": [
       "[('Aishwarya Sriram', 'Chris Raptopoulos'),\n",
       " ('Aishwarya Sriram', 'Diana Chen'),\n",
       " ('Aishwarya Sriram', 'Frances Brittingham'),\n",
       " ('Aishwarya Sriram', 'Hayford Atim'),\n",
       " ('Aishwarya Sriram', 'Maya Schoucair'),\n",
       " ('Aishwarya Sriram', 'Silvana Moiceanu'),\n",
       " ('Aishwarya Sriram', 'Yvette Vargas'),\n",
       " ('Chris Raptopoulos', 'Aishwarya Sriram'),\n",
       " ('Chris Raptopoulos', 'Diana Chen'),\n",
       " ('Chris Raptopoulos', 'Frances Brittingham'),\n",
       " ('Chris Raptopoulos', 'Hayford Atim'),\n",
       " ('Chris Raptopoulos', 'Maya Schoucair'),\n",
       " ('Chris Raptopoulos', 'Silvana Moiceanu'),\n",
       " ('Chris Raptopoulos', 'Yvette Vargas'),\n",
       " ('Diana Chen', 'Aishwarya Sriram')]"
      ]
     },
     "execution_count": 61,
     "metadata": {},
     "output_type": "execute_result"
    }
   ],
   "source": [
    "pairs = [(name1, name2) for name1 in names for name2 in names if name1 != name2]\n",
    "pairs[:15]"
   ]
  },
  {
   "cell_type": "markdown",
   "id": "3fb00708",
   "metadata": {},
   "source": [
    "Using an iteration variable from an outer loop within an inner loop.\n",
    "\n",
    "\n",
    "Let's flatten this matrix into a 1d list."
   ]
  },
  {
   "cell_type": "code",
   "execution_count": 62,
   "id": "9aa6e8de",
   "metadata": {},
   "outputs": [
    {
     "data": {
      "text/plain": [
       "[1, 2, 3, 4, 5, 6, 7, 8, 9]"
      ]
     },
     "execution_count": 62,
     "metadata": {},
     "output_type": "execute_result"
    }
   ],
   "source": [
    "matrix = [[1, 2, 3],\n",
    "          [4, 5, 6],\n",
    "          [7, 8, 9]]\n",
    "\n",
    "# Nested iteration using list comprehension\n",
    "flattened_matrix = [num for row in matrix for num in row]\n",
    "\n",
    "flattened_matrix"
   ]
  },
  {
   "cell_type": "markdown",
   "id": "dd44f52a",
   "metadata": {},
   "source": [
    "In this example, we have a 2D list called `matrix`, and we want to flatten it into a 1D list using a list comprehension. The nested iteration is achieved by using two `for` loops within the list comprehension: the outer loop iterates over each row in the `matrix`, and the inner loop iterates over each element (`num`) in the current row. By doing so, we extract all the individual elements from the 2D list and create a flattened version of the `matrix`."
   ]
  },
  {
   "cell_type": "code",
   "execution_count": null,
   "id": "a63b812c",
   "metadata": {},
   "outputs": [],
   "source": [
    "\n"
   ]
  }
 ],
 "metadata": {
  "kernelspec": {
   "display_name": "Python 3 (ipykernel)",
   "language": "python",
   "name": "python3"
  },
  "language_info": {
   "codemirror_mode": {
    "name": "ipython",
    "version": 3
   },
   "file_extension": ".py",
   "mimetype": "text/x-python",
   "name": "python",
   "nbconvert_exporter": "python",
   "pygments_lexer": "ipython3",
   "version": "3.9.12"
  }
 },
 "nbformat": 4,
 "nbformat_minor": 5
}
