{
 "cells": [
  {
   "cell_type": "markdown",
   "id": "844db1c5",
   "metadata": {},
   "source": [
    "# Functions\n",
    "\n",
    "\n",
    "Agenda:\n",
    "\n",
    "    - How functions fulfill the \"DRY\" principle.\n",
    "    - Function syntax (def, return, indentation)\n",
    "    - Arguments aka parameters. Including default parameters.\n",
    "    - Lambda functions aka anonymous functions.\n",
    "    - Scope\n"
   ]
  },
  {
   "cell_type": "markdown",
   "id": "7fd87801",
   "metadata": {},
   "source": [
    "My tasks is write code that creates emails from lists of names"
   ]
  },
  {
   "cell_type": "code",
   "execution_count": null,
   "id": "fab9eee5",
   "metadata": {},
   "outputs": [],
   "source": [
    "names = ['Aishwarya Sriram', 'Chris Raptopoulos', 'Diana Chen', 'Frances Brittingham',\n",
    " 'Hayford Atim', 'Maya Schoucair', 'Silvana Moiceanu', 'Yvette Vargas']"
   ]
  },
  {
   "cell_type": "code",
   "execution_count": null,
   "id": "5f988a74",
   "metadata": {},
   "outputs": [],
   "source": [
    "template = \"{}_{}@{}.{}\"\n",
    "domain = \"berkeley\"\n",
    "suffix = \"edu\"\n",
    "\n",
    "for name in names:\n",
    "    split_names = name.split()\n",
    "    first_name = split_names[0]\n",
    "    last_name = split_names[1]\n",
    "    print(template.format(first_name.lower(),last_name.lower(), domain, suffix), \"\\n\")\n",
    "    \n",
    "    "
   ]
  },
  {
   "cell_type": "markdown",
   "id": "5b5e528b",
   "metadata": {},
   "source": [
    "Let's change the domain to gmail."
   ]
  },
  {
   "cell_type": "code",
   "execution_count": null,
   "id": "0e13265c",
   "metadata": {},
   "outputs": [],
   "source": [
    "domain = \"gmail\"\n",
    "suffix = \"com\"\n",
    "\n",
    "for name in names:\n",
    "    split_names = name.split()\n",
    "    first_name = split_names[0]\n",
    "    last_name = split_names[1]\n",
    "    print(template.format(first_name.lower(),last_name.lower(), domain, suffix), \"\\n\")\n",
    "    \n",
    "    "
   ]
  },
  {
   "cell_type": "markdown",
   "id": "9985ab9d",
   "metadata": {},
   "source": [
    "Different set of names "
   ]
  },
  {
   "cell_type": "code",
   "execution_count": null,
   "id": "5114c2a4",
   "metadata": {},
   "outputs": [],
   "source": [
    "names = ['Isabel Martin', 'Janelle Lin', 'Jeffrey Chang',\n",
    " 'Karen Wei', 'Kimberley Soriano', 'Kritika Mishra', 'Harim Lee', 'Linda Mutesi',\n",
    " 'Marie Nurdaulet', 'Miguel Rodriguez-Arias', 'Naima Amraan']"
   ]
  },
  {
   "cell_type": "code",
   "execution_count": null,
   "id": "018d214c",
   "metadata": {},
   "outputs": [],
   "source": [
    "domain = \"berkeley\"\n",
    "suffix = \"edu\"\n",
    "\n",
    "for name in names:\n",
    "    split_names = name.split()\n",
    "    first_name = split_names[0]\n",
    "    last_name = split_names[1]\n",
    "    print(template.format(first_name.lower(),last_name.lower(), domain, suffix), \"\\n\")\n",
    "    \n",
    "    "
   ]
  },
  {
   "cell_type": "markdown",
   "id": "dd4ccba2",
   "metadata": {},
   "source": [
    "Change domain again"
   ]
  },
  {
   "cell_type": "code",
   "execution_count": null,
   "id": "c44274bd",
   "metadata": {},
   "outputs": [],
   "source": [
    "domain = \"gmail\"\n",
    "suffix = \"com\"\n",
    "\n",
    "for name in names:\n",
    "    split_names = name.split()\n",
    "    first_name = split_names[0]\n",
    "    last_name = split_names[1]\n",
    "    print(template.format(first_name.lower(),last_name.lower(), domain, suffix), \"\\n\")\n",
    "    \n",
    "    "
   ]
  },
  {
   "cell_type": "code",
   "execution_count": null,
   "id": "d0474138",
   "metadata": {},
   "outputs": [],
   "source": []
  },
  {
   "cell_type": "markdown",
   "id": "a8abb41f",
   "metadata": {},
   "source": [
    "**What's the issue here with my code**\n",
    "\n",
    "\n",
    "It runs just fine and does what it's supposed to do. But code like this will earn you the ire of you classmates and colleagues."
   ]
  },
  {
   "cell_type": "code",
   "execution_count": null,
   "id": "b900c953",
   "metadata": {},
   "outputs": [],
   "source": []
  },
  {
   "cell_type": "code",
   "execution_count": null,
   "id": "fe2abcf3",
   "metadata": {},
   "outputs": [],
   "source": []
  },
  {
   "cell_type": "markdown",
   "id": "b0b50c73",
   "metadata": {},
   "source": [
    "We are not living by the \"DRY\" principle\n",
    "\n",
    "#### Do Not Repeat Yourself!"
   ]
  },
  {
   "cell_type": "markdown",
   "id": "dfc6e2e5",
   "metadata": {},
   "source": [
    "The **DRY** principle is a software development best practice that promotes code reusability, maintainability, and efficiency. \n",
    "\n",
    "The main idea behind the DRY principle is to avoid duplication of code. Instead of writing the same logic in multiple places, you should extract common functionalities into reusable components such as functions, classes, or modules. By doing so, you reduce the risk of inconsistencies, bugs, and redundant maintenance efforts."
   ]
  },
  {
   "cell_type": "code",
   "execution_count": null,
   "id": "682b8bc9",
   "metadata": {},
   "outputs": [],
   "source": []
  },
  {
   "cell_type": "markdown",
   "id": "346c7969",
   "metadata": {},
   "source": [
    "This is where **functions** come in because when you have to repeat a task you should write a function."
   ]
  },
  {
   "cell_type": "code",
   "execution_count": null,
   "id": "d13bf653",
   "metadata": {},
   "outputs": [],
   "source": []
  },
  {
   "cell_type": "markdown",
   "id": "e2ea6918",
   "metadata": {},
   "source": [
    "## What are Functions\n",
    "\n",
    "In Python, a function is a named block of reusable code that performs a specific task or set of operations. Functions help in organizing code, making it more modular, readable, and easier to maintain. Instead of writing the same code repeatedly, you can define a function and call it whenever you need to perform that particular task.\n",
    "\n",
    "Here's the general syntax for defining a function in Python:\n",
    "<br>\n",
    "   \n",
    "> `def function_name(parameters):\n",
    "    \"\"\"\n",
    "    Docstring: Optional documentation for the function.\n",
    "    \"\"\"\n",
    "    # Function body: Contains the code to perform the task.\n",
    "    # It can have statements, expressions, loops, conditionals, etc.\n",
    "    return result  # Optional return statement to provide the output/result of the function.`"
   ]
  },
  {
   "cell_type": "markdown",
   "id": "96ae5ed7",
   "metadata": {},
   "source": [
    "`def`: It is the keyword used to define a function.\n",
    "\n",
    "`function_name`: The name of the function, which should follow Python's naming rules and conventions.\n",
    "\n",
    "`parameters`: Optional input(s) that the function can accept. These are like variables that hold the values passed to the function when it's called.\n",
    "\n",
    "`Docstring`: An optional string used as documentation to describe the purpose and behavior of the function. It's good practice to include a docstring to help other developers (including yourself) understand the function's usage and functionality.\n",
    "\n",
    "Function body: The block of code within the function that executes the specific task. It can consist of statements, expressions, loops, conditionals, and other Python constructs.\n",
    "\n",
    "`return`: An optional keyword used to return a value or result from the function. If there is no return statement or the function reaches the end without returning explicitly, the function returns None."
   ]
  },
  {
   "cell_type": "markdown",
   "id": "c8c69581",
   "metadata": {},
   "source": [
    "Write a function that converts inches to feet."
   ]
  },
  {
   "cell_type": "code",
   "execution_count": null,
   "id": "d8509591",
   "metadata": {},
   "outputs": [],
   "source": [
    "def inches2feet(inches):\n",
    "    output_templ = \"\"\"{}'{}\"\"\"\n",
    "    foot = inches//12\n",
    "    inch = inches%12\n",
    "    return output_templ.format(foot, inch)"
   ]
  },
  {
   "cell_type": "markdown",
   "id": "31ebfb3a",
   "metadata": {},
   "source": [
    "Call the function by using its name followed by parentheses and passing the required arguments"
   ]
  },
  {
   "cell_type": "code",
   "execution_count": null,
   "id": "efcaaea6",
   "metadata": {},
   "outputs": [],
   "source": [
    "foot = inches2feet(73)\n",
    "foot"
   ]
  },
  {
   "cell_type": "code",
   "execution_count": null,
   "id": "7f9dfb7a",
   "metadata": {},
   "outputs": [],
   "source": [
    "foot = inches2feet(58)\n",
    "foot"
   ]
  },
  {
   "cell_type": "code",
   "execution_count": null,
   "id": "2e7e7340",
   "metadata": {},
   "outputs": [],
   "source": [
    "inches2feet(84)"
   ]
  },
  {
   "cell_type": "code",
   "execution_count": null,
   "id": "77dfaf0d",
   "metadata": {},
   "outputs": [],
   "source": []
  },
  {
   "cell_type": "code",
   "execution_count": null,
   "id": "c6992897",
   "metadata": {},
   "outputs": [],
   "source": []
  },
  {
   "cell_type": "markdown",
   "id": "98e55af1",
   "metadata": {},
   "source": [
    "Let's take our previous and redundant code and functionalize it."
   ]
  },
  {
   "cell_type": "code",
   "execution_count": null,
   "id": "f85231a6",
   "metadata": {},
   "outputs": [],
   "source": [
    "def email_formatter(name, domain, edu):\n",
    "    output_template = \"{}_{}@{}.{}\"\n",
    "    \n",
    "    split_names = name.split()\n",
    "    first_name = split_names[0]\n",
    "    last_name = split_names[1]\n",
    "    \n",
    "    output = output_template.format(first_name.lower(),last_name.lower(), domain, suffix)\n",
    "    \n",
    "    return output\n",
    "    "
   ]
  },
  {
   "cell_type": "code",
   "execution_count": null,
   "id": "a1ea419d",
   "metadata": {},
   "outputs": [],
   "source": [
    "names = ['Aishwarya Sriram', 'Chris Raptopoulos', 'Diana Chen', 'Frances Brittingham',\n",
    " 'Hayford Atim', 'Maya Schoucair', 'Silvana Moiceanu', 'Yvette Vargas']\n",
    "domain = \"berkeley\"\n",
    "suffix = \"edu\"\n",
    "\n",
    "for name in names:\n",
    "    email = email_formatter(name, domain, suffix)\n",
    "    print(email, \"\\n\")"
   ]
  },
  {
   "cell_type": "markdown",
   "id": "f5c409c6",
   "metadata": {},
   "source": [
    "Gmail"
   ]
  },
  {
   "cell_type": "code",
   "execution_count": null,
   "id": "862f64b5",
   "metadata": {},
   "outputs": [],
   "source": [
    "domain = \"gmail\"\n",
    "suffix = \"com\"\n",
    "\n",
    "for name in names:\n",
    "    email = email_formatter(name, domain, suffix)\n",
    "    print(email, \"\\n\")"
   ]
  },
  {
   "cell_type": "markdown",
   "id": "93692fe6",
   "metadata": {},
   "source": [
    "Other names"
   ]
  },
  {
   "cell_type": "code",
   "execution_count": null,
   "id": "a0e79136",
   "metadata": {},
   "outputs": [],
   "source": [
    "names = ['Isabel Martin', 'Janelle Lin', 'Jeffrey Chang',\n",
    " 'Karen Wei', 'Kimberley Soriano', 'Kritika Mishra', 'Harim Lee', 'Linda Mutesi',\n",
    " 'Marie Nurdaulet', 'Miguel Rodriguez-Arias', 'Naima Amraan']\n",
    "\n",
    "\n",
    "for name in names:\n",
    "    email = email_formatter(name, domain, suffix)\n",
    "    print(email, \"\\n\")"
   ]
  },
  {
   "cell_type": "markdown",
   "id": "2cb228e7",
   "metadata": {},
   "source": [
    "Let's practice writing functions based on previous exercises.\n",
    "\n",
    "1. Celisius to Fahrenheit\n",
    "\n",
    "2. Perimeter\n",
    "\n",
    "3. Income tax calculator\n",
    "\n",
    "4. Vowel remover\n",
    "\n",
    "5. Letter Grade remover"
   ]
  },
  {
   "cell_type": "code",
   "execution_count": null,
   "id": "52bf0e71",
   "metadata": {},
   "outputs": [],
   "source": []
  },
  {
   "cell_type": "code",
   "execution_count": null,
   "id": "dc40fa71",
   "metadata": {},
   "outputs": [],
   "source": []
  },
  {
   "cell_type": "code",
   "execution_count": null,
   "id": "703aeb87",
   "metadata": {},
   "outputs": [],
   "source": []
  },
  {
   "cell_type": "code",
   "execution_count": null,
   "id": "c6311d7f",
   "metadata": {},
   "outputs": [],
   "source": []
  },
  {
   "cell_type": "markdown",
   "id": "994e04f2",
   "metadata": {},
   "source": [
    "### Parameters/Arguments\n",
    "\n",
    "Parameters are variables declared within the parentheses of a function definition. They act as placeholders for values that you pass to the function when you call it. Parameters allow functions to receive input data, operate on it, and optionally return a result."
   ]
  },
  {
   "cell_type": "markdown",
   "id": "20d56aa4",
   "metadata": {},
   "source": [
    "Functions can also have 0 parameters"
   ]
  },
  {
   "cell_type": "code",
   "execution_count": null,
   "id": "de917476",
   "metadata": {},
   "outputs": [],
   "source": [
    "def no_params():\n",
    "    return \"Hello, World!\""
   ]
  },
  {
   "cell_type": "markdown",
   "id": "ee20a33f",
   "metadata": {},
   "source": [
    "Call the functions by passing in nothing through the parentheses"
   ]
  },
  {
   "cell_type": "code",
   "execution_count": null,
   "id": "49cacfa0",
   "metadata": {},
   "outputs": [],
   "source": [
    "no_params()"
   ]
  },
  {
   "cell_type": "markdown",
   "id": "4ba86647",
   "metadata": {},
   "source": [
    "You can also define functions with default parameter values. Default parameters are used when the function is called without providing a value for those parameters. This can be helpful when you want to make some parameters optional.\n",
    "\n",
    "Here's an example of our `email` function with a default parameter"
   ]
  },
  {
   "cell_type": "code",
   "execution_count": null,
   "id": "6aa4557a",
   "metadata": {},
   "outputs": [],
   "source": [
    "def email_formatter(name, domain= \"berkeley.edu\"):\n",
    "    output_template = \"{}_{}@{}\"\n",
    "    \n",
    "    split_names = name.split()\n",
    "    first_name = split_names[0]\n",
    "    last_name = split_names[1]\n",
    "    \n",
    "    output = output_template.format(first_name.lower(),last_name.lower(), domain, suffix)\n",
    "    \n",
    "    return output\n",
    "    "
   ]
  },
  {
   "cell_type": "markdown",
   "id": "018c1b79",
   "metadata": {},
   "source": [
    "In this example, the function has a default parameter `name=\"berkeley.edu\"`. If you call the function without an argument, it uses the default value for the name parameter. If you provide an argument, it uses that value instead."
   ]
  },
  {
   "cell_type": "code",
   "execution_count": null,
   "id": "667f3c65",
   "metadata": {},
   "outputs": [],
   "source": [
    "email_formatter(\"Robert Oppenheimer\")"
   ]
  },
  {
   "cell_type": "markdown",
   "id": "e8587d26",
   "metadata": {},
   "source": [
    "Different `domain` value"
   ]
  },
  {
   "cell_type": "code",
   "execution_count": null,
   "id": "03095224",
   "metadata": {},
   "outputs": [],
   "source": [
    "email_formatter(\"Robert Oppenheimer\", domain=\"yahoo.com\")"
   ]
  },
  {
   "cell_type": "code",
   "execution_count": null,
   "id": "442bfd42",
   "metadata": {},
   "outputs": [],
   "source": []
  },
  {
   "cell_type": "markdown",
   "id": "33ccf7ff",
   "metadata": {},
   "source": [
    "When writing default parameters make sure you place them to the right of the non-default parameters.\n",
    "\n",
    "This code executes an error"
   ]
  },
  {
   "cell_type": "code",
   "execution_count": null,
   "id": "848d5730",
   "metadata": {},
   "outputs": [],
   "source": [
    "def email_formatter(domain= \"berkeley.edu\", name):\n",
    "    output_template = \"{}_{}@{}\"\n",
    "    \n",
    "    split_names = name.split()\n",
    "    first_name = split_names[0]\n",
    "    last_name = split_names[1]\n",
    "    \n",
    "    output = output_template.format(first_name.lower(),last_name.lower(), domain, suffix)\n",
    "    \n",
    "    return output\n",
    "    "
   ]
  },
  {
   "cell_type": "code",
   "execution_count": null,
   "id": "271c4bad",
   "metadata": {},
   "outputs": [],
   "source": []
  },
  {
   "cell_type": "markdown",
   "id": "f1870d8e",
   "metadata": {},
   "source": [
    "Let's change our celisius to fahrenheit function so that it goes both ways using a default parameter"
   ]
  },
  {
   "cell_type": "code",
   "execution_count": null,
   "id": "4e2dcefe",
   "metadata": {},
   "outputs": [],
   "source": [
    "def temp_convert(temp, f=True):\n",
    "    \n",
    "    if f:\n",
    "        return temp *1.8 + 32\n",
    "    else:\n",
    "        return (temp-32)/1.8"
   ]
  },
  {
   "cell_type": "markdown",
   "id": "40632ed4",
   "metadata": {},
   "source": [
    "Go from C to F"
   ]
  },
  {
   "cell_type": "code",
   "execution_count": null,
   "id": "c7b9b294",
   "metadata": {},
   "outputs": [],
   "source": [
    "temp_convert(20)"
   ]
  },
  {
   "cell_type": "markdown",
   "id": "984e34fa",
   "metadata": {},
   "source": [
    "Go from F to C"
   ]
  },
  {
   "cell_type": "code",
   "execution_count": null,
   "id": "cc72a4ec",
   "metadata": {},
   "outputs": [],
   "source": [
    "temp_convert(68, False)"
   ]
  },
  {
   "cell_type": "code",
   "execution_count": null,
   "id": "f1200a56",
   "metadata": {},
   "outputs": [],
   "source": []
  },
  {
   "cell_type": "markdown",
   "id": "b44b64ab",
   "metadata": {},
   "source": [
    "**Let's brainstorm a function that uses a default function**"
   ]
  },
  {
   "cell_type": "code",
   "execution_count": null,
   "id": "ff083205",
   "metadata": {},
   "outputs": [],
   "source": [
    "#CODE HERE"
   ]
  },
  {
   "cell_type": "code",
   "execution_count": null,
   "id": "57f18dbb",
   "metadata": {},
   "outputs": [],
   "source": []
  },
  {
   "cell_type": "code",
   "execution_count": null,
   "id": "eccdd8e3",
   "metadata": {},
   "outputs": [],
   "source": []
  },
  {
   "cell_type": "markdown",
   "id": "5ab29086",
   "metadata": {},
   "source": [
    "### Lambda Functions"
   ]
  },
  {
   "cell_type": "markdown",
   "id": "99113962",
   "metadata": {},
   "source": [
    "Lambda functions, also known as anonymous functions, are small, concise, and single-expression functions in Python. Unlike regular functions defined using the def keyword, lambda functions do not require a function name. Instead, they are created using the lambda keyword, which allows you to define a quick, inline function in a single line of code.\n",
    "\n",
    "`lambda arguments: expression`"
   ]
  },
  {
   "cell_type": "code",
   "execution_count": null,
   "id": "cf8b764f",
   "metadata": {},
   "outputs": [],
   "source": [
    "c2f = lambda c: c*1.8 + 32"
   ]
  },
  {
   "cell_type": "markdown",
   "id": "8efb02a6",
   "metadata": {},
   "source": [
    "Call `c2f`"
   ]
  },
  {
   "cell_type": "code",
   "execution_count": null,
   "id": "22b8b65c",
   "metadata": {},
   "outputs": [],
   "source": [
    "c2f(25)"
   ]
  },
  {
   "cell_type": "markdown",
   "id": "bc75e805",
   "metadata": {},
   "source": [
    "Two parameters example with perimeter"
   ]
  },
  {
   "cell_type": "code",
   "execution_count": null,
   "id": "c0493e80",
   "metadata": {},
   "outputs": [],
   "source": [
    "perim = lambda l,w: l*2 + w*2\n",
    "perim(10, 20)"
   ]
  },
  {
   "cell_type": "markdown",
   "id": "6e065928",
   "metadata": {},
   "source": [
    "Lambda functions are commonly used in situations where you need a simple, short-lived function for a specific task, especially as an argument to higher-order functions like map(), filter(), and reduce(), or in situations where defining a full named function would be overkill."
   ]
  },
  {
   "cell_type": "code",
   "execution_count": null,
   "id": "8ed2e7fa",
   "metadata": {},
   "outputs": [],
   "source": [
    "temperatures = [12,22,9, 6, 33, 29, 40, 11, 16, 0]"
   ]
  },
  {
   "cell_type": "code",
   "execution_count": null,
   "id": "fc93a03c",
   "metadata": {},
   "outputs": [],
   "source": [
    "list(map(c2f, temperatures))"
   ]
  },
  {
   "cell_type": "markdown",
   "id": "c93b924c",
   "metadata": {},
   "source": [
    "Lambda functions are limited to simple expressions, and they cannot contain multiple statements or complex logic. As a result, they are not intended to replace regular functions entirely, but they offer a convenient and concise way to define small functions on the fly."
   ]
  },
  {
   "cell_type": "code",
   "execution_count": null,
   "id": "5014dd8a",
   "metadata": {},
   "outputs": [],
   "source": []
  },
  {
   "cell_type": "markdown",
   "id": "8f0f63d3",
   "metadata": {},
   "source": [
    "## Scope"
   ]
  },
  {
   "cell_type": "markdown",
   "id": "9db2e1c7",
   "metadata": {},
   "source": [
    "Scope in Python refers to the region or context in which a variable or name is defined and can be accessed. It defines the visibility and lifetime of a variable, determining where the variable is accessible and where it is not. Understanding scope is crucial for writing reliable and bug-free code.\n",
    "\n",
    "In Python, there are two main types of scope:\n",
    "\n",
    "Global Scope:\n",
    "\n",
    ">- Variables defined at the outermost level of a Python script or module have global scope\n",
    ">- Global variables can be accessed from anywhere in the code, including inside functions.\n",
    ">- Global variables are defined outside of any function or class, making them accessible throughout the entire script or module."
   ]
  },
  {
   "cell_type": "markdown",
   "id": "3759f263",
   "metadata": {},
   "source": [
    "Local Scope:\n",
    "\n",
    "> - Variables defined inside a function have local scope.\n",
    "> - Local variables are only accessible within the function where they are defined.\n",
    "> - They are created when the function is called and destroyed when the function exits, making their lifetime limited to the function's execution."
   ]
  },
  {
   "cell_type": "markdown",
   "id": "a7d50da2",
   "metadata": {},
   "source": [
    "Define a variable called `x` "
   ]
  },
  {
   "cell_type": "code",
   "execution_count": null,
   "id": "479fe5cf",
   "metadata": {},
   "outputs": [],
   "source": [
    "x = 2"
   ]
  },
  {
   "cell_type": "markdown",
   "id": "35de68d3",
   "metadata": {},
   "source": [
    "Define a function that uses `x` as a parameter name."
   ]
  },
  {
   "cell_type": "code",
   "execution_count": null,
   "id": "cde371b7",
   "metadata": {},
   "outputs": [],
   "source": [
    "def double(x):\n",
    "    #Overwrite x\n",
    "    x = x*2\n",
    "    return x"
   ]
  },
  {
   "cell_type": "markdown",
   "id": "36d19b40",
   "metadata": {},
   "source": [
    "Call `double`"
   ]
  },
  {
   "cell_type": "code",
   "execution_count": null,
   "id": "5ed6683c",
   "metadata": {},
   "outputs": [],
   "source": [
    "double(5)"
   ]
  },
  {
   "cell_type": "markdown",
   "id": "f8d9e1be",
   "metadata": {},
   "source": [
    "Show `x`"
   ]
  },
  {
   "cell_type": "code",
   "execution_count": null,
   "id": "b67bc32d",
   "metadata": {},
   "outputs": [],
   "source": [
    "x"
   ]
  },
  {
   "cell_type": "markdown",
   "id": "ef5fe678",
   "metadata": {},
   "source": [
    "The **global** `x` which was defined outside the function remains the unchanged.\n",
    "<br>\n",
    "The **local** `x` which was defined inside the **scope** of the function is temporary variable that disappears after calling the function"
   ]
  },
  {
   "cell_type": "markdown",
   "id": "dabbc820",
   "metadata": {},
   "source": [
    "Define `output` variable in `double`"
   ]
  },
  {
   "cell_type": "code",
   "execution_count": null,
   "id": "8cbfaea3",
   "metadata": {},
   "outputs": [],
   "source": [
    "def double(x):\n",
    "    output = x*2\n",
    "    return output"
   ]
  },
  {
   "cell_type": "code",
   "execution_count": null,
   "id": "c2640631",
   "metadata": {},
   "outputs": [],
   "source": [
    "double(10)"
   ]
  },
  {
   "cell_type": "code",
   "execution_count": null,
   "id": "7d2375d3",
   "metadata": {},
   "outputs": [],
   "source": [
    "output"
   ]
  },
  {
   "cell_type": "markdown",
   "id": "89db7a55",
   "metadata": {},
   "source": [
    "`output` only exists in the scope of the `double` function. "
   ]
  },
  {
   "cell_type": "markdown",
   "id": "28d290f4",
   "metadata": {},
   "source": [
    "Functions can interact with global variables"
   ]
  },
  {
   "cell_type": "code",
   "execution_count": null,
   "id": "c0dc1284",
   "metadata": {},
   "outputs": [],
   "source": [
    "vowels = \"aeiou\"\n",
    "def remove_vowels(txt):\n",
    "    output = \"\"\n",
    "    for i in txt:\n",
    "        if i not in vowels:\n",
    "            output += i\n",
    "    return output\n",
    "remove_vowels(\"capricorn\")"
   ]
  },
  {
   "cell_type": "code",
   "execution_count": null,
   "id": "a75752c9",
   "metadata": {},
   "outputs": [],
   "source": []
  },
  {
   "cell_type": "markdown",
   "id": "51e2fdd1",
   "metadata": {},
   "source": [
    "You can make variables inside of a function global by using the `global` keyword before defining the variable"
   ]
  },
  {
   "cell_type": "code",
   "execution_count": null,
   "id": "f0a6bed7",
   "metadata": {},
   "outputs": [],
   "source": [
    "global_var = 10\n",
    "\n",
    "def modify_global():\n",
    "    global global_var\n",
    "    global_var = 20\n",
    "\n",
    "print(global_var)  # Output: 10\n",
    "modify_global()\n",
    "print(global_var)  # "
   ]
  }
 ],
 "metadata": {
  "kernelspec": {
   "display_name": "Python 3 (ipykernel)",
   "language": "python",
   "name": "python3"
  },
  "language_info": {
   "codemirror_mode": {
    "name": "ipython",
    "version": 3
   },
   "file_extension": ".py",
   "mimetype": "text/x-python",
   "name": "python",
   "nbconvert_exporter": "python",
   "pygments_lexer": "ipython3",
   "version": "3.9.12"
  }
 },
 "nbformat": 4,
 "nbformat_minor": 5
}
