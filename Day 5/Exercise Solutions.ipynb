{
 "cells": [
  {
   "cell_type": "markdown",
   "id": "e857a0be",
   "metadata": {},
   "source": [
    "## Exercise 1: Hailstone Sequence"
   ]
  },
  {
   "cell_type": "markdown",
   "id": "58dbff06",
   "metadata": {},
   "source": [
    "Write a function that outputs the hailstone sequence for a given input integer\n",
    "\n",
    "Hint: use a while loop"
   ]
  },
  {
   "cell_type": "markdown",
   "id": "9e865441",
   "metadata": {},
   "source": [
    "Hailstone Sequences follow these rules: \n",
    "\n",
    "- If a number is even, divide it by 2 \n",
    "- If a number is odd, multiply it by 3 and add 1.\n",
    "\n",
    "This process always ends with the the number 1."
   ]
  },
  {
   "cell_type": "markdown",
   "id": "813b0963",
   "metadata": {},
   "source": [
    "Input: 20\n",
    "\n",
    "\n",
    "Output: 20, 10, 5, 16, 8, 4, 2, 1 "
   ]
  },
  {
   "cell_type": "code",
   "execution_count": 1,
   "id": "4ed3d581",
   "metadata": {},
   "outputs": [],
   "source": [
    "def hailstone(n):\n",
    "    \n",
    "    output_sequence = [n]\n",
    "    \n",
    "    while n > 1:\n",
    "        \n",
    "        if n % 2 == 0:\n",
    "            n /= 2\n",
    "        else:\n",
    "            n = n*3 + 1\n",
    "            \n",
    "        output_sequence.append(n)\n",
    "        \n",
    "    return output_sequence\n",
    "    "
   ]
  },
  {
   "cell_type": "code",
   "execution_count": 2,
   "id": "40597929",
   "metadata": {},
   "outputs": [
    {
     "data": {
      "text/plain": [
       "[20, 10.0, 5.0, 16.0, 8.0, 4.0, 2.0, 1.0]"
      ]
     },
     "execution_count": 2,
     "metadata": {},
     "output_type": "execute_result"
    }
   ],
   "source": [
    "hailstone(20)"
   ]
  },
  {
   "cell_type": "code",
   "execution_count": null,
   "id": "1426e68f",
   "metadata": {},
   "outputs": [],
   "source": []
  },
  {
   "cell_type": "markdown",
   "id": "80c1643d",
   "metadata": {},
   "source": [
    "## Exercise 2 Tax Calculator Upgrade: \n",
    "\n",
    "\n",
    "Let's bring back our tax calculator exercise but this time we'll add in another level\n",
    "\n",
    "\n",
    "Tax rate rules\n",
    "\n",
    "- 0 - 25000 => 10%\n",
    "\n",
    "- 25000 - 50,000 => 15%\n",
    "\n",
    "- 50,000 - inf => 25%"
   ]
  },
  {
   "cell_type": "markdown",
   "id": "0c109d29",
   "metadata": {},
   "source": [
    "Write a function that calculates the tax bill of a given income."
   ]
  },
  {
   "cell_type": "markdown",
   "id": "e5f8f063",
   "metadata": {},
   "source": [
    "REMEMBER THAT THE FIRST 25K IS TAXED AT 10% AND THAT THE NEXT 25K IS TAXED AT 15% AND ALL INCOME ABOVE THAT THRESHOLD IS TAXED AT 25%"
   ]
  },
  {
   "cell_type": "markdown",
   "id": "6afd7047",
   "metadata": {},
   "source": [
    "For example the tax bill 35000 dollars is 25000 * 0.1 + (35000-25000) * 0.15 = 4000"
   ]
  },
  {
   "cell_type": "code",
   "execution_count": 7,
   "id": "19c445c4",
   "metadata": {},
   "outputs": [],
   "source": [
    "def tax_calc(income):\n",
    "    \n",
    "    if income >= 50000:\n",
    "        post50k = income - 50000\n",
    "        \n",
    "        tax_bill = post50k*0.25 + (50000-25000)*0.15 + 25000*0.1\n",
    "        \n",
    "    elif income >= 25000:\n",
    "        \n",
    "        tax_bill = (income -25000)*0.15 + 25000*0.1\n",
    "        \n",
    "    else:\n",
    "        tax_bill = income*0.1\n",
    "        \n",
    "    return tax_bill\n",
    "        \n",
    "    "
   ]
  },
  {
   "cell_type": "code",
   "execution_count": 8,
   "id": "4f342f4b",
   "metadata": {},
   "outputs": [
    {
     "data": {
      "text/plain": [
       "8750.0"
      ]
     },
     "execution_count": 8,
     "metadata": {},
     "output_type": "execute_result"
    }
   ],
   "source": [
    "tax_calc(60000)"
   ]
  },
  {
   "cell_type": "code",
   "execution_count": null,
   "id": "54673643",
   "metadata": {},
   "outputs": [],
   "source": []
  },
  {
   "cell_type": "markdown",
   "id": "d303768b",
   "metadata": {},
   "source": [
    "## Exercise 3: FizzBuzz\n",
    "\n",
    "Write a function that takes in a number and prints the numbers from 1 to 100 and for multiples of 3 print \"Fizz\" instead of the number and for the multiples of 5 print \"Buzz\". "
   ]
  },
  {
   "cell_type": "markdown",
   "id": "6da3c457",
   "metadata": {},
   "source": [
    "Output: 1, \n",
    "2,\n",
    "Fizz,\n",
    "4,\n",
    "Buzz,\n",
    "Fizz,\n",
    "7,\n",
    "8,\n",
    "Fizz,\n",
    "Buzz,\n",
    "11,\n",
    "Fizz,\n",
    "13,\n",
    "14, \n",
    "Fizz Buzz,"
   ]
  },
  {
   "cell_type": "code",
   "execution_count": 12,
   "id": "b1e88f85",
   "metadata": {},
   "outputs": [],
   "source": [
    "def fizzbuzz(n):\n",
    "    \n",
    "    for i in range(1, n+1):\n",
    "        \n",
    "        if i% 5 ==0 and i %3 == 0:\n",
    "            print(\"Fizz Buzz\")\n",
    "        elif i % 5 == 0:\n",
    "            print(\"Buzz\")\n",
    "        elif i % 3 == 0:\n",
    "            print(\"Fizz\")\n",
    "        else:\n",
    "            print(i)"
   ]
  },
  {
   "cell_type": "code",
   "execution_count": 13,
   "id": "4f6118bc",
   "metadata": {},
   "outputs": [
    {
     "name": "stdout",
     "output_type": "stream",
     "text": [
      "1\n",
      "2\n",
      "Fizz\n",
      "4\n",
      "Buzz\n",
      "Fizz\n",
      "7\n",
      "8\n",
      "Fizz\n",
      "Buzz\n",
      "11\n",
      "Fizz\n",
      "13\n",
      "14\n",
      "Fizz Buzz\n"
     ]
    }
   ],
   "source": [
    "fizzbuzz(15)"
   ]
  },
  {
   "cell_type": "code",
   "execution_count": null,
   "id": "c5f389c4",
   "metadata": {},
   "outputs": [],
   "source": []
  },
  {
   "cell_type": "markdown",
   "id": "4757bfa5",
   "metadata": {},
   "source": [
    "## Exercise 4: Sideways Triangle\n",
    "\n",
    "Write a function that takes in a integer that counts up to and including that number by printing n asterisk as it counts up and down.\n",
    "\n",
    "Include a default parameter that is set to *"
   ]
  },
  {
   "cell_type": "markdown",
   "id": "1f17f621",
   "metadata": {},
   "source": [
    "Input: 5\n",
    "\n",
    "\n",
    "Output:"
   ]
  },
  {
   "cell_type": "code",
   "execution_count": 18,
   "id": "baef3a6f",
   "metadata": {},
   "outputs": [],
   "source": [
    "def sideways(n, symbol = \"*\"):\n",
    "    \n",
    "    for i in range(n+1):\n",
    "        print(symbol*i)\n",
    "        \n",
    "    for i in range(n-1, 0, -1):\n",
    "        print(symbol*i)"
   ]
  },
  {
   "cell_type": "code",
   "execution_count": 19,
   "id": "749642c8",
   "metadata": {},
   "outputs": [
    {
     "name": "stdout",
     "output_type": "stream",
     "text": [
      "\n",
      "*\n",
      "**\n",
      "***\n",
      "****\n",
      "*****\n",
      "****\n",
      "***\n",
      "**\n",
      "*\n"
     ]
    }
   ],
   "source": [
    "sideways(5)"
   ]
  },
  {
   "cell_type": "code",
   "execution_count": 20,
   "id": "19ccae8b",
   "metadata": {},
   "outputs": [
    {
     "name": "stdout",
     "output_type": "stream",
     "text": [
      "\n",
      "*\n",
      "**\n",
      "***\n",
      "****\n",
      "*****\n",
      "******\n",
      "*****\n",
      "****\n",
      "***\n",
      "**\n",
      "*\n"
     ]
    }
   ],
   "source": [
    "sideways(6)"
   ]
  },
  {
   "cell_type": "markdown",
   "id": "7dbe1506",
   "metadata": {},
   "source": [
    "While loop version"
   ]
  },
  {
   "cell_type": "code",
   "execution_count": 55,
   "id": "8373ef08",
   "metadata": {},
   "outputs": [],
   "source": [
    "def sideways2(n, symbol = \"*\"):\n",
    "    i = 1\n",
    "    up = True\n",
    "    \n",
    "    while 0 < i:\n",
    "        if up:\n",
    "            print(symbol*i)\n",
    "            i += 1\n",
    "            if i == n:\n",
    "                up = False\n",
    "        else:\n",
    "            print(symbol*i)\n",
    "            i -= 1\n",
    "    "
   ]
  },
  {
   "cell_type": "code",
   "execution_count": 56,
   "id": "0b524818",
   "metadata": {},
   "outputs": [
    {
     "name": "stdout",
     "output_type": "stream",
     "text": [
      "*\n",
      "**\n",
      "***\n",
      "****\n",
      "*****\n",
      "****\n",
      "***\n",
      "**\n",
      "*\n"
     ]
    }
   ],
   "source": [
    "sideways2(5)"
   ]
  },
  {
   "cell_type": "code",
   "execution_count": null,
   "id": "c7c35d23",
   "metadata": {},
   "outputs": [],
   "source": []
  },
  {
   "cell_type": "markdown",
   "id": "92981520",
   "metadata": {},
   "source": [
    "## Exercise 5: Case Inversion\n",
    "\n",
    "Write a function that inverts the casing of a character in a string\n",
    "\n",
    "Ex: \"His name is Dennis\" => \"hIS NAME IS deNNIS\""
   ]
  },
  {
   "cell_type": "code",
   "execution_count": 26,
   "id": "d753cb42",
   "metadata": {},
   "outputs": [],
   "source": [
    "def case_invert(string):\n",
    "    \n",
    "    output = \"\"\n",
    "    \n",
    "    for i in string:\n",
    "        if i.isupper():\n",
    "            i = i.lower()\n",
    "            output += i\n",
    "        else:\n",
    "            i = i.upper()\n",
    "            output += i\n",
    "    return output"
   ]
  },
  {
   "cell_type": "code",
   "execution_count": 27,
   "id": "c277ef29",
   "metadata": {},
   "outputs": [
    {
     "data": {
      "text/plain": [
       "'hIS NAME IS dENNIS'"
      ]
     },
     "execution_count": 27,
     "metadata": {},
     "output_type": "execute_result"
    }
   ],
   "source": [
    "case_invert(\"His name is Dennis\")"
   ]
  },
  {
   "cell_type": "markdown",
   "id": "bf8631c7",
   "metadata": {},
   "source": [
    "## Exercise 6: Extract Phone Number\n",
    "\n",
    "Write a function that takes in some text and extracts the phone number from it.\n",
    "\n",
    "Remember that the phone is in the ddd-ddd-dddd format."
   ]
  },
  {
   "cell_type": "code",
   "execution_count": 52,
   "id": "e1d125eb",
   "metadata": {},
   "outputs": [],
   "source": [
    "text = \"\"\"For general inquiries and information about the National Park Service, \n",
    "you can contact their main office through their website\n",
    "or call the NPS information line at 800-383-3839. Keep in mind that contact information and \n",
    "services may vary between different national parks, so it's best to check the \n",
    "specific park's website or contact them directly for the most accurate and up-to-date information.\"\"\""
   ]
  },
  {
   "cell_type": "code",
   "execution_count": 54,
   "id": "834a8443",
   "metadata": {},
   "outputs": [],
   "source": [
    "def extract_phone_number(text):\n",
    "    phone_number = \"\"\n",
    "\n",
    "    for char in text:\n",
    "        if char.isnumeric():\n",
    "            phone_number += char\n",
    "        elif phone_number and char == \"-\":\n",
    "            phone_number += char\n",
    "        else:\n",
    "            if len(phone_number) >= 10 and phone_number.count('-') <= 2:\n",
    "                return phone_number.strip(\"-\")"
   ]
  },
  {
   "cell_type": "code",
   "execution_count": 53,
   "id": "d3395b3c",
   "metadata": {},
   "outputs": [
    {
     "data": {
      "text/plain": [
       "'800-383-3839'"
      ]
     },
     "execution_count": 53,
     "metadata": {},
     "output_type": "execute_result"
    }
   ],
   "source": [
    "extract_phone_number(text)"
   ]
  },
  {
   "cell_type": "code",
   "execution_count": null,
   "id": "52686bf2",
   "metadata": {},
   "outputs": [],
   "source": []
  }
 ],
 "metadata": {
  "kernelspec": {
   "display_name": "Python 3 (ipykernel)",
   "language": "python",
   "name": "python3"
  },
  "language_info": {
   "codemirror_mode": {
    "name": "ipython",
    "version": 3
   },
   "file_extension": ".py",
   "mimetype": "text/x-python",
   "name": "python",
   "nbconvert_exporter": "python",
   "pygments_lexer": "ipython3",
   "version": "3.9.12"
  }
 },
 "nbformat": 4,
 "nbformat_minor": 5
}
