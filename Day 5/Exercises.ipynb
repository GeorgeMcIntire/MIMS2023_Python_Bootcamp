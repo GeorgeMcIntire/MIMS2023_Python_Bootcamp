{
 "cells": [
  {
   "cell_type": "markdown",
   "id": "e857a0be",
   "metadata": {},
   "source": [
    "## Exercise 1: Hailstone Sequence"
   ]
  },
  {
   "cell_type": "markdown",
   "id": "58dbff06",
   "metadata": {},
   "source": [
    "Write a function that outputs the hailstone sequence for a given input integer\n",
    "\n",
    "Hint: use a while loop"
   ]
  },
  {
   "cell_type": "markdown",
   "id": "9e865441",
   "metadata": {},
   "source": [
    "Hailstone Sequences follow these rules: \n",
    "\n",
    "- If a number is even, divide it by 2 \n",
    "- If a number is odd, multiply it by 3 and add 1.\n",
    "\n",
    "This process always ends with the the number 1."
   ]
  },
  {
   "cell_type": "markdown",
   "id": "813b0963",
   "metadata": {},
   "source": [
    "Input: 20\n",
    "\n",
    "\n",
    "Output: 20, 10, 5, 16, 8, 4, 2, 1 "
   ]
  },
  {
   "cell_type": "code",
   "execution_count": null,
   "id": "1426e68f",
   "metadata": {},
   "outputs": [],
   "source": []
  },
  {
   "cell_type": "markdown",
   "id": "80c1643d",
   "metadata": {},
   "source": [
    "## Exercise 2 Tax Calculator Upgrade: \n",
    "\n",
    "\n",
    "Let's bring back our tax calculator exercise but this time we'll add in another level\n",
    "\n",
    "\n",
    "Tax rate rules\n",
    "\n",
    "- 0 - 25000 => 10%\n",
    "\n",
    "- 25000 - 50,000 => 15%\n",
    "\n",
    "- 50,000 - inf => 25%"
   ]
  },
  {
   "cell_type": "markdown",
   "id": "0c109d29",
   "metadata": {},
   "source": [
    "Write a function that calculates the tax bill of a given income."
   ]
  },
  {
   "cell_type": "markdown",
   "id": "e5f8f063",
   "metadata": {},
   "source": [
    "REMEMBER THAT THE FIRST 25K IS TAXED AT 10% AND THAT THE NEXT 25K IS TAXED AT 15% AND ALL INCOME ABOVE THAT THRESHOLD IS TAXED AT 25%"
   ]
  },
  {
   "cell_type": "markdown",
   "id": "6afd7047",
   "metadata": {},
   "source": [
    "For example the tax bill 35000 dollars is 25000 * 0.1 + (35000-25000) * 0.15 = 4000"
   ]
  },
  {
   "cell_type": "code",
   "execution_count": null,
   "id": "19c445c4",
   "metadata": {},
   "outputs": [],
   "source": []
  },
  {
   "cell_type": "markdown",
   "id": "d303768b",
   "metadata": {},
   "source": [
    "## Exercise 3: FizzBuzz\n",
    "\n",
    "Write a function that takes in a number and prints the numbers from 1 to 100 and for multiples of 3 print \"Fizz\" instead of the number and for the multiples of 5 print \"Buzz\". "
   ]
  },
  {
   "cell_type": "markdown",
   "id": "6da3c457",
   "metadata": {},
   "source": [
    "Output: 1, \n",
    "2,\n",
    "Fizz,\n",
    "4,\n",
    "Buzz,\n",
    "Fizz,\n",
    "7,\n",
    "8,\n",
    "Fizz,\n",
    "Buzz,\n",
    "11,\n",
    "Fizz,\n",
    "13,\n",
    "14, \n",
    "Fizz Buzz,"
   ]
  },
  {
   "cell_type": "code",
   "execution_count": null,
   "id": "c5f389c4",
   "metadata": {},
   "outputs": [],
   "source": []
  },
  {
   "cell_type": "markdown",
   "id": "4757bfa5",
   "metadata": {},
   "source": [
    "## Exercise 4: Sideways Triangle\n",
    "\n",
    "Write a function that takes in a integer that counts up to and including that number by printing n asterisk as it counts up and down.\n",
    "\n",
    "Include a default parameter that is set to *"
   ]
  },
  {
   "cell_type": "markdown",
   "id": "1f17f621",
   "metadata": {},
   "source": [
    "Input: 5\n",
    "\n",
    "\n",
    "Output:"
   ]
  },
  {
   "cell_type": "code",
   "execution_count": 7,
   "id": "c347be01",
   "metadata": {},
   "outputs": [
    {
     "name": "stdout",
     "output_type": "stream",
     "text": [
      "\n",
      "*\n",
      "**\n",
      "***\n",
      "****\n",
      "*****\n",
      "****\n",
      "***\n",
      "**\n",
      "*\n"
     ]
    }
   ],
   "source": []
  },
  {
   "cell_type": "code",
   "execution_count": null,
   "id": "c7c35d23",
   "metadata": {},
   "outputs": [],
   "source": []
  },
  {
   "cell_type": "markdown",
   "id": "92981520",
   "metadata": {},
   "source": [
    "## Exercise 5: Case Inversion\n",
    "\n",
    "Write a function that inverts the casing of a character in a string\n",
    "\n",
    "Ex: \"His name is Dennis\" => \"hIS NAME IS deNNIS\""
   ]
  },
  {
   "cell_type": "code",
   "execution_count": null,
   "id": "d753cb42",
   "metadata": {},
   "outputs": [],
   "source": []
  },
  {
   "cell_type": "markdown",
   "id": "bf8631c7",
   "metadata": {},
   "source": [
    "## Exercise 6: Extract Phone Number\n",
    "\n",
    "Write a function that takes in some text and extracts the phone number from it.\n",
    "\n",
    "Remember that the phone is in the ddd-ddd-dddd format."
   ]
  },
  {
   "cell_type": "code",
   "execution_count": 10,
   "id": "e1d125eb",
   "metadata": {},
   "outputs": [],
   "source": [
    "text = \"\"\"For general inquiries and information about the National Park Service, \n",
    "you can contact their main office through their website\n",
    "or call the NPS information line at 800-383-3839. Keep in mind that contact information and \n",
    "services may vary between different national parks, so it's best to check the \n",
    "specific park's website or contact them directly for the most accurate and up-to-date information.\"\"\""
   ]
  },
  {
   "cell_type": "code",
   "execution_count": null,
   "id": "6b57cc93",
   "metadata": {},
   "outputs": [],
   "source": []
  }
 ],
 "metadata": {
  "kernelspec": {
   "display_name": "Python 3 (ipykernel)",
   "language": "python",
   "name": "python3"
  },
  "language_info": {
   "codemirror_mode": {
    "name": "ipython",
    "version": 3
   },
   "file_extension": ".py",
   "mimetype": "text/x-python",
   "name": "python",
   "nbconvert_exporter": "python",
   "pygments_lexer": "ipython3",
   "version": "3.9.12"
  }
 },
 "nbformat": 4,
 "nbformat_minor": 5
}
