{
 "cells": [
  {
   "cell_type": "markdown",
   "id": "7245718b",
   "metadata": {},
   "source": [
    "# Iteration\n",
    "\n",
    "\n",
    "Iteration is a fundamental concept in programming and refers to the process of repeatedly executing a block of code or performing an operation on a sequence of elements until a certain condition is met. In simpler terms, it's a way of looping through a collection of data or performing a task multiple times.\n",
    "\n",
    "In programming, iteration is crucial for tasks that involve processing a series of values, such as iterating through elements in a list, characters in a string, or key-value pairs in a dictionary. It allows you to access each element or item in the collection, perform some operation on it, and then move on to the next element, continuing this process until the end of the sequence is reached or a specific condition is satisfied.\n",
    "\n",
    "The two main types of iteration are for loops and while loops"
   ]
  },
  {
   "cell_type": "markdown",
   "id": "68415c9f",
   "metadata": {},
   "source": [
    "### For loops"
   ]
  },
  {
   "cell_type": "markdown",
   "id": "e9d74cca",
   "metadata": {},
   "source": [
    "It's called a **for loop** because you executing code **for** each item in an iterable (strings, lists, sets, tuples, and more)"
   ]
  },
  {
   "cell_type": "markdown",
   "id": "b36facaa",
   "metadata": {},
   "source": [
    "Syntax"
   ]
  },
  {
   "cell_type": "code",
   "execution_count": null,
   "id": "f278c98b",
   "metadata": {},
   "outputs": [],
   "source": [
    "temperatures = [56.2, 78.2, 91, 45.8, 79]\n",
    "\n",
    "for i in temperatures:\n",
    "    print(\"temperature is \", i)"
   ]
  },
  {
   "cell_type": "markdown",
   "id": "ecda821e",
   "metadata": {},
   "source": [
    "`i` is variable assigned to each item in the list. \n",
    "\n",
    "\n",
    "The code block gets executed and then `i` is reassigned to the next item in the list."
   ]
  },
  {
   "cell_type": "markdown",
   "id": "e895d4b7",
   "metadata": {},
   "source": [
    "I use `i` as the iteration variable because that's the pythonic way. It's an aesthetic choice and has no functional value.\n",
    "\n",
    "Since we're using temperatures it might make sense to use `temp`"
   ]
  },
  {
   "cell_type": "code",
   "execution_count": null,
   "id": "8a12ea75",
   "metadata": {},
   "outputs": [],
   "source": [
    "for temp in temperatures:\n",
    "    print(\"temperature is \", temp)"
   ]
  },
  {
   "cell_type": "markdown",
   "id": "1b215f4b",
   "metadata": {},
   "source": [
    "Variable naming guidelines must certainly to iteration variables."
   ]
  },
  {
   "cell_type": "markdown",
   "id": "a236adeb",
   "metadata": {},
   "source": [
    "THIS WORKS BUT DON'T DO IT"
   ]
  },
  {
   "cell_type": "code",
   "execution_count": null,
   "id": "8f881e23",
   "metadata": {},
   "outputs": [],
   "source": [
    "for supercalifragilisticexpialidocious in temperatures:\n",
    "    print(\"temperature is \", supercalifragilisticexpialidocious)"
   ]
  },
  {
   "cell_type": "markdown",
   "id": "52137422",
   "metadata": {},
   "source": [
    "How could we change this code in order to print the celsius version of the temperatures? Remember to go from f to c you substract 32 and divide by 1.8."
   ]
  },
  {
   "cell_type": "code",
   "execution_count": null,
   "id": "9e7b59b5",
   "metadata": {},
   "outputs": [],
   "source": [
    "#CODE HERE"
   ]
  },
  {
   "cell_type": "code",
   "execution_count": null,
   "id": "7a42bde4",
   "metadata": {},
   "outputs": [],
   "source": []
  },
  {
   "cell_type": "markdown",
   "id": "1dac8baf",
   "metadata": {},
   "source": [
    "**Enumerate Function:**\n",
    "\n",
    "The `enumerate()` function is often used with \"for\" loops to access both the elements and their corresponding indices during iteration. It returns a tuple containing the index and the value of each element."
   ]
  },
  {
   "cell_type": "code",
   "execution_count": null,
   "id": "6300e84f",
   "metadata": {},
   "outputs": [],
   "source": [
    "for i, temp in enumerate(temperatures):\n",
    "    print(\"index = \", i, \"temperature = \", temp)"
   ]
  },
  {
   "cell_type": "markdown",
   "id": "2c51d8b8",
   "metadata": {},
   "source": [
    "Another way to iterate over the index is with the `range` function"
   ]
  },
  {
   "cell_type": "markdown",
   "id": "b2c1a02d",
   "metadata": {},
   "source": [
    "`range` is built-in function that allows us to quickly access a collection of numbers"
   ]
  },
  {
   "cell_type": "code",
   "execution_count": null,
   "id": "b2bc1b10",
   "metadata": {},
   "outputs": [],
   "source": [
    "#Print the squares of numbers 0-4\n",
    "r = range(5)\n",
    "\n",
    "for i in r:\n",
    "    print(i**2)"
   ]
  },
  {
   "cell_type": "code",
   "execution_count": null,
   "id": "0dbd1f11",
   "metadata": {},
   "outputs": [],
   "source": [
    "#print the square roots of numbers 10-13\n",
    "r = range(10, 14)\n",
    "for i in r:\n",
    "    print(i**.5)"
   ]
  },
  {
   "cell_type": "code",
   "execution_count": null,
   "id": "1d4c04e9",
   "metadata": {},
   "outputs": [],
   "source": [
    "list(range(5, 12, 2))"
   ]
  },
  {
   "cell_type": "code",
   "execution_count": null,
   "id": "f6e9f637",
   "metadata": {},
   "outputs": [],
   "source": []
  },
  {
   "cell_type": "code",
   "execution_count": null,
   "id": "77c573e0",
   "metadata": {},
   "outputs": [],
   "source": [
    "for i in range(len(temperatures)):\n",
    "    temp = temperatures[i]\n",
    "    print(\"temperature\", temp)"
   ]
  },
  {
   "cell_type": "code",
   "execution_count": null,
   "id": "ed3c63cf",
   "metadata": {},
   "outputs": [],
   "source": []
  },
  {
   "cell_type": "markdown",
   "id": "27191d1b",
   "metadata": {},
   "source": [
    "Let's find the max temperature without using the `max` function"
   ]
  },
  {
   "cell_type": "code",
   "execution_count": null,
   "id": "0e808cad",
   "metadata": {},
   "outputs": [],
   "source": [
    "max_temp = 0\n",
    "#code here"
   ]
  },
  {
   "cell_type": "code",
   "execution_count": null,
   "id": "c92d8719",
   "metadata": {},
   "outputs": [],
   "source": []
  },
  {
   "cell_type": "markdown",
   "id": "72361f03",
   "metadata": {},
   "source": [
    "How would we go about printing the cumulative sum of a range of numbers.\n",
    "\n",
    "1, 3, 6, and so on? "
   ]
  },
  {
   "cell_type": "code",
   "execution_count": null,
   "id": "160e8df0",
   "metadata": {},
   "outputs": [],
   "source": [
    "#Code here"
   ]
  },
  {
   "cell_type": "code",
   "execution_count": null,
   "id": "07925c33",
   "metadata": {},
   "outputs": [],
   "source": []
  },
  {
   "cell_type": "markdown",
   "id": "3ce48c24",
   "metadata": {},
   "source": [
    "We can do iteration-ception by iterating over a list while we're iterating over a list."
   ]
  },
  {
   "cell_type": "code",
   "execution_count": null,
   "id": "7f37e83a",
   "metadata": {},
   "outputs": [],
   "source": [
    "fruits = [\"apple\", \"banana\", \"orange\", \"grape\"]\n",
    "\n",
    "vegetables = [\"kale\", \"carrots\", \"lettuce\", \"cabbage\"]"
   ]
  },
  {
   "cell_type": "code",
   "execution_count": null,
   "id": "ef9b87e5",
   "metadata": {},
   "outputs": [],
   "source": [
    "fruit_veggie_combos = []\n",
    "for f in fruits:\n",
    "    for v in vegetables:\n",
    "        fruit_veggie_combos.append((f, v))\n",
    "        \n",
    "fruit_veggie_combos"
   ]
  },
  {
   "cell_type": "markdown",
   "id": "4d86d2dc",
   "metadata": {},
   "source": [
    "**Simultaneous** iteration"
   ]
  },
  {
   "cell_type": "markdown",
   "id": "b9ac2d86",
   "metadata": {},
   "source": [
    "We can iterate over two lists at the same time through two different ways."
   ]
  },
  {
   "cell_type": "code",
   "execution_count": null,
   "id": "46ee2df4",
   "metadata": {},
   "outputs": [],
   "source": [
    "for i in range(len(fruits)):\n",
    "    \n",
    "    f = fruits[i]\n",
    "    v = vegetables[i]\n",
    "    \n",
    "    print(\"fruit = \", f, \" | \", \"vegetable = \", v)"
   ]
  },
  {
   "cell_type": "markdown",
   "id": "7c2bc21e",
   "metadata": {},
   "source": [
    "Or we can `zip` them. Here we have two iteration variables."
   ]
  },
  {
   "cell_type": "code",
   "execution_count": null,
   "id": "958d107a",
   "metadata": {},
   "outputs": [],
   "source": [
    "zipped_groceries = zip(fruits, vegetables)\n",
    "\n",
    "for f,v in zipped_groceries:\n",
    "    print(\"fruit = \", f, \" | \", \"vegetable = \", v)"
   ]
  },
  {
   "cell_type": "code",
   "execution_count": null,
   "id": "53c9f6ff",
   "metadata": {},
   "outputs": [],
   "source": []
  },
  {
   "cell_type": "markdown",
   "id": "074e6360",
   "metadata": {},
   "source": [
    "### While loops"
   ]
  },
  {
   "cell_type": "markdown",
   "id": "327d27da",
   "metadata": {},
   "source": [
    "In Python, a **while** loop is a type of loop that allows you to repeatedly execute a block of code as long as a certain condition remains true. It continues to execute the code until the condition evaluates to false. While loops are useful when the number of iterations is not known beforehand, and the loop needs to continue until a specific condition is met."
   ]
  },
  {
   "cell_type": "code",
   "execution_count": null,
   "id": "c5665660",
   "metadata": {},
   "outputs": [],
   "source": [
    "count = 1\n",
    "while count <= 5:\n",
    "    print(count)\n",
    "    count += 1"
   ]
  },
  {
   "cell_type": "markdown",
   "id": "93ee6622",
   "metadata": {},
   "source": [
    "At the start of each loop, python checks to see if that condition is true and if it is then evaluate the code block."
   ]
  },
  {
   "cell_type": "code",
   "execution_count": null,
   "id": "3e9f642b",
   "metadata": {},
   "outputs": [],
   "source": [
    "count = 10\n",
    "\n",
    "while count > 0:\n",
    "    print(count)\n",
    "    count -= 1\n",
    "\n",
    "print(\"Blastoff!\")"
   ]
  },
  {
   "cell_type": "markdown",
   "id": "15326df5",
   "metadata": {},
   "source": [
    "How would calculate the factorial for a number?"
   ]
  },
  {
   "cell_type": "code",
   "execution_count": null,
   "id": "b7f2d0c4",
   "metadata": {},
   "outputs": [],
   "source": [
    "#Code here"
   ]
  },
  {
   "cell_type": "code",
   "execution_count": null,
   "id": "28bd8c74",
   "metadata": {},
   "outputs": [],
   "source": []
  },
  {
   "cell_type": "markdown",
   "id": "5645a826",
   "metadata": {},
   "source": [
    "I'm not a big fan of these examples because this is something you can also do in a for loop. So here's one exclusive to whiile loops."
   ]
  },
  {
   "cell_type": "markdown",
   "id": "e0c16c36",
   "metadata": {},
   "source": [
    "Let's I want to extract the first digit in any multi-digit integer"
   ]
  },
  {
   "cell_type": "code",
   "execution_count": null,
   "id": "99a6854b",
   "metadata": {},
   "outputs": [],
   "source": [
    "digit = 3892\n",
    "\n",
    "while digit > 9:\n",
    "    digit //= 10\n",
    "    "
   ]
  },
  {
   "cell_type": "markdown",
   "id": "b900d530",
   "metadata": {},
   "source": [
    "Digit changes from 3892 => 389 => 38 => 3"
   ]
  },
  {
   "cell_type": "markdown",
   "id": "35f455f2",
   "metadata": {},
   "source": [
    "This works with any length digit"
   ]
  },
  {
   "cell_type": "code",
   "execution_count": null,
   "id": "1d23420e",
   "metadata": {},
   "outputs": [],
   "source": [
    "digit =9229263\n",
    "\n",
    "while digit > 9:\n",
    "    digit //= 10\n",
    "print(\"first digit = \", digit)"
   ]
  },
  {
   "cell_type": "markdown",
   "id": "a705815c",
   "metadata": {},
   "source": [
    "**BE CAREFUL OF INFINITE LOOPS**"
   ]
  },
  {
   "cell_type": "code",
   "execution_count": null,
   "id": "12a7f4a0",
   "metadata": {},
   "outputs": [],
   "source": [
    "# # This is an infinite loop because the condition 'True' will never become 'False'\n",
    "# while True:\n",
    "#     print(\"This is an infinite loop!\")\n",
    "\n",
    "#while 2>1:\n",
    "    #print(\"This is also an infinite loop!\")"
   ]
  },
  {
   "cell_type": "markdown",
   "id": "1807f98c",
   "metadata": {},
   "source": [
    "In this case, there is no condition that can make the loop exit naturally, resulting in an infinite loop that will keep printing the message forever."
   ]
  },
  {
   "cell_type": "markdown",
   "id": "79c98945",
   "metadata": {},
   "source": [
    "There are exceptions where you can do `while True:`"
   ]
  },
  {
   "cell_type": "code",
   "execution_count": null,
   "id": "c90ca409",
   "metadata": {},
   "outputs": [],
   "source": [
    "password = \"password\"\n",
    "\n",
    "while True:\n",
    "    user_input = input(\"Enter the password: \")\n",
    "    if user_input == password:\n",
    "        print(\"Access granted!\")\n",
    "        break\n",
    "    else:\n",
    "        print(\"Incorrect password. Try again.\")"
   ]
  },
  {
   "cell_type": "markdown",
   "id": "e25cc66a",
   "metadata": {},
   "source": [
    "How can we amend the code to limit the number of password attempts to 3?"
   ]
  },
  {
   "cell_type": "code",
   "execution_count": null,
   "id": "4829e146",
   "metadata": {},
   "outputs": [],
   "source": [
    "password = \"password\"\n",
    "\n",
    "while True:\n",
    "    user_input = input(\"Enter the password: \")\n",
    "    if user_input == password:\n",
    "        print(\"Access granted!\")\n",
    "        break\n",
    "    else:\n",
    "        print(\"Incorrect password. Try again.\")"
   ]
  },
  {
   "cell_type": "code",
   "execution_count": null,
   "id": "8e2d5f46",
   "metadata": {},
   "outputs": [],
   "source": []
  }
 ],
 "metadata": {
  "kernelspec": {
   "display_name": "Python 3 (ipykernel)",
   "language": "python",
   "name": "python3"
  },
  "language_info": {
   "codemirror_mode": {
    "name": "ipython",
    "version": 3
   },
   "file_extension": ".py",
   "mimetype": "text/x-python",
   "name": "python",
   "nbconvert_exporter": "python",
   "pygments_lexer": "ipython3",
   "version": "3.9.12"
  }
 },
 "nbformat": 4,
 "nbformat_minor": 5
}
