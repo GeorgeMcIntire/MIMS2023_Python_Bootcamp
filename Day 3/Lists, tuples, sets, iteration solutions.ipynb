{
 "cells": [
  {
   "cell_type": "markdown",
   "id": "a663fe6c",
   "metadata": {},
   "source": [
    "## Exercise 1\n",
    "\n",
    "Extract only the consonants from the word luguburious\n",
    "\n",
    "\n",
    "Output => \"lgbrs\""
   ]
  },
  {
   "cell_type": "code",
   "execution_count": 1,
   "id": "f6ea092f",
   "metadata": {},
   "outputs": [
    {
     "data": {
      "text/plain": [
       "'lgbrs'"
      ]
     },
     "execution_count": 1,
     "metadata": {},
     "output_type": "execute_result"
    }
   ],
   "source": [
    "consonants = \"\"\n",
    "vowels = \"aeiou\"\n",
    "word = \"luguburious\"\n",
    "\n",
    "for i in word:\n",
    "    if i not in vowels:\n",
    "        consonants += i\n",
    "        \n",
    "consonants\n"
   ]
  },
  {
   "cell_type": "code",
   "execution_count": null,
   "id": "2014dc60",
   "metadata": {},
   "outputs": [],
   "source": []
  },
  {
   "cell_type": "markdown",
   "id": "657c6081",
   "metadata": {},
   "source": [
    "## Exercise 2\n",
    "\n",
    "Part 1: \n",
    "\n",
    "\n",
    "Find the total number characters in this list of strings"
   ]
  },
  {
   "cell_type": "code",
   "execution_count": 2,
   "id": "82f8e85e",
   "metadata": {},
   "outputs": [
    {
     "data": {
      "text/plain": [
       "67"
      ]
     },
     "execution_count": 2,
     "metadata": {},
     "output_type": "execute_result"
    }
   ],
   "source": [
    "sf_streets = [\"Market\", \"Mission\", \"Lombard\", \"Geary\", \"Van Ness\", \n",
    "              \"Embarcadero\", \"Haight\", \"Divisadero Street\"]\n",
    "total_characters = 0\n",
    "\n",
    "\n",
    "for street in sf_streets:\n",
    "    \n",
    "    total_characters += len(street)\n",
    "    \n",
    "total_characters"
   ]
  },
  {
   "cell_type": "markdown",
   "id": "cf27a653",
   "metadata": {},
   "source": [
    "Part 2:\n",
    "\n",
    "Create a string that is the capitalized first letter of each street in alphabetical order."
   ]
  },
  {
   "cell_type": "code",
   "execution_count": 3,
   "id": "49876130",
   "metadata": {},
   "outputs": [
    {
     "data": {
      "text/plain": [
       "['D', 'E', 'G', 'H', 'L', 'M', 'M', 'V']"
      ]
     },
     "execution_count": 3,
     "metadata": {},
     "output_type": "execute_result"
    }
   ],
   "source": [
    "capitalized_str = \"\"\n",
    "\n",
    "for street in sf_streets:\n",
    "    capitalized_str += street[0]\n",
    "    \n",
    "sorted(capitalized_str)    "
   ]
  },
  {
   "cell_type": "markdown",
   "id": "f767be03",
   "metadata": {},
   "source": [
    "## Exercise 3\n",
    "\n",
    "Iterate over numbers 5 to 35, square the odd numbers and double the even numbers and append them to the output list."
   ]
  },
  {
   "cell_type": "code",
   "execution_count": 5,
   "id": "a384e923",
   "metadata": {},
   "outputs": [],
   "source": [
    "output = []"
   ]
  },
  {
   "cell_type": "code",
   "execution_count": 6,
   "id": "95f7018e",
   "metadata": {},
   "outputs": [
    {
     "data": {
      "text/plain": [
       "[25,\n",
       " 3.0,\n",
       " 49,\n",
       " 4.0,\n",
       " 81,\n",
       " 5.0,\n",
       " 121,\n",
       " 6.0,\n",
       " 169,\n",
       " 7.0,\n",
       " 225,\n",
       " 8.0,\n",
       " 289,\n",
       " 9.0,\n",
       " 361,\n",
       " 10.0,\n",
       " 441,\n",
       " 11.0,\n",
       " 529,\n",
       " 12.0,\n",
       " 625,\n",
       " 13.0,\n",
       " 729,\n",
       " 14.0,\n",
       " 841,\n",
       " 15.0,\n",
       " 961,\n",
       " 16.0,\n",
       " 1089,\n",
       " 17.0,\n",
       " 1225]"
      ]
     },
     "execution_count": 6,
     "metadata": {},
     "output_type": "execute_result"
    }
   ],
   "source": [
    "for i in range(5, 36):\n",
    "    \n",
    "    if i % 2 == 0:\n",
    "        output.append(i/2)\n",
    "    else:\n",
    "        output.append(i**2)\n",
    "        \n",
    "output"
   ]
  },
  {
   "cell_type": "markdown",
   "id": "cbfb9ab6",
   "metadata": {},
   "source": [
    "## Exercise 4\n",
    "\n",
    "Use python to demonstrate which sentence contains more unique words."
   ]
  },
  {
   "cell_type": "code",
   "execution_count": 7,
   "id": "b94d6f0f",
   "metadata": {},
   "outputs": [],
   "source": [
    "sentence1 = \"\"\"Data from the CDC’s National \n",
    "Health and Nutrition Examination Survey shows that America's drinking habits are changing.\n",
    "Sure, water is still our most consumed beverage, accounting for nearly half of our total consumption.\"\"\"\n",
    "\n",
    "sentence2 = \"\"\" But consumption of other beverages, like soft drinks and regular milk, \n",
    "are way down across all age groups. It’s a fascinating look into how Americans \n",
    "have replaced soda with bottled water.\"\"\"\n"
   ]
  },
  {
   "cell_type": "code",
   "execution_count": 8,
   "id": "5793632d",
   "metadata": {},
   "outputs": [],
   "source": [
    "words1 = sentence1.lower().split()\n",
    "words2 = sentence2.lower().split()"
   ]
  },
  {
   "cell_type": "code",
   "execution_count": 9,
   "id": "e3572247",
   "metadata": {},
   "outputs": [
    {
     "name": "stdout",
     "output_type": "stream",
     "text": [
      "Sentence 1 has more unique words\n"
     ]
    }
   ],
   "source": [
    "if len(set(words1)) > len(set(words2)):\n",
    "    \n",
    "    print(\"Sentence 1 has more unique words\")\n",
    "    \n",
    "else:\n",
    "    \n",
    "    print(\"Sentence 2 has more unique words\")"
   ]
  },
  {
   "cell_type": "code",
   "execution_count": null,
   "id": "909ea70d",
   "metadata": {},
   "outputs": [],
   "source": []
  },
  {
   "cell_type": "code",
   "execution_count": null,
   "id": "21a2eb1d",
   "metadata": {},
   "outputs": [],
   "source": []
  },
  {
   "cell_type": "markdown",
   "id": "2f1facb2",
   "metadata": {},
   "source": [
    "## Exercise 5\n",
    "\n",
    "Write a script that finds the standard deviation of this list of numbers"
   ]
  },
  {
   "cell_type": "markdown",
   "id": "64cd8fe0",
   "metadata": {},
   "source": [
    "Formula here:\n",
    "\n",
    "![](https://www.gstatic.com/education/formulas2/472522532/en/population_standard_deviation.svg)"
   ]
  },
  {
   "cell_type": "code",
   "execution_count": 10,
   "id": "b3e6e49e",
   "metadata": {},
   "outputs": [
    {
     "data": {
      "text/plain": [
       "20.199009876724155"
      ]
     },
     "execution_count": 10,
     "metadata": {},
     "output_type": "execute_result"
    }
   ],
   "source": [
    "num_list = list(range(30, 100, 2))\n",
    "mean = sum(num_list)/len(num_list)\n",
    "length = len(num_list)\n",
    "\n",
    "sqrd_diff = []\n",
    "\n",
    "for i in num_list:\n",
    "    sd = (i-mean)**2\n",
    "    sqrd_diff.append(sd)\n",
    "    \n",
    "stdev = (sum(sqrd_diff)/length)**.5\n",
    "stdev"
   ]
  },
  {
   "cell_type": "markdown",
   "id": "176fdc9c",
   "metadata": {},
   "source": [
    "## Exercise 6\n",
    "\n",
    "Calculate the dot product of the two lists of numbers below. Hint: use zip\n",
    "\n",
    "Explanation: The dot product is equal to the sum of the product of the horizontal components and the product of the vertical components. "
   ]
  },
  {
   "cell_type": "code",
   "execution_count": 11,
   "id": "c5428747",
   "metadata": {},
   "outputs": [
    {
     "data": {
      "text/plain": [
       "544"
      ]
     },
     "execution_count": 11,
     "metadata": {},
     "output_type": "execute_result"
    }
   ],
   "source": [
    "nums1 = range(4, 10)\n",
    "nums2 = range(11, 17)\n",
    "dp = 0\n",
    "zipped = zip(nums1, nums2)\n",
    "for i, j in zipped:\n",
    "    \n",
    "    prod = i*j\n",
    "    \n",
    "    dp += prod\n",
    "    \n",
    "dp"
   ]
  },
  {
   "cell_type": "code",
   "execution_count": null,
   "id": "dcc8fd26",
   "metadata": {},
   "outputs": [],
   "source": []
  },
  {
   "cell_type": "markdown",
   "id": "59cc992c",
   "metadata": {},
   "source": [
    "## Exercise 7\n",
    "\n",
    "Use a while loop and a set to iterate over a string until you reach a letter you've already encountered."
   ]
  },
  {
   "cell_type": "code",
   "execution_count": 12,
   "id": "b94b6c93",
   "metadata": {},
   "outputs": [],
   "source": [
    "word = 'machinelearning'"
   ]
  },
  {
   "cell_type": "code",
   "execution_count": 16,
   "id": "2f9d2d2a",
   "metadata": {},
   "outputs": [],
   "source": [
    "letter_set = set()\n",
    "i = 0\n",
    "\n",
    "while i < len(word):\n",
    "    \n",
    "    letter = word[i]\n",
    "    \n",
    "    if letter in letter_set:\n",
    "        break\n",
    "    else:\n",
    "        letter_set.add(letter)\n",
    "        \n",
    "    i += 1"
   ]
  },
  {
   "cell_type": "code",
   "execution_count": 17,
   "id": "a2eecc82",
   "metadata": {},
   "outputs": [
    {
     "data": {
      "text/plain": [
       "'e'"
      ]
     },
     "execution_count": 17,
     "metadata": {},
     "output_type": "execute_result"
    }
   ],
   "source": [
    "letter"
   ]
  },
  {
   "cell_type": "code",
   "execution_count": 18,
   "id": "0b5ad9e6",
   "metadata": {},
   "outputs": [
    {
     "data": {
      "text/plain": [
       "{'a', 'c', 'e', 'h', 'i', 'l', 'm', 'n'}"
      ]
     },
     "execution_count": 18,
     "metadata": {},
     "output_type": "execute_result"
    }
   ],
   "source": [
    "letter_set"
   ]
  },
  {
   "cell_type": "code",
   "execution_count": null,
   "id": "02f31bba",
   "metadata": {},
   "outputs": [],
   "source": []
  }
 ],
 "metadata": {
  "kernelspec": {
   "display_name": "Python 3 (ipykernel)",
   "language": "python",
   "name": "python3"
  },
  "language_info": {
   "codemirror_mode": {
    "name": "ipython",
    "version": 3
   },
   "file_extension": ".py",
   "mimetype": "text/x-python",
   "name": "python",
   "nbconvert_exporter": "python",
   "pygments_lexer": "ipython3",
   "version": "3.9.12"
  }
 },
 "nbformat": 4,
 "nbformat_minor": 5
}
