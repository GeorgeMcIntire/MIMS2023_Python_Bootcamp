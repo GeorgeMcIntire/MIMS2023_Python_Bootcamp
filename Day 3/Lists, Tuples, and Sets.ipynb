{
 "cells": [
  {
   "cell_type": "markdown",
   "id": "7ca2bdb2",
   "metadata": {},
   "source": [
    "# Lists, Tuples, and Sets\n",
    "\n",
    "\n",
    "**Agenda**\n",
    "\n",
    "    - Cover the very important data structures of lists, tuples, and sets\n",
    "    - Understand the difference among them.\n",
    "    - Learn about their methods\n",
    "    - Cover built-in python key functions frequently used with these data structures."
   ]
  },
  {
   "cell_type": "markdown",
   "id": "8b7ca233",
   "metadata": {},
   "source": [
    "### Lists\n",
    "\n",
    "A **list** is a versatile and mutable data structure that allows you to store a collection of items, such as integers, strings, or even other lists. Lists are one of the built-in data types and are denoted by square brackets.\n",
    "\n",
    "Here's how you can create a list in Python:"
   ]
  },
  {
   "cell_type": "code",
   "execution_count": null,
   "id": "6a9e6c55",
   "metadata": {},
   "outputs": [],
   "source": [
    "lst = [1,\"apple\",5.32,\"table\", True]"
   ]
  },
  {
   "cell_type": "markdown",
   "id": "0ac5b5e1",
   "metadata": {},
   "source": [
    "Lists can contain elements of different data types, and they can be modified after creation. Here are some key features and characteristics of Python lists:"
   ]
  },
  {
   "cell_type": "markdown",
   "id": "b4ec6133",
   "metadata": {},
   "source": [
    "**Ordering**: Lists maintain the order of elements as they are inserted. The first element added to the list will be at index 0, the second at index 1, and so on.\n",
    "<br><br>\n",
    "**Indexing**: You can access individual elements in a list using their index, which is an integer value representing the position of the element in the list. Indexing is zero-based, meaning the first element has an index of 0, the second has an index of 1, and so on.\n",
    "<br><br>\n",
    "**Slicing:** You can extract a portion of a list using slicing. Slicing allows you to get a subsequence of elements from the list based on start and end indices."
   ]
  },
  {
   "cell_type": "code",
   "execution_count": null,
   "id": "ed7ffb62",
   "metadata": {},
   "outputs": [],
   "source": [
    "#Access the first, third, and last items in lst\n",
    "\n",
    "print(\"first\", lst[0])\n",
    "print(\"third\", lst[2])\n",
    "print(\"last\", lst[-1])"
   ]
  },
  {
   "cell_type": "code",
   "execution_count": null,
   "id": "4a494422",
   "metadata": {},
   "outputs": [],
   "source": [
    "#Whats happens if the index is too large\n",
    "\n",
    "lst[5]"
   ]
  },
  {
   "cell_type": "code",
   "execution_count": null,
   "id": "b6a97e4b",
   "metadata": {},
   "outputs": [],
   "source": [
    "#Slice the 3rd, 4th, and 5th items\n",
    "\n",
    "lst[2:]"
   ]
  },
  {
   "cell_type": "markdown",
   "id": "fe361bbb",
   "metadata": {},
   "source": [
    "Find the length of the list "
   ]
  },
  {
   "cell_type": "code",
   "execution_count": null,
   "id": "d0a35f49",
   "metadata": {},
   "outputs": [],
   "source": [
    "len(lst)"
   ]
  },
  {
   "cell_type": "markdown",
   "id": "2206384f",
   "metadata": {},
   "source": [
    "We can use mathematical functions on lists that are exclusively numerical."
   ]
  },
  {
   "cell_type": "code",
   "execution_count": null,
   "id": "e4f96971",
   "metadata": {},
   "outputs": [],
   "source": [
    "num_list = [3.5,1,5,7,8.4,9.2, 4]\n",
    "\n",
    "print(\"max\", max(num_list))\n",
    "\n",
    "print(\"min\", min(num_list))\n",
    "\n",
    "print(\"sum\", sum(num_list))"
   ]
  },
  {
   "cell_type": "markdown",
   "id": "1bb7984b",
   "metadata": {},
   "source": [
    "Btw we can round that sum value"
   ]
  },
  {
   "cell_type": "code",
   "execution_count": null,
   "id": "72e57b08",
   "metadata": {},
   "outputs": [],
   "source": [
    "round(sum(num_list), 3)"
   ]
  },
  {
   "cell_type": "markdown",
   "id": "2351f658",
   "metadata": {},
   "source": [
    "Other ways to use max and min"
   ]
  },
  {
   "cell_type": "code",
   "execution_count": null,
   "id": "5c091893",
   "metadata": {},
   "outputs": [],
   "source": [
    "max(10, 11)"
   ]
  },
  {
   "cell_type": "code",
   "execution_count": null,
   "id": "59be5c2e",
   "metadata": {},
   "outputs": [],
   "source": [
    "min(3, -1)"
   ]
  },
  {
   "cell_type": "markdown",
   "id": "bb580742",
   "metadata": {},
   "source": [
    "How would we calculate the mean of `num_list`"
   ]
  },
  {
   "cell_type": "code",
   "execution_count": null,
   "id": "ea0a6a20",
   "metadata": {},
   "outputs": [],
   "source": [
    "#CODE here"
   ]
  },
  {
   "cell_type": "code",
   "execution_count": null,
   "id": "0dccdd8e",
   "metadata": {},
   "outputs": [],
   "source": []
  },
  {
   "cell_type": "markdown",
   "id": "45b83e44",
   "metadata": {},
   "source": [
    "Another useful built-in function is `sorted` "
   ]
  },
  {
   "cell_type": "code",
   "execution_count": null,
   "id": "8c02e114",
   "metadata": {},
   "outputs": [],
   "source": [
    "sorted_nums = sorted(num_list)\n",
    "sorted_nums"
   ]
  },
  {
   "cell_type": "markdown",
   "id": "ab359666",
   "metadata": {},
   "source": [
    "Works on strings"
   ]
  },
  {
   "cell_type": "code",
   "execution_count": null,
   "id": "0d610c39",
   "metadata": {},
   "outputs": [],
   "source": [
    "sorted(\"dvanzjak\")"
   ]
  },
  {
   "cell_type": "markdown",
   "id": "b11f456c",
   "metadata": {},
   "source": [
    "We just learned how to find the mean of a list and how to sort a list. This means we can now find the median value in a list."
   ]
  },
  {
   "cell_type": "code",
   "execution_count": null,
   "id": "39f86f85",
   "metadata": {},
   "outputs": [],
   "source": [
    "#CODE Here"
   ]
  },
  {
   "cell_type": "code",
   "execution_count": null,
   "id": "c04e9f77",
   "metadata": {},
   "outputs": [],
   "source": []
  },
  {
   "cell_type": "markdown",
   "id": "6e41ed79",
   "metadata": {},
   "source": [
    "**Tuples** are very similar to lists except for one key difference.\n",
    "<br><br>\n",
    "Tuples are **immutable** while lists are mutable, which means you can change, add, or remove elements after the list is created."
   ]
  },
  {
   "cell_type": "markdown",
   "id": "b18bdbf2",
   "metadata": {},
   "source": [
    "We can add items to `lst` through appending or concatenation"
   ]
  },
  {
   "cell_type": "markdown",
   "id": "24f96519",
   "metadata": {},
   "source": [
    "`append` is a very important list method that tacks on an object to the end of a list."
   ]
  },
  {
   "cell_type": "code",
   "execution_count": null,
   "id": "5329dde7",
   "metadata": {},
   "outputs": [],
   "source": [
    "lst.append(\"Wednesday\")"
   ]
  },
  {
   "cell_type": "code",
   "execution_count": null,
   "id": "8ad61f50",
   "metadata": {},
   "outputs": [],
   "source": [
    "lst"
   ]
  },
  {
   "cell_type": "code",
   "execution_count": null,
   "id": "6f85c75c",
   "metadata": {},
   "outputs": [],
   "source": [
    "lst2 = [\"MIMS\", \"South Hall\", 29.8]\n",
    "\n",
    "lst + lst2"
   ]
  },
  {
   "cell_type": "markdown",
   "id": "c8efb4ed",
   "metadata": {},
   "source": [
    "We can also change the individual items in a list"
   ]
  },
  {
   "cell_type": "code",
   "execution_count": null,
   "id": "6366eaa3",
   "metadata": {},
   "outputs": [],
   "source": [
    "#Swap out the 1 for a -1\n",
    "lst[0] = -1\n",
    "\n",
    "lst"
   ]
  },
  {
   "cell_type": "markdown",
   "id": "f01d298e",
   "metadata": {},
   "source": [
    "We can change multiple items in a list"
   ]
  },
  {
   "cell_type": "code",
   "execution_count": null,
   "id": "846e7a41",
   "metadata": {},
   "outputs": [],
   "source": [
    "lst[-2:] = [False, \"Thursday\"]\n",
    "lst"
   ]
  },
  {
   "cell_type": "markdown",
   "id": "55df636b",
   "metadata": {},
   "source": [
    "We can delete items in a list using `del`"
   ]
  },
  {
   "cell_type": "code",
   "execution_count": null,
   "id": "0f891fd4",
   "metadata": {},
   "outputs": [],
   "source": [
    "del lst[0]"
   ]
  },
  {
   "cell_type": "code",
   "execution_count": null,
   "id": "f3c20ad7",
   "metadata": {},
   "outputs": [],
   "source": [
    "lst"
   ]
  },
  {
   "cell_type": "markdown",
   "id": "216af439",
   "metadata": {},
   "source": [
    "We can't do this for tuples"
   ]
  },
  {
   "cell_type": "code",
   "execution_count": null,
   "id": "a3d9ca0b",
   "metadata": {},
   "outputs": [],
   "source": [
    "#Create a tuple using parentheses\n",
    "tple = (1,3,\"e\")"
   ]
  },
  {
   "cell_type": "code",
   "execution_count": null,
   "id": "211f2aac",
   "metadata": {},
   "outputs": [],
   "source": [
    "#Try to swap out the 1 for a -1\n",
    "tple[0] = -1"
   ]
  },
  {
   "cell_type": "code",
   "execution_count": null,
   "id": "5111069a",
   "metadata": {},
   "outputs": [],
   "source": [
    "del tple[0]"
   ]
  },
  {
   "cell_type": "markdown",
   "id": "17ee2695",
   "metadata": {},
   "source": [
    "**Be careful with mutability**\n",
    "\n",
    "Because lists are mutable that we have to wary of variables that are assigned to a list will also change if that list  changes."
   ]
  },
  {
   "cell_type": "code",
   "execution_count": null,
   "id": "4393dc93",
   "metadata": {},
   "outputs": [],
   "source": [
    "class_list = [\"206A\", \"271B\", \"201\", \"290\"]"
   ]
  },
  {
   "cell_type": "markdown",
   "id": "a2b7b533",
   "metadata": {},
   "source": [
    "We are going to see what happens when change the last item in `class_list`"
   ]
  },
  {
   "cell_type": "code",
   "execution_count": null,
   "id": "3a22ae4e",
   "metadata": {},
   "outputs": [],
   "source": [
    "new_class_list = class_list\n",
    "print(\"original list: \", class_list)\n",
    "print(\"new list: \", new_class_list)\n",
    "print(\"\\n\")\n",
    "class_list[-1] = \"250\"\n",
    "print(\"original list: \", class_list)\n",
    "print(\"new list: \", new_class_list)"
   ]
  },
  {
   "cell_type": "markdown",
   "id": "c961c3a9",
   "metadata": {},
   "source": [
    "**What happened here?**"
   ]
  },
  {
   "cell_type": "code",
   "execution_count": null,
   "id": "3ab4b451",
   "metadata": {},
   "outputs": [],
   "source": []
  },
  {
   "cell_type": "markdown",
   "id": "e09f49ac",
   "metadata": {},
   "source": [
    "What if we change an item in `new_class_list`?"
   ]
  },
  {
   "cell_type": "code",
   "execution_count": null,
   "id": "725d3ba9",
   "metadata": {},
   "outputs": [],
   "source": [
    "new_class_list[0] = \"206B\"\n",
    "print(\"original list: \", class_list)\n",
    "print(\"new list: \", new_class_list)"
   ]
  },
  {
   "cell_type": "code",
   "execution_count": null,
   "id": "3fdcc1f0",
   "metadata": {},
   "outputs": [],
   "source": []
  },
  {
   "cell_type": "markdown",
   "id": "7ec966c1",
   "metadata": {},
   "source": [
    "One way to get around this issue is making copies through slicing"
   ]
  },
  {
   "cell_type": "markdown",
   "id": "43050f1a",
   "metadata": {},
   "source": [
    "Bring back our code from before with a slight change"
   ]
  },
  {
   "cell_type": "code",
   "execution_count": null,
   "id": "dedb6190",
   "metadata": {},
   "outputs": [],
   "source": [
    "class_list = [\"206A\", \"271B\", \"201\", \"290\"]\n",
    "new_class_list = class_list[:]\n",
    "print(\"original list: \", class_list)\n",
    "print(\"new list: \", new_class_list)\n",
    "print(\"\\n\")\n",
    "class_list[-1] = \"250\"\n",
    "print(\"original list: \", class_list)\n",
    "print(\"new list: \", new_class_list)"
   ]
  },
  {
   "cell_type": "markdown",
   "id": "4e14057b",
   "metadata": {},
   "source": [
    "What happened here?"
   ]
  },
  {
   "cell_type": "code",
   "execution_count": null,
   "id": "4168c717",
   "metadata": {},
   "outputs": [],
   "source": []
  },
  {
   "cell_type": "code",
   "execution_count": null,
   "id": "56ea5e1b",
   "metadata": {},
   "outputs": [],
   "source": []
  },
  {
   "cell_type": "markdown",
   "id": "dc0e5a86",
   "metadata": {},
   "source": [
    "**Lists** can also contain other lists aka nested lists."
   ]
  },
  {
   "cell_type": "code",
   "execution_count": null,
   "id": "8017cfdb",
   "metadata": {},
   "outputs": [],
   "source": [
    "nested_list = [35, 22.1, 'south', [45, 23, 99, 27, 14], \"campus\"]"
   ]
  },
  {
   "cell_type": "markdown",
   "id": "47321bf4",
   "metadata": {},
   "source": [
    "How would we access an item or items in the list inside of nested_list"
   ]
  },
  {
   "cell_type": "markdown",
   "id": "a55910bf",
   "metadata": {},
   "source": [
    "Write some code that retrieves the number 99 and a list slice of [45, 23]"
   ]
  },
  {
   "cell_type": "code",
   "execution_count": null,
   "id": "be8c590d",
   "metadata": {},
   "outputs": [],
   "source": [
    "#CODE HERE"
   ]
  },
  {
   "cell_type": "code",
   "execution_count": null,
   "id": "56d8a1f9",
   "metadata": {},
   "outputs": [],
   "source": []
  },
  {
   "cell_type": "markdown",
   "id": "1d26f34c",
   "metadata": {},
   "source": [
    "Other `list` methods"
   ]
  },
  {
   "cell_type": "markdown",
   "id": "77a6c594",
   "metadata": {},
   "source": [
    "What's the difference between `append` and `extend` in this example"
   ]
  },
  {
   "cell_type": "code",
   "execution_count": null,
   "id": "6f1b9262",
   "metadata": {},
   "outputs": [],
   "source": [
    "lst1 = [4,7,10]\n",
    "lst2 = [5,8,11]\n",
    "\n",
    "lst1.append(lst2)\n",
    "lst1"
   ]
  },
  {
   "cell_type": "code",
   "execution_count": null,
   "id": "02795bfd",
   "metadata": {},
   "outputs": [],
   "source": [
    "lst1 = [4,7,10]\n",
    "lst2 = [5,8,11]\n",
    "\n",
    "lst1.extend(lst2)\n",
    "lst1"
   ]
  },
  {
   "cell_type": "markdown",
   "id": "bb4feab5",
   "metadata": {},
   "source": [
    "`index`"
   ]
  },
  {
   "cell_type": "code",
   "execution_count": null,
   "id": "c8cf97a1",
   "metadata": {},
   "outputs": [],
   "source": [
    "california_cities = ['Los Angeles', 'San Francisco', 'San Diego', 'San Jose', 'Sacramento', \n",
    "                     'Fresno', 'Long Beach', 'Oakland', 'Santa Ana', 'Anaheim', 'Bakersfield', \n",
    "                     'Riverside', 'Stockton', 'Irvine', 'Chula Vista', 'Fremont', 'San Bernardino', \n",
    "                     'Modesto', 'Fontana', 'Oxnard', 'Moreno Valley', 'Glendale', 'Huntington Beach', \n",
    "                     'Santa Clarita', 'Garden Grove', 'Oceanside', 'Rancho Cucamonga', 'Santa Rosa', \n",
    "                     'Ontario', 'Elk Grove', 'Corona', 'Lancaster', 'Palmdale', 'Salinas', 'Pomona', \n",
    "                     'Hayward', 'Escondido', 'Torrance', 'Sunnyvale', 'Orange', 'Fullerton', 'Pasadena', \n",
    "                     'Thousand Oaks', 'Visalia', 'Simi Valley', 'Concord', 'Roseville', 'Santa Clara', 'Vallejo', \n",
    "                     'Victorville', 'El Monte', 'Berkeley', 'Downey', 'Costa Mesa', 'Inglewood', 'Carlsbad', \n",
    "                     'San Buenaventura (Ventura)', 'Fairfield', 'West Covina', 'Murrieta', 'Richmond', 'Norwalk']"
   ]
  },
  {
   "cell_type": "markdown",
   "id": "d828f2cb",
   "metadata": {},
   "source": [
    "I have a really long list here, how can I find the index of a certain city?\n",
    "\n",
    "Use `.index`"
   ]
  },
  {
   "cell_type": "code",
   "execution_count": null,
   "id": "837f751a",
   "metadata": {},
   "outputs": [],
   "source": [
    "glendale_index = california_cities.index(\"Glendale\")\n",
    "glendale_index"
   ]
  },
  {
   "cell_type": "markdown",
   "id": "de1b1b57",
   "metadata": {},
   "source": [
    "Lists also have a `.count` method"
   ]
  },
  {
   "cell_type": "code",
   "execution_count": null,
   "id": "0a630017",
   "metadata": {},
   "outputs": [],
   "source": [
    "[1,1,2,3,4,5].count(1)"
   ]
  },
  {
   "cell_type": "markdown",
   "id": "ce9e314b",
   "metadata": {},
   "source": [
    "## Sets\n",
    "\n",
    "In Python, a **set** is an unordered collection of unique elements. It is a built-in data type and is denoted by curly braces {}. Sets are used to store distinct items, meaning each element in a set can only appear once. If you try to add a duplicate element to a set, it will be ignored, and the set will remain unchanged.\n",
    "\n",
    "Here's how you can create a set in Python:"
   ]
  },
  {
   "cell_type": "code",
   "execution_count": null,
   "id": "8bb2edf0",
   "metadata": {},
   "outputs": [],
   "source": [
    "# Creating an empty set\n",
    "empty_set = set()\n",
    "\n",
    "# Creating a set with some elements\n",
    "unique_ids = {\"3d783bd\", \"9327d23d\", \"sk1083d27\"}"
   ]
  },
  {
   "cell_type": "markdown",
   "id": "bd91ff97",
   "metadata": {},
   "source": [
    "Sets can only contain unique elements. If you try to add a duplicate element, it won't change the set."
   ]
  },
  {
   "cell_type": "code",
   "execution_count": null,
   "id": "be65d7cb",
   "metadata": {},
   "outputs": [],
   "source": [
    "unique_ids.add(\"sk1083d27\")"
   ]
  },
  {
   "cell_type": "code",
   "execution_count": null,
   "id": "79e27cf1",
   "metadata": {},
   "outputs": [],
   "source": [
    "unique_ids"
   ]
  },
  {
   "cell_type": "markdown",
   "id": "4d4e6ead",
   "metadata": {},
   "source": [
    "Unordered: Sets are unordered, which means the elements are not stored in any specific order. When you print a set, the elements may appear in a different order than they were inserted."
   ]
  },
  {
   "cell_type": "markdown",
   "id": "316d432a",
   "metadata": {},
   "source": [
    "You can quickly check if an element is present in a set using the in keyword. This also applies to lists and tuples\n",
    "\n"
   ]
  },
  {
   "cell_type": "code",
   "execution_count": null,
   "id": "2e006263",
   "metadata": {},
   "outputs": [],
   "source": [
    "\"sk1083d27\" in unique_ids"
   ]
  },
  {
   "cell_type": "code",
   "execution_count": null,
   "id": "15e940cc",
   "metadata": {},
   "outputs": [],
   "source": [
    "\"San Francisco\" in california_cities"
   ]
  },
  {
   "cell_type": "code",
   "execution_count": null,
   "id": "dba6c614",
   "metadata": {},
   "outputs": [],
   "source": [
    "1 in tple"
   ]
  },
  {
   "cell_type": "markdown",
   "id": "d009a9dc",
   "metadata": {},
   "source": [
    "Sets support various set operations like union, intersection, difference, and symmetric difference. These operations allow you to combine sets in different ways."
   ]
  },
  {
   "cell_type": "code",
   "execution_count": null,
   "id": "ff8f4f5c",
   "metadata": {},
   "outputs": [],
   "source": [
    "unique_ids2 = {\"sk1083d27\", \"ch973c367\", \"mx92cv683\"}\n",
    "\n",
    "\n",
    "union_ids = unique_ids.union(unique_ids2)\n",
    "union_ids"
   ]
  },
  {
   "cell_type": "code",
   "execution_count": null,
   "id": "665cf81e",
   "metadata": {},
   "outputs": [],
   "source": [
    "intersection_ids = unique_ids.intersection(unique_ids2)  # Set intersection\n",
    "intersection_ids"
   ]
  },
  {
   "cell_type": "code",
   "execution_count": null,
   "id": "9951fcae",
   "metadata": {},
   "outputs": [],
   "source": [
    "difference_ids = unique_ids.difference(unique_ids2)  # Set difference\n",
    "difference_ids"
   ]
  },
  {
   "cell_type": "code",
   "execution_count": null,
   "id": "7a1ba045",
   "metadata": {},
   "outputs": [],
   "source": [
    "symmetric_difference_set = unique_ids.symmetric_difference(unique_ids2)  # Set symmetric difference\n",
    "symmetric_difference_set"
   ]
  },
  {
   "cell_type": "code",
   "execution_count": null,
   "id": "ff73d57f",
   "metadata": {},
   "outputs": [],
   "source": []
  }
 ],
 "metadata": {
  "kernelspec": {
   "display_name": "Python 3 (ipykernel)",
   "language": "python",
   "name": "python3"
  },
  "language_info": {
   "codemirror_mode": {
    "name": "ipython",
    "version": 3
   },
   "file_extension": ".py",
   "mimetype": "text/x-python",
   "name": "python",
   "nbconvert_exporter": "python",
   "pygments_lexer": "ipython3",
   "version": "3.9.12"
  }
 },
 "nbformat": 4,
 "nbformat_minor": 5
}
