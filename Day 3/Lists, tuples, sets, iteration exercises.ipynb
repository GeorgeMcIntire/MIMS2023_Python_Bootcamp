{
 "cells": [
  {
   "cell_type": "markdown",
   "id": "a663fe6c",
   "metadata": {},
   "source": [
    "## Exercise 1\n",
    "\n",
    "Extract only the consonants from the word luguburious\n",
    "\n",
    "\n",
    "Output => \"lgbrs\""
   ]
  },
  {
   "cell_type": "code",
   "execution_count": 1,
   "id": "f6ea092f",
   "metadata": {},
   "outputs": [],
   "source": [
    "consonants = \"\"\n",
    "vowels = \"aeiou\"\n",
    "word = \"luguburious\"\n"
   ]
  },
  {
   "cell_type": "code",
   "execution_count": null,
   "id": "2014dc60",
   "metadata": {},
   "outputs": [],
   "source": []
  },
  {
   "cell_type": "markdown",
   "id": "657c6081",
   "metadata": {},
   "source": [
    "## Exercise 2\n",
    "\n",
    "Part 1: \n",
    "\n",
    "\n",
    "Find the total number characters in this list of strings"
   ]
  },
  {
   "cell_type": "code",
   "execution_count": 3,
   "id": "82f8e85e",
   "metadata": {},
   "outputs": [],
   "source": [
    "sf_streets = [\"Market\", \"Mission\", \"Lombard\", \"Geary\", \"Van Ness\", \n",
    "              \"Embarcadero\", \"Haight\", \"Divisadero Street\"]\n",
    "total_characters = 0"
   ]
  },
  {
   "cell_type": "markdown",
   "id": "cf27a653",
   "metadata": {},
   "source": [
    "Part 2:\n",
    "\n",
    "Create a string that is the capitalized first letter of each street in alphabetical order."
   ]
  },
  {
   "cell_type": "code",
   "execution_count": 5,
   "id": "49876130",
   "metadata": {},
   "outputs": [],
   "source": [
    "capitalized_str = \"\""
   ]
  },
  {
   "cell_type": "markdown",
   "id": "f767be03",
   "metadata": {},
   "source": [
    "## Exercise 3\n",
    "\n",
    "Iterate over numbers 5 to 35, square the odd numbers and double the even numbers and append them to the output list."
   ]
  },
  {
   "cell_type": "code",
   "execution_count": 4,
   "id": "a384e923",
   "metadata": {},
   "outputs": [],
   "source": [
    "output = []"
   ]
  },
  {
   "cell_type": "code",
   "execution_count": null,
   "id": "95f7018e",
   "metadata": {},
   "outputs": [],
   "source": []
  },
  {
   "cell_type": "markdown",
   "id": "cbfb9ab6",
   "metadata": {},
   "source": [
    "## Exercise 4\n",
    "\n",
    "Use python to demonstrate which sentence contains more unique words."
   ]
  },
  {
   "cell_type": "code",
   "execution_count": null,
   "id": "b94d6f0f",
   "metadata": {},
   "outputs": [],
   "source": [
    "sentence1 = \"\"\"Data from the CDC’s National \n",
    "Health and Nutrition Examination Survey shows that America's drinking habits are changing.\n",
    "Sure, water is still our most consumed beverage, accounting for nearly half of our total consumption.\"\"\"\n",
    "\n",
    "sentence2 = \"\"\" But consumption of other beverages, like soft drinks and regular milk, \n",
    "are way down across all age groups. It’s a fascinating look into how Americans \n",
    "have replaced soda with bottled water.\"\"\"\n"
   ]
  },
  {
   "cell_type": "markdown",
   "id": "b162afbe",
   "metadata": {},
   "source": []
  },
  {
   "cell_type": "markdown",
   "id": "2f1facb2",
   "metadata": {},
   "source": [
    "## Exercise 5\n",
    "\n",
    "Write a script that finds the standard deviation of this list of numbers"
   ]
  },
  {
   "cell_type": "markdown",
   "id": "64cd8fe0",
   "metadata": {},
   "source": [
    "Formula here:\n",
    "\n",
    "![](https://www.gstatic.com/education/formulas2/472522532/en/population_standard_deviation.svg)"
   ]
  },
  {
   "cell_type": "code",
   "execution_count": null,
   "id": "b3e6e49e",
   "metadata": {},
   "outputs": [],
   "source": [
    "num_list = list(range(30, 100, 2))"
   ]
  },
  {
   "cell_type": "markdown",
   "id": "176fdc9c",
   "metadata": {},
   "source": [
    "## Exercise 6\n",
    "\n",
    "Calculate the dot product of the two lists of numbers below. Hint: use zip\n",
    "\n",
    "Explanation: The dot product is equal to the sum of the product of the horizontal components and the product of the vertical components. "
   ]
  },
  {
   "cell_type": "code",
   "execution_count": 6,
   "id": "c5428747",
   "metadata": {},
   "outputs": [],
   "source": [
    "nums1 = range(4, 10)\n",
    "nums2 = range(11, 17)"
   ]
  },
  {
   "cell_type": "code",
   "execution_count": null,
   "id": "dcc8fd26",
   "metadata": {},
   "outputs": [],
   "source": []
  },
  {
   "cell_type": "markdown",
   "id": "59cc992c",
   "metadata": {},
   "source": [
    "## Exercise 7\n",
    "\n",
    "Use a while loop and a set to iterate over a string until you reach a letter you've already encountered."
   ]
  },
  {
   "cell_type": "code",
   "execution_count": null,
   "id": "b94b6c93",
   "metadata": {},
   "outputs": [],
   "source": [
    "word = 'machinelearning'"
   ]
  },
  {
   "cell_type": "markdown",
   "id": "0c804b87",
   "metadata": {},
   "source": [
    "Bonus\n",
    "\n",
    "Add a part that tells what index position of the first duplicate character."
   ]
  },
  {
   "cell_type": "code",
   "execution_count": null,
   "id": "02f31bba",
   "metadata": {},
   "outputs": [],
   "source": []
  }
 ],
 "metadata": {
  "kernelspec": {
   "display_name": "Python 3 (ipykernel)",
   "language": "python",
   "name": "python3"
  },
  "language_info": {
   "codemirror_mode": {
    "name": "ipython",
    "version": 3
   },
   "file_extension": ".py",
   "mimetype": "text/x-python",
   "name": "python",
   "nbconvert_exporter": "python",
   "pygments_lexer": "ipython3",
   "version": "3.9.12"
  }
 },
 "nbformat": 4,
 "nbformat_minor": 5
}
