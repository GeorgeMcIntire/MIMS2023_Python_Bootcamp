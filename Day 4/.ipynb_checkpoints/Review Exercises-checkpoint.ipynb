{
 "cells": [
  {
   "cell_type": "markdown",
   "id": "fd074946",
   "metadata": {},
   "source": [
    "# Walkthrough Exercises\n",
    "\n",
    "\n",
    "These are exercises I will you through."
   ]
  },
  {
   "cell_type": "markdown",
   "id": "f4a7e52c",
   "metadata": {},
   "source": [
    "## Exercise 1: Prime Numbers\n"
   ]
  },
  {
   "cell_type": "markdown",
   "id": "b1b5ca39",
   "metadata": {},
   "source": [
    "Check to see if a number is prime. "
   ]
  },
  {
   "cell_type": "markdown",
   "id": "246d62e2",
   "metadata": {},
   "source": [
    "8 => not prime\n",
    "<br>\n",
    "7 => prime"
   ]
  },
  {
   "cell_type": "code",
   "execution_count": 1,
   "id": "ce0a6cb5",
   "metadata": {},
   "outputs": [],
   "source": [
    "#CODE HERE"
   ]
  },
  {
   "cell_type": "markdown",
   "id": "6f6d4805",
   "metadata": {},
   "source": [
    "## Exercise 2: Find other anagrams\n",
    "\n",
    "Extract the strings from `strings` that have a fellow anagram.\n",
    "\n",
    "Expected output = [\"cat\", \"act\", \"god\", \"dog\"]"
   ]
  },
  {
   "cell_type": "markdown",
   "id": "1fa9166f",
   "metadata": {},
   "source": [
    "cat is extracted because there's also act in the list.  \n",
    "\n",
    "day is not extracted because none of the other strings are its anagram."
   ]
  },
  {
   "cell_type": "code",
   "execution_count": 2,
   "id": "60acc620",
   "metadata": {},
   "outputs": [],
   "source": [
    "strings = [\"cat\", \"act\", \"god\", \"dog\", \"day\", \"ace\"]"
   ]
  },
  {
   "cell_type": "code",
   "execution_count": null,
   "id": "1805dcc5",
   "metadata": {},
   "outputs": [],
   "source": []
  },
  {
   "cell_type": "markdown",
   "id": "4a72af6c",
   "metadata": {},
   "source": [
    "## Exercise 3: Match Ends\n",
    "\n",
    "Given a list of strings, return the count of the number of strings\n",
    "    where the string length is 2 or more and the first and last chars\n",
    "    of the string are the same."
   ]
  },
  {
   "cell_type": "markdown",
   "id": "0981f3c5",
   "metadata": {},
   "source": [
    "Input = ['aba', 'xyz', 'aa', 'x', 'bbb']\n",
    "\n",
    "Output = 3"
   ]
  },
  {
   "cell_type": "code",
   "execution_count": 3,
   "id": "145e45e5",
   "metadata": {},
   "outputs": [],
   "source": [
    "lst = ['aba', 'xyz', 'aa', 'x', 'bbb']\n",
    "lst2 = ['', 'x', 'xy', 'xyx', 'xx']"
   ]
  },
  {
   "cell_type": "code",
   "execution_count": null,
   "id": "89a9dc22",
   "metadata": {},
   "outputs": [],
   "source": []
  },
  {
   "cell_type": "markdown",
   "id": "14ead771",
   "metadata": {},
   "source": [
    "## Exercise 4: Times Tables\n",
    "\n",
    "Create the multiplication table below"
   ]
  },
  {
   "cell_type": "code",
   "execution_count": null,
   "id": "1b97d84b",
   "metadata": {},
   "outputs": [],
   "source": [
    "#CODE HERE"
   ]
  },
  {
   "cell_type": "code",
   "execution_count": null,
   "id": "65982088",
   "metadata": {},
   "outputs": [],
   "source": []
  },
  {
   "cell_type": "markdown",
   "id": "74260d58",
   "metadata": {},
   "source": [
    "Expected output"
   ]
  },
  {
   "cell_type": "code",
   "execution_count": 10,
   "id": "0eea3695",
   "metadata": {},
   "outputs": [
    {
     "name": "stdout",
     "output_type": "stream",
     "text": [
      "1 2 3 4 5 6 7 8 9 10\n",
      "2 4 6 8 10 12 14 16 18 20\n",
      "3 6 9 12 15 18 21 24 27 30\n",
      "4 8 12 16 20 24 28 32 36 40\n",
      "5 10 15 20 25 30 35 40 45 50\n",
      "6 12 18 24 30 36 42 48 54 60\n",
      "7 14 21 28 35 42 49 56 63 70\n",
      "8 16 24 32 40 48 56 64 72 80\n",
      "9 18 27 36 45 54 63 72 81 90\n",
      "10 20 30 40 50 60 70 80 90 100\n"
     ]
    }
   ],
   "source": [
    "#DON\"T RUN THIS CELL OR ELSE YOU\"LL LOSE THE TIMES TABLE"
   ]
  },
  {
   "cell_type": "markdown",
   "id": "0bbed978",
   "metadata": {},
   "source": [
    "## Exercise 5: Rotation\n",
    "\n",
    "Rotate the values for x,y,z\n",
    "\n",
    "So that x =>y, y=>z, z =>\n",
    "\n",
    "Input: x = 10, y = 20, z = 30\n",
    "<br>\n",
    "Output: x = 30, y = 10, z = 20"
   ]
  },
  {
   "cell_type": "code",
   "execution_count": 11,
   "id": "aacacbab",
   "metadata": {},
   "outputs": [],
   "source": [
    "x = 10\n",
    "y = 20\n",
    "z = 30"
   ]
  },
  {
   "cell_type": "code",
   "execution_count": null,
   "id": "191b7318",
   "metadata": {},
   "outputs": [],
   "source": []
  },
  {
   "cell_type": "markdown",
   "id": "40fc3293",
   "metadata": {},
   "source": [
    "## Exercise 6: Vowel Race\n",
    "\n",
    "We have two text passages. We're going to count up the number of vowels in each passage until one of them reaches 10.\n",
    "\n",
    "Hint: casing"
   ]
  },
  {
   "cell_type": "code",
   "execution_count": 14,
   "id": "90345b7c",
   "metadata": {},
   "outputs": [],
   "source": [
    "passage1 = \"\"\"The whole idea of a cover letter is that it can help the employer see you as more than just your résumé. \n",
    "Managers generally aren’t hiring based solely on your work history\"\"\"\n",
    "\n",
    "passage2 = \"\"\"The No. 1 mistake people make with cover letters is that they simply use them to summarize their résumé. \n",
    "This makes no sense — hiring managers don’t need a summary of your résumé! It’s on the very next page!\"\"\""
   ]
  },
  {
   "cell_type": "code",
   "execution_count": 15,
   "id": "a18016cc",
   "metadata": {},
   "outputs": [],
   "source": [
    "vowels = \"aeiou\""
   ]
  },
  {
   "cell_type": "code",
   "execution_count": 18,
   "id": "7e9dbb71",
   "metadata": {},
   "outputs": [],
   "source": []
  },
  {
   "cell_type": "code",
   "execution_count": null,
   "id": "ea4e9a9b",
   "metadata": {},
   "outputs": [],
   "source": []
  },
  {
   "cell_type": "markdown",
   "id": "88367268",
   "metadata": {},
   "source": [
    "# Practice Exercises\n",
    "\n",
    "These exercises you work on individually"
   ]
  },
  {
   "cell_type": "markdown",
   "id": "d2d9af57",
   "metadata": {},
   "source": [
    "## Exercise 1: Sorting and flattening\n"
   ]
  },
  {
   "cell_type": "markdown",
   "id": "d4961393",
   "metadata": {},
   "source": [
    "Collect all the numbers in a list of lists into one list and sort them."
   ]
  },
  {
   "cell_type": "code",
   "execution_count": 4,
   "id": "d8935a1d",
   "metadata": {},
   "outputs": [],
   "source": [
    "nested_list = [[2,3], [9,2,51,6],[9,1,22,44,12],[0]]"
   ]
  },
  {
   "cell_type": "code",
   "execution_count": null,
   "id": "4f9f2c53",
   "metadata": {},
   "outputs": [],
   "source": []
  },
  {
   "cell_type": "markdown",
   "id": "6070d34d",
   "metadata": {},
   "source": [
    "## Exercise 2: String replacement"
   ]
  },
  {
   "cell_type": "markdown",
   "id": "815b3059",
   "metadata": {},
   "source": [
    "For each word in a sentence replace a with @, s with $, o with 0, l with !.\n",
    "\n",
    "But do not touch a letter if its the first character in a word.\n",
    "\n",
    "For example, analysis => `an@!y$i$`  We do not touch the first a.\n",
    "\n",
    "Hint: use `.split()`"
   ]
  },
  {
   "cell_type": "code",
   "execution_count": 25,
   "id": "e297f09a",
   "metadata": {},
   "outputs": [],
   "source": [
    "text = \"\"\"Instead, your cover letter should go beyond your work history to\n",
    "talk about things that make you especially well-suited for the job.\"\"\""
   ]
  },
  {
   "cell_type": "code",
   "execution_count": null,
   "id": "d0c93435",
   "metadata": {},
   "outputs": [],
   "source": []
  },
  {
   "cell_type": "markdown",
   "id": "cfc9f0d1",
   "metadata": {},
   "source": [
    "## Exercise 3: Combos\n",
    "\n",
    "Create combination pairs for every name in a list\n",
    "\n",
    "Expected output:\n",
    "\n",
    "[('Andrea', 'Bob'),\n",
    " ('Andrea', 'Cassandra'),\n",
    " ('Andrea', 'Doug'),\n",
    " ('Bob', 'Cassandra'),\n",
    " ('Bob', 'Doug'),\n",
    " ('Cassandra', 'Doug')]"
   ]
  },
  {
   "cell_type": "code",
   "execution_count": 26,
   "id": "2998d87b",
   "metadata": {},
   "outputs": [],
   "source": [
    "names = ['Andrea', 'Bob', 'Cassandra', 'Doug']"
   ]
  },
  {
   "cell_type": "code",
   "execution_count": null,
   "id": "e3482dae",
   "metadata": {},
   "outputs": [],
   "source": []
  },
  {
   "cell_type": "markdown",
   "id": "bf02ffb3",
   "metadata": {},
   "source": [
    "## Exercise 4: Find the Substring\n",
    "\n",
    "Extract the name located between the parentheses in these texts"
   ]
  },
  {
   "cell_type": "code",
   "execution_count": 31,
   "id": "98a26288",
   "metadata": {},
   "outputs": [],
   "source": [
    "txt1 = \"While walking in the park, (Emily) found a mysterious old key.\"\n",
    "txt2 = \"After buying the lottery ticket, (David) couldn't believe his luck when he won.\"\n",
    "txt3 = \"For the school bake sale, (Sarah) baked some delicious chocolate chip cookies.\"\n",
    "txt4 = \"On an exciting adventure to the mountains, (Michael) and his friends went.\""
   ]
  },
  {
   "cell_type": "code",
   "execution_count": null,
   "id": "bcd6fbe2",
   "metadata": {},
   "outputs": [],
   "source": []
  },
  {
   "cell_type": "markdown",
   "id": "40d17a45",
   "metadata": {},
   "source": [
    "## Exercise 5: Distance calculations\n",
    "\n",
    "Calculate the euclidean and manhattan distances between these pair of numerical lists.\n",
    "\n",
    "Hint: use the `abs` function for manhattan distance\n",
    "\n",
    "[Euclidean distance formula](https://www.cuemath.com/euclidean-distance-formula/)\n",
    "\n",
    "\n",
    "[Manhattan distance formula](https://xlinux.nist.gov/dads/HTML/manhattanDistance.html)"
   ]
  },
  {
   "cell_type": "code",
   "execution_count": 32,
   "id": "e973d738",
   "metadata": {},
   "outputs": [],
   "source": [
    "numlist1 = [1,6,8]\n",
    "numlist2 = [5,1,6]"
   ]
  },
  {
   "cell_type": "code",
   "execution_count": null,
   "id": "565bdd6d",
   "metadata": {},
   "outputs": [],
   "source": []
  }
 ],
 "metadata": {
  "kernelspec": {
   "display_name": "Python 3 (ipykernel)",
   "language": "python",
   "name": "python3"
  },
  "language_info": {
   "codemirror_mode": {
    "name": "ipython",
    "version": 3
   },
   "file_extension": ".py",
   "mimetype": "text/x-python",
   "name": "python",
   "nbconvert_exporter": "python",
   "pygments_lexer": "ipython3",
   "version": "3.9.12"
  }
 },
 "nbformat": 4,
 "nbformat_minor": 5
}
