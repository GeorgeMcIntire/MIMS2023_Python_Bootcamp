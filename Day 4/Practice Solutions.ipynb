{
 "cells": [
  {
   "cell_type": "markdown",
   "id": "88367268",
   "metadata": {},
   "source": [
    "# Practice Exercises\n",
    "\n",
    "These exercises you work on individually"
   ]
  },
  {
   "cell_type": "markdown",
   "id": "d2d9af57",
   "metadata": {},
   "source": [
    "## Exercise 1: Sorting and flattening\n"
   ]
  },
  {
   "cell_type": "markdown",
   "id": "d4961393",
   "metadata": {},
   "source": [
    "Collect all the numbers in a list of lists into one list and sort them."
   ]
  },
  {
   "cell_type": "code",
   "execution_count": 1,
   "id": "d8935a1d",
   "metadata": {},
   "outputs": [],
   "source": [
    "nested_list = [[2,3], [9,2,51,6],[9,1,22,44,12],[0]]"
   ]
  },
  {
   "cell_type": "code",
   "execution_count": 2,
   "id": "7e83a33d",
   "metadata": {},
   "outputs": [
    {
     "data": {
      "text/plain": [
       "[0, 1, 2, 2, 3, 6, 9, 9, 12, 22, 44, 51]"
      ]
     },
     "execution_count": 2,
     "metadata": {},
     "output_type": "execute_result"
    }
   ],
   "source": [
    "flat_list = []\n",
    "\n",
    "for lst in nested_list:\n",
    "    flat_list.extend(lst)\n",
    "    \n",
    "sorted_flat_list = sorted(flat_list)\n",
    "sorted_flat_list"
   ]
  },
  {
   "cell_type": "code",
   "execution_count": null,
   "id": "bfa3eccc",
   "metadata": {},
   "outputs": [],
   "source": []
  },
  {
   "cell_type": "code",
   "execution_count": null,
   "id": "4f9f2c53",
   "metadata": {},
   "outputs": [],
   "source": []
  },
  {
   "cell_type": "markdown",
   "id": "6070d34d",
   "metadata": {},
   "source": [
    "## Exercise 2: String replacement"
   ]
  },
  {
   "cell_type": "markdown",
   "id": "815b3059",
   "metadata": {},
   "source": [
    "For each word in a sentence replace a with @, s with $, o with 0, l with !.\n",
    "\n",
    "But do not touch a letter if its the first character in a word.\n",
    "\n",
    "For example, analysis => `an@!y$i$`  We do not touch the first a.\n",
    "\n",
    "Hint: use `.split()`"
   ]
  },
  {
   "cell_type": "code",
   "execution_count": 3,
   "id": "e297f09a",
   "metadata": {},
   "outputs": [],
   "source": [
    "text = \"\"\"Instead, your cover letter should go beyond your work history to\n",
    "talk about things that make you especially well-suited for the job.\"\"\""
   ]
  },
  {
   "cell_type": "code",
   "execution_count": 4,
   "id": "f14a9df4",
   "metadata": {},
   "outputs": [
    {
     "data": {
      "text/plain": [
       "['in$te@d,',\n",
       " 'y0ur',\n",
       " 'c0ver',\n",
       " 'letter',\n",
       " 'sh0u!d',\n",
       " 'g0',\n",
       " 'bey0nd',\n",
       " 'y0ur',\n",
       " 'w0rk',\n",
       " 'hi$t0ry',\n",
       " 't0',\n",
       " 't@!k',\n",
       " 'ab0ut',\n",
       " 'thing$',\n",
       " 'th@t',\n",
       " 'm@ke',\n",
       " 'y0u',\n",
       " 'e$peci@!!y',\n",
       " 'we!!-$uited',\n",
       " 'f0r',\n",
       " 'the',\n",
       " 'j0b.']"
      ]
     },
     "execution_count": 4,
     "metadata": {},
     "output_type": "execute_result"
    }
   ],
   "source": [
    "word_list = text.lower().split()\n",
    "output = []\n",
    "for word in word_list:\n",
    "    first_letter = word[0]\n",
    "    rest = word[1:].replace(\"a\", \"@\").replace(\"l\", \"!\").replace(\"s\", \"$\").replace(\"o\", \"0\")\n",
    "    output.append(first_letter+rest)\n",
    "    \n",
    "output"
   ]
  },
  {
   "cell_type": "code",
   "execution_count": null,
   "id": "95b037db",
   "metadata": {},
   "outputs": [],
   "source": []
  },
  {
   "cell_type": "code",
   "execution_count": null,
   "id": "d0c93435",
   "metadata": {},
   "outputs": [],
   "source": []
  },
  {
   "cell_type": "markdown",
   "id": "cfc9f0d1",
   "metadata": {},
   "source": [
    "## Exercise 3: Combos\n",
    "\n",
    "Create combination pairs for every name in a list\n",
    "\n",
    "Expected output:\n",
    "\n",
    "[('Andrea', 'Bob'),\n",
    " ('Andrea', 'Cassandra'),\n",
    " ('Andrea', 'Doug'),\n",
    " ('Bob', 'Cassandra'),\n",
    " ('Bob', 'Doug'),\n",
    " ('Cassandra', 'Doug')]"
   ]
  },
  {
   "cell_type": "code",
   "execution_count": 5,
   "id": "2998d87b",
   "metadata": {},
   "outputs": [],
   "source": [
    "names = ['Andrea', 'Bob', 'Cassandra', 'Doug']"
   ]
  },
  {
   "cell_type": "code",
   "execution_count": 7,
   "id": "e3482dae",
   "metadata": {},
   "outputs": [
    {
     "data": {
      "text/plain": [
       "[('Andrea', 'Bob'),\n",
       " ('Andrea', 'Cassandra'),\n",
       " ('Andrea', 'Doug'),\n",
       " ('Bob', 'Cassandra'),\n",
       " ('Bob', 'Doug'),\n",
       " ('Cassandra', 'Doug')]"
      ]
     },
     "execution_count": 7,
     "metadata": {},
     "output_type": "execute_result"
    }
   ],
   "source": [
    "combos = []\n",
    "for i in range(len(names)):\n",
    "    n1 = names[i]\n",
    "    for n2 in names[i:]:\n",
    "        if n1 != n2:\n",
    "            combos.append((n1, n2))\n",
    "combos"
   ]
  },
  {
   "cell_type": "markdown",
   "id": "bf02ffb3",
   "metadata": {},
   "source": [
    "## Exercise 4: Find the Substring\n",
    "\n",
    "Extract the name located between the parentheses in these texts"
   ]
  },
  {
   "cell_type": "code",
   "execution_count": 9,
   "id": "98a26288",
   "metadata": {},
   "outputs": [],
   "source": [
    "txt1 = \"While walking in the park, (Emily) found a mysterious old key.\"\n",
    "txt2 = \"After buying the lottery ticket, (David) couldn't believe his luck when he won.\"\n",
    "txt3 = \"For the school bake sale, (Sarah) baked some delicious chocolate chip cookies.\"\n",
    "txt4 = \"On an exciting adventure to the mountains, (Michael) and his friends went.\""
   ]
  },
  {
   "cell_type": "code",
   "execution_count": 13,
   "id": "5c70c171",
   "metadata": {},
   "outputs": [
    {
     "data": {
      "text/plain": [
       "'Emily'"
      ]
     },
     "execution_count": 13,
     "metadata": {},
     "output_type": "execute_result"
    }
   ],
   "source": [
    "left_paren_index = txt1.index(\"(\")\n",
    "right_paren_index = txt1.index(\")\")\n",
    "\n",
    "txt1[left_paren_index+1:right_paren_index]"
   ]
  },
  {
   "cell_type": "markdown",
   "id": "9b1b5514",
   "metadata": {},
   "source": [
    "Split version"
   ]
  },
  {
   "cell_type": "code",
   "execution_count": 14,
   "id": "233ece2c",
   "metadata": {},
   "outputs": [
    {
     "data": {
      "text/plain": [
       "'Emily'"
      ]
     },
     "execution_count": 14,
     "metadata": {},
     "output_type": "execute_result"
    }
   ],
   "source": [
    "txt1.split(\"(\")[1].split(\")\")[0]"
   ]
  },
  {
   "cell_type": "code",
   "execution_count": null,
   "id": "17e2f87b",
   "metadata": {},
   "outputs": [],
   "source": []
  },
  {
   "cell_type": "code",
   "execution_count": null,
   "id": "bcd6fbe2",
   "metadata": {},
   "outputs": [],
   "source": []
  },
  {
   "cell_type": "markdown",
   "id": "40d17a45",
   "metadata": {},
   "source": [
    "## Exercise 5: Distance calculations\n",
    "\n",
    "Calculate the euclidean and manhattan distances between these pair of numerical lists.\n",
    "\n",
    "Hint: use the `abs` function for manhattan distance\n",
    "\n",
    "[Euclidean distance formula](https://www.cuemath.com/euclidean-distance-formula/)\n",
    "\n",
    "\n",
    "[Manhattan distance formula](https://xlinux.nist.gov/dads/HTML/manhattanDistance.html)"
   ]
  },
  {
   "cell_type": "code",
   "execution_count": 15,
   "id": "e973d738",
   "metadata": {},
   "outputs": [],
   "source": [
    "numlist1 = [1,6,8]\n",
    "numlist2 = [5,1,6]"
   ]
  },
  {
   "cell_type": "markdown",
   "id": "6fefdd76",
   "metadata": {},
   "source": [
    "Euclidean"
   ]
  },
  {
   "cell_type": "code",
   "execution_count": 16,
   "id": "6b008571",
   "metadata": {},
   "outputs": [
    {
     "data": {
      "text/plain": [
       "6.708203932499369"
      ]
     },
     "execution_count": 16,
     "metadata": {},
     "output_type": "execute_result"
    }
   ],
   "source": [
    "ed = 0\n",
    "\n",
    "zipped_nums = zip(numlist1, numlist2)\n",
    "\n",
    "for i,j in zipped_nums:\n",
    "    ed += (i-j)**2\n",
    "    \n",
    "ed**.5"
   ]
  },
  {
   "cell_type": "code",
   "execution_count": 17,
   "id": "f0279e50",
   "metadata": {},
   "outputs": [
    {
     "data": {
      "text/plain": [
       "11"
      ]
     },
     "execution_count": 17,
     "metadata": {},
     "output_type": "execute_result"
    }
   ],
   "source": [
    "md = 0\n",
    "\n",
    "zipped_nums = zip(numlist1, numlist2)\n",
    "\n",
    "for i,j in zipped_nums:\n",
    "    md += abs(i-j)\n",
    "md\n",
    "    \n"
   ]
  },
  {
   "cell_type": "code",
   "execution_count": null,
   "id": "5a283d0e",
   "metadata": {},
   "outputs": [],
   "source": []
  }
 ],
 "metadata": {
  "kernelspec": {
   "display_name": "Python 3 (ipykernel)",
   "language": "python",
   "name": "python3"
  },
  "language_info": {
   "codemirror_mode": {
    "name": "ipython",
    "version": 3
   },
   "file_extension": ".py",
   "mimetype": "text/x-python",
   "name": "python",
   "nbconvert_exporter": "python",
   "pygments_lexer": "ipython3",
   "version": "3.9.12"
  }
 },
 "nbformat": 4,
 "nbformat_minor": 5
}
