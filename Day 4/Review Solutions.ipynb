{
 "cells": [
  {
   "cell_type": "markdown",
   "id": "fd074946",
   "metadata": {},
   "source": [
    "# Walkthrough Exercises\n",
    "\n",
    "\n",
    "These are exercises I will you through."
   ]
  },
  {
   "cell_type": "markdown",
   "id": "f4a7e52c",
   "metadata": {},
   "source": [
    "## Exercise 1: Prime Numbers\n"
   ]
  },
  {
   "cell_type": "markdown",
   "id": "b1b5ca39",
   "metadata": {},
   "source": [
    "Check to see if a number is prime. "
   ]
  },
  {
   "cell_type": "markdown",
   "id": "246d62e2",
   "metadata": {},
   "source": [
    "8 => not prime\n",
    "<br>\n",
    "7 => prime"
   ]
  },
  {
   "cell_type": "code",
   "execution_count": 1,
   "id": "ce0a6cb5",
   "metadata": {},
   "outputs": [
    {
     "name": "stdout",
     "output_type": "stream",
     "text": [
      "Prime status == False\n"
     ]
    }
   ],
   "source": [
    "#CODE HERE\n",
    "\n",
    "num = 9\n",
    "\n",
    "prime = True\n",
    "\n",
    "for i in range(2, num//2):\n",
    "    \n",
    "    if num % i == 0:\n",
    "        prime =  False\n",
    "        \n",
    "\n",
    "print(\"Prime status ==\", prime)\n",
    "    \n",
    "    \n",
    "\n"
   ]
  },
  {
   "cell_type": "markdown",
   "id": "6f6d4805",
   "metadata": {},
   "source": [
    "## Exercise 2: Find other anagrams\n",
    "\n",
    "Extract the strings from `strings` that have a fellow anagram.\n",
    "\n",
    "Expected output = [\"cat\", \"act\", \"god\", \"dog\"]"
   ]
  },
  {
   "cell_type": "markdown",
   "id": "1fa9166f",
   "metadata": {},
   "source": [
    "cat is extracted because there's also act in the list.  \n",
    "\n",
    "day is not extracted because none of the other strings are its anagram."
   ]
  },
  {
   "cell_type": "code",
   "execution_count": 11,
   "id": "60acc620",
   "metadata": {},
   "outputs": [],
   "source": [
    "strings = [\"cat\", \"act\", \"god\", \"dog\", \"day\", \"ace\"]"
   ]
  },
  {
   "cell_type": "code",
   "execution_count": 12,
   "id": "6a4811e8",
   "metadata": {},
   "outputs": [],
   "source": [
    "anagrams = []"
   ]
  },
  {
   "cell_type": "code",
   "execution_count": 13,
   "id": "8b3b868b",
   "metadata": {},
   "outputs": [],
   "source": [
    "sorted_words = []"
   ]
  },
  {
   "cell_type": "code",
   "execution_count": 14,
   "id": "369d7db6",
   "metadata": {},
   "outputs": [],
   "source": [
    "for word in strings:\n",
    "    sw = \"\".join(sorted(word))\n",
    "    sorted_words.append(sw)"
   ]
  },
  {
   "cell_type": "code",
   "execution_count": 15,
   "id": "3b8c4ec9",
   "metadata": {},
   "outputs": [],
   "source": [
    "for i in range(len(sorted_words)):\n",
    "    word = sorted_words[i]\n",
    "    \n",
    "    without_word = sorted_words[:i] + sorted_words[i+1:]\n",
    "    \n",
    "    if word in without_word:\n",
    "        \n",
    "        anagrams.append(strings[i])\n",
    "    "
   ]
  },
  {
   "cell_type": "code",
   "execution_count": 16,
   "id": "8e67e1e7",
   "metadata": {},
   "outputs": [
    {
     "data": {
      "text/plain": [
       "['cat', 'act', 'god', 'dog']"
      ]
     },
     "execution_count": 16,
     "metadata": {},
     "output_type": "execute_result"
    }
   ],
   "source": [
    "anagrams"
   ]
  },
  {
   "cell_type": "markdown",
   "id": "4a72af6c",
   "metadata": {},
   "source": [
    "## Exercise 3: Match Ends\n",
    "\n",
    "Given a list of strings, return the count of the number of strings\n",
    "    where the string length is 2 or more and the first and last chars\n",
    "    of the string are the same."
   ]
  },
  {
   "cell_type": "markdown",
   "id": "0981f3c5",
   "metadata": {},
   "source": [
    "Input = ['aba', 'xyz', 'aa', 'x', 'bbb']\n",
    "\n",
    "Output = 3"
   ]
  },
  {
   "cell_type": "code",
   "execution_count": 17,
   "id": "145e45e5",
   "metadata": {},
   "outputs": [],
   "source": [
    "lst = ['aba', 'xyz', 'aa', 'x', 'bbb']\n",
    "lst2 = ['', 'x', 'xy', 'xyx', 'xx']"
   ]
  },
  {
   "cell_type": "code",
   "execution_count": 18,
   "id": "924a967c",
   "metadata": {},
   "outputs": [
    {
     "data": {
      "text/plain": [
       "3"
      ]
     },
     "execution_count": 18,
     "metadata": {},
     "output_type": "execute_result"
    }
   ],
   "source": [
    "output = 0\n",
    "\n",
    "for word in lst:\n",
    "    \n",
    "    if len(word) > 1:\n",
    "        \n",
    "        first = word[0]\n",
    "        last = word[-1]\n",
    "        \n",
    "        if first == last:\n",
    "            \n",
    "            output += 1\n",
    "output            "
   ]
  },
  {
   "cell_type": "code",
   "execution_count": 21,
   "id": "89a9dc22",
   "metadata": {},
   "outputs": [],
   "source": [
    "output = 0\n",
    "\n",
    "for word in lst2:\n",
    "    \n",
    "    if len(word) > 1:\n",
    "        \n",
    "        first = word[0]\n",
    "        last = word[-1]\n",
    "        \n",
    "        if first == last:\n",
    "            \n",
    "            output += 1"
   ]
  },
  {
   "cell_type": "code",
   "execution_count": 22,
   "id": "06f14a74",
   "metadata": {},
   "outputs": [
    {
     "data": {
      "text/plain": [
       "2"
      ]
     },
     "execution_count": 22,
     "metadata": {},
     "output_type": "execute_result"
    }
   ],
   "source": [
    "output"
   ]
  },
  {
   "cell_type": "markdown",
   "id": "14ead771",
   "metadata": {},
   "source": [
    "## Exercise 4: Times Tables\n",
    "\n",
    "Create the multiplication table below"
   ]
  },
  {
   "cell_type": "code",
   "execution_count": 23,
   "id": "1b97d84b",
   "metadata": {},
   "outputs": [],
   "source": [
    "#CODE HERE\n",
    "r1 = range(1, 11)\n",
    "r2 = range(1, 11)"
   ]
  },
  {
   "cell_type": "code",
   "execution_count": 24,
   "id": "f68dd944",
   "metadata": {},
   "outputs": [
    {
     "name": "stdout",
     "output_type": "stream",
     "text": [
      "1 2 3 4 5 6 7 8 9 10\n",
      "2 4 6 8 10 12 14 16 18 20\n",
      "3 6 9 12 15 18 21 24 27 30\n",
      "4 8 12 16 20 24 28 32 36 40\n",
      "5 10 15 20 25 30 35 40 45 50\n",
      "6 12 18 24 30 36 42 48 54 60\n",
      "7 14 21 28 35 42 49 56 63 70\n",
      "8 16 24 32 40 48 56 64 72 80\n",
      "9 18 27 36 45 54 63 72 81 90\n",
      "10 20 30 40 50 60 70 80 90 100\n"
     ]
    }
   ],
   "source": [
    "for i in r1:\n",
    "    row = []\n",
    "    for j in r2:\n",
    "        \n",
    "        row.append(str(i*j))\n",
    "        \n",
    "    print(\" \".join(row))\n",
    "        "
   ]
  },
  {
   "cell_type": "code",
   "execution_count": 26,
   "id": "9dbd11c5",
   "metadata": {},
   "outputs": [],
   "source": [
    "times_table = []\n",
    "\n",
    "for i in r1:\n",
    "    row = []\n",
    "    for j in r2:\n",
    "        \n",
    "        row.append(str(i*j))\n",
    "        \n",
    "    times_table.append(row)\n",
    "        "
   ]
  },
  {
   "cell_type": "code",
   "execution_count": 27,
   "id": "a4b549ae",
   "metadata": {},
   "outputs": [
    {
     "data": {
      "text/plain": [
       "[['1', '2', '3', '4', '5', '6', '7', '8', '9', '10'],\n",
       " ['2', '4', '6', '8', '10', '12', '14', '16', '18', '20'],\n",
       " ['3', '6', '9', '12', '15', '18', '21', '24', '27', '30'],\n",
       " ['4', '8', '12', '16', '20', '24', '28', '32', '36', '40'],\n",
       " ['5', '10', '15', '20', '25', '30', '35', '40', '45', '50'],\n",
       " ['6', '12', '18', '24', '30', '36', '42', '48', '54', '60'],\n",
       " ['7', '14', '21', '28', '35', '42', '49', '56', '63', '70'],\n",
       " ['8', '16', '24', '32', '40', '48', '56', '64', '72', '80'],\n",
       " ['9', '18', '27', '36', '45', '54', '63', '72', '81', '90'],\n",
       " ['10', '20', '30', '40', '50', '60', '70', '80', '90', '100']]"
      ]
     },
     "execution_count": 27,
     "metadata": {},
     "output_type": "execute_result"
    }
   ],
   "source": [
    "times_table"
   ]
  },
  {
   "cell_type": "code",
   "execution_count": null,
   "id": "65982088",
   "metadata": {},
   "outputs": [],
   "source": []
  },
  {
   "cell_type": "markdown",
   "id": "74260d58",
   "metadata": {},
   "source": [
    "Expected output"
   ]
  },
  {
   "cell_type": "code",
   "execution_count": 10,
   "id": "0eea3695",
   "metadata": {},
   "outputs": [
    {
     "name": "stdout",
     "output_type": "stream",
     "text": [
      "1 2 3 4 5 6 7 8 9 10\n",
      "2 4 6 8 10 12 14 16 18 20\n",
      "3 6 9 12 15 18 21 24 27 30\n",
      "4 8 12 16 20 24 28 32 36 40\n",
      "5 10 15 20 25 30 35 40 45 50\n",
      "6 12 18 24 30 36 42 48 54 60\n",
      "7 14 21 28 35 42 49 56 63 70\n",
      "8 16 24 32 40 48 56 64 72 80\n",
      "9 18 27 36 45 54 63 72 81 90\n",
      "10 20 30 40 50 60 70 80 90 100\n"
     ]
    }
   ],
   "source": [
    "#DON\"T RUN THIS CELL OR ELSE YOU\"LL LOSE THE TIMES TABLE"
   ]
  },
  {
   "cell_type": "markdown",
   "id": "0bbed978",
   "metadata": {},
   "source": [
    "## Exercise 5: Rotation\n",
    "\n",
    "Rotate the values for x,y,z\n",
    "\n",
    "So that x =>y, y=>z, z =>\n",
    "\n",
    "Input: x = 10, y = 20, z = 30\n",
    "<br>\n",
    "Output: x = 30, y = 10, z = 20"
   ]
  },
  {
   "cell_type": "code",
   "execution_count": 28,
   "id": "05899241",
   "metadata": {},
   "outputs": [],
   "source": [
    "x = 10\n",
    "y = 20\n",
    "z = 30\n",
    "\n",
    "temp1 = z\n",
    "temp2 = x\n",
    "z = y\n",
    "y = temp2\n",
    "x = temp1\n"
   ]
  },
  {
   "cell_type": "code",
   "execution_count": null,
   "id": "3317bff6",
   "metadata": {},
   "outputs": [],
   "source": []
  },
  {
   "cell_type": "markdown",
   "id": "40fc3293",
   "metadata": {},
   "source": [
    "## Exercise 6: Vowel Race\n",
    "\n",
    "We have two text passages. We're going to count up the number of vowels in each passage until one of them reaches 10.\n",
    "\n",
    "Hint: casing"
   ]
  },
  {
   "cell_type": "code",
   "execution_count": 29,
   "id": "90345b7c",
   "metadata": {},
   "outputs": [],
   "source": [
    "passage1 = \"\"\"The whole idea of a cover letter is that it can help the employer see you as more than just your résumé. \n",
    "Managers generally aren’t hiring based solely on your work history\"\"\"\n",
    "\n",
    "passage2 = \"\"\"The No. 1 mistake people make with cover letters is that they simply use them to summarize their résumé. \n",
    "This makes no sense — hiring managers don’t need a summary of your résumé! It’s on the very next page!\"\"\""
   ]
  },
  {
   "cell_type": "code",
   "execution_count": 30,
   "id": "a18016cc",
   "metadata": {},
   "outputs": [],
   "source": [
    "vowels = \"aeiou\""
   ]
  },
  {
   "cell_type": "code",
   "execution_count": 31,
   "id": "c37b5845",
   "metadata": {},
   "outputs": [],
   "source": [
    "vowels1_tally = 0\n",
    "vowels2_tally = 0\n",
    "\n",
    "threshold = 10\n",
    "\n",
    "i = 0\n",
    "\n",
    "while vowels1_tally < threshold and vowels2_tally < threshold:\n",
    "    \n",
    "    c1 = passage1[i].lower()\n",
    "    c2 = passage2[i].lower()\n",
    "    \n",
    "    \n",
    "    if c1 in vowels:\n",
    "        vowels1_tally += 1\n",
    "        \n",
    "    if c2 in vowels:\n",
    "        vowels2_tally += 1\n",
    "    \n",
    "    i += 1\n",
    "    \n",
    "\n"
   ]
  },
  {
   "cell_type": "code",
   "execution_count": 32,
   "id": "7e9dbb71",
   "metadata": {},
   "outputs": [
    {
     "data": {
      "text/plain": [
       "10"
      ]
     },
     "execution_count": 32,
     "metadata": {},
     "output_type": "execute_result"
    }
   ],
   "source": [
    "vowels1_tally"
   ]
  },
  {
   "cell_type": "code",
   "execution_count": 33,
   "id": "d746cc3e",
   "metadata": {},
   "outputs": [
    {
     "data": {
      "text/plain": [
       "8"
      ]
     },
     "execution_count": 33,
     "metadata": {},
     "output_type": "execute_result"
    }
   ],
   "source": [
    "vowels2_tally"
   ]
  }
 ],
 "metadata": {
  "kernelspec": {
   "display_name": "Python 3 (ipykernel)",
   "language": "python",
   "name": "python3"
  },
  "language_info": {
   "codemirror_mode": {
    "name": "ipython",
    "version": 3
   },
   "file_extension": ".py",
   "mimetype": "text/x-python",
   "name": "python",
   "nbconvert_exporter": "python",
   "pygments_lexer": "ipython3",
   "version": "3.9.12"
  }
 },
 "nbformat": 4,
 "nbformat_minor": 5
}
