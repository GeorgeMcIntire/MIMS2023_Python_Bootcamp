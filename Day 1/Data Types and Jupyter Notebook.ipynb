{
 "cells": [
  {
   "cell_type": "markdown",
   "id": "8b9ba44d",
   "metadata": {},
   "source": [
    "# Data Types and Jupyter Notebook\n",
    "\n",
    "\n",
    "**Agenda**\n",
    "\n",
    "- How to use Jupyter Notebook\n",
    "- Assigning variables\n",
    "- Introduce data types: booleans, floats, integers, and strings\n",
    "- Basic operations\n"
   ]
  },
  {
   "cell_type": "markdown",
   "id": "360d3517",
   "metadata": {},
   "source": [
    "## Jupyter Notebook keyboard shortcuts"
   ]
  },
  {
   "attachments": {},
   "cell_type": "markdown",
   "id": "64aee1d1",
   "metadata": {},
   "source": [
    "![](https://miro.medium.com/v2/resize:fit:1166/1*otVb8UwGPV-vHH7wjzwRvw.png)"
   ]
  },
  {
   "cell_type": "markdown",
   "id": "02c6db8f",
   "metadata": {},
   "source": [
    "Run the following code by executing shift-enter or command/control-enter"
   ]
  },
  {
   "cell_type": "code",
   "execution_count": null,
   "id": "c99d33ba",
   "metadata": {},
   "outputs": [],
   "source": [
    "print(\"Hello, World!\")"
   ]
  },
  {
   "cell_type": "markdown",
   "id": "bf771677",
   "metadata": {},
   "source": [
    "Congrats on running your piece of code in this workshop!"
   ]
  },
  {
   "cell_type": "markdown",
   "id": "d6a029ce",
   "metadata": {},
   "source": [
    "## Variables\n",
    "\n",
    "Variables are containers used for storing objects and data. The data type of that object or  data types determine the type of data that can be stored in a variable.\n",
    "\n",
    "Let's rerun the hello world command by using a variable"
   ]
  },
  {
   "cell_type": "code",
   "execution_count": null,
   "id": "f1271946",
   "metadata": {},
   "outputs": [],
   "source": [
    "output = \"Hello, World!\" \n",
    "print(output)"
   ]
  },
  {
   "cell_type": "markdown",
   "id": "ebd0fe01",
   "metadata": {},
   "source": [
    "In Python, you can assign data to a variable using the assignment operator \"=\" (equal sign). The general syntax for assigning data to a variable is shown above"
   ]
  },
  {
   "cell_type": "markdown",
   "id": "23359069",
   "metadata": {},
   "source": [
    "### Variable Naming convention\n",
    "\n",
    "Rules:\n",
    "\n",
    "- It must start with a letter (a-z, A-Z) or an underscore (_).\n",
    "\n",
    "- It can contain letters, digits (0-9), and underscores.\n",
    "\n",
    "- Variable names are case-sensitive, meaning \"variable\" and \"Variable\" are treated as different variables.\n",
    "\n",
    "- Avoid using Python reserved keywords (e.g., \"if,\" \"while,\" \"for\") as variable names."
   ]
  },
  {
   "cell_type": "code",
   "execution_count": 2,
   "id": "b50d0a5f",
   "metadata": {},
   "outputs": [],
   "source": [
    "#These variable names work\n",
    "\n",
    "name = \"George\"\n",
    "\n",
    "patient_id = 20\n",
    "\n",
    "document1 = \"text\"\n"
   ]
  },
  {
   "cell_type": "code",
   "execution_count": null,
   "id": "01134cb8",
   "metadata": {},
   "outputs": [],
   "source": [
    "#These don't\n",
    "\n",
    "\n",
    "1stname = \"Jeff\"\n",
    "\n",
    "city,state = \"Berkeley, CA\"\n",
    "\n"
   ]
  },
  {
   "cell_type": "markdown",
   "id": "9cfa7ff3",
   "metadata": {},
   "source": [
    "What happens when you run the previous cell?"
   ]
  },
  {
   "cell_type": "markdown",
   "id": "c02cc59c",
   "metadata": {},
   "source": [
    "**Variable guidelines**\n",
    "\n",
    "- Choose meaningful names\n",
    "\n",
    "- Use all lowercass"
   ]
  },
  {
   "cell_type": "code",
   "execution_count": 4,
   "id": "4c2bdad8",
   "metadata": {},
   "outputs": [],
   "source": [
    "#Good variable names\n",
    "\n",
    "oakland_daily_mean_temp = 39.5\n",
    "\n",
    "legal_corpus_section2 = \"Opinion case data\""
   ]
  },
  {
   "cell_type": "code",
   "execution_count": 5,
   "id": "c8449ba8",
   "metadata": {},
   "outputs": [],
   "source": [
    "#Useless variable names\n",
    "\n",
    "a = 3\n",
    "\n",
    "stuff = \"Python lessons are fun!\""
   ]
  },
  {
   "cell_type": "markdown",
   "id": "ce7b0e96",
   "metadata": {},
   "source": [
    "**Jupyter notebook lesson**\n",
    "\n",
    "In jupyter notebook we can reference previously assigned variables from other cells.\n"
   ]
  },
  {
   "cell_type": "code",
   "execution_count": null,
   "id": "bb44f036",
   "metadata": {},
   "outputs": [],
   "source": [
    "print(name, patient_id, document1)"
   ]
  },
  {
   "cell_type": "markdown",
   "id": "7a6ab401",
   "metadata": {},
   "source": [
    "**Name Errors**"
   ]
  },
  {
   "cell_type": "markdown",
   "id": "c2d2d370",
   "metadata": {},
   "source": [
    "What happens when we run the following code?"
   ]
  },
  {
   "cell_type": "code",
   "execution_count": null,
   "id": "d2f648a3",
   "metadata": {},
   "outputs": [],
   "source": [
    "# day = \"Monday\"\n",
    "print(day)"
   ]
  },
  {
   "cell_type": "markdown",
   "id": "4a5b020b",
   "metadata": {},
   "source": [
    "We get an NameError because the `day` variable does not exist. Let's fix that by uncommenting the line where we declare `day`"
   ]
  },
  {
   "cell_type": "code",
   "execution_count": null,
   "id": "d2db96cb",
   "metadata": {},
   "outputs": [],
   "source": [
    "day = \"Monday\"\n",
    "print(day)"
   ]
  },
  {
   "cell_type": "code",
   "execution_count": null,
   "id": "abb25f66",
   "metadata": {},
   "outputs": [],
   "source": []
  },
  {
   "cell_type": "markdown",
   "id": "5447eaef",
   "metadata": {},
   "source": [
    "**What does the following code output here?**"
   ]
  },
  {
   "cell_type": "code",
   "execution_count": null,
   "id": "1dba4458",
   "metadata": {},
   "outputs": [],
   "source": [
    "x = 40\n",
    "x = 50\n",
    "print(\"x = \", x)"
   ]
  },
  {
   "cell_type": "code",
   "execution_count": null,
   "id": "edcd6e9e",
   "metadata": {},
   "outputs": [],
   "source": []
  },
  {
   "cell_type": "markdown",
   "id": "e368a588",
   "metadata": {},
   "source": [
    "**What happened here? Does x represent 40 or 50?**"
   ]
  },
  {
   "cell_type": "code",
   "execution_count": null,
   "id": "d513021f",
   "metadata": {},
   "outputs": [],
   "source": []
  },
  {
   "cell_type": "markdown",
   "id": "a89162d2",
   "metadata": {},
   "source": [
    "We can also use variables to create other variables"
   ]
  },
  {
   "cell_type": "code",
   "execution_count": null,
   "id": "e368546d",
   "metadata": {},
   "outputs": [],
   "source": [
    "X = x\n",
    "X"
   ]
  },
  {
   "cell_type": "markdown",
   "id": "9743575d",
   "metadata": {},
   "source": [
    "X represents the same value as x"
   ]
  },
  {
   "cell_type": "code",
   "execution_count": null,
   "id": "5f7dcfb0",
   "metadata": {},
   "outputs": [],
   "source": []
  },
  {
   "cell_type": "markdown",
   "id": "578ab408",
   "metadata": {},
   "source": [
    "## Data Types\n",
    "\n",
    "Every value in python has a specific type.\n",
    "\n",
    "**Booleans** - A binary choice encoded as True or False. Used to make logical decisions and dictate the flow of programs\n",
    "\n",
    "**Integers** - Whole numbers without decimal points, can be positive, negative or zero. Ex: 3, 582, -2893\n",
    "\n",
    "**Float** - Floats are numbers with decimal points or numbers represented in scientific notation. Ex 49.12, -0.98\n",
    "\n",
    "**Strings** - Strings are sequences of characters, and they are used to represent textual data in Python.\n",
    "Strings are enclosed in either single quotes (' ') or double quotes (\" \")."
   ]
  },
  {
   "cell_type": "markdown",
   "id": "69e0031c",
   "metadata": {},
   "source": [
    "Assign boolean values to variables"
   ]
  },
  {
   "cell_type": "code",
   "execution_count": 6,
   "id": "48d7f0bb",
   "metadata": {},
   "outputs": [],
   "source": [
    "green = True\n",
    "red = False "
   ]
  },
  {
   "cell_type": "markdown",
   "id": "ca54f88d",
   "metadata": {},
   "source": [
    "We can use the keyword function native to python `type` to figure out the type of a variable"
   ]
  },
  {
   "cell_type": "code",
   "execution_count": 8,
   "id": "79484019",
   "metadata": {},
   "outputs": [
    {
     "name": "stdout",
     "output_type": "stream",
     "text": [
      "What is the type of green? <class 'bool'>\n"
     ]
    }
   ],
   "source": [
    "print(\"What is the type of green?\", type(green))"
   ]
  },
  {
   "cell_type": "markdown",
   "id": "2ab7de26",
   "metadata": {},
   "source": [
    "Assign integers to variables"
   ]
  },
  {
   "cell_type": "code",
   "execution_count": 9,
   "id": "76f8df0f",
   "metadata": {},
   "outputs": [],
   "source": [
    "quantity = 100\n",
    "price = 5"
   ]
  },
  {
   "cell_type": "markdown",
   "id": "eb672011",
   "metadata": {},
   "source": [
    "Use multiplication to calculate revenue"
   ]
  },
  {
   "cell_type": "code",
   "execution_count": null,
   "id": "9feec68f",
   "metadata": {},
   "outputs": [],
   "source": [
    "revenue = quantity * price\n",
    "\n",
    "revenue"
   ]
  },
  {
   "cell_type": "markdown",
   "id": "bbf98113",
   "metadata": {},
   "source": [
    "Other mathematical operations"
   ]
  },
  {
   "cell_type": "code",
   "execution_count": null,
   "id": "8be62c1f",
   "metadata": {},
   "outputs": [],
   "source": [
    "#addition\n",
    "\n",
    "2678 + 329"
   ]
  },
  {
   "cell_type": "code",
   "execution_count": null,
   "id": "a2e4eef9",
   "metadata": {},
   "outputs": [],
   "source": [
    "#Subtraction\n",
    "40 - 28"
   ]
  },
  {
   "cell_type": "code",
   "execution_count": null,
   "id": "01aaff01",
   "metadata": {},
   "outputs": [],
   "source": [
    "#Division\n",
    "\n",
    "50 / 5"
   ]
  },
  {
   "cell_type": "code",
   "execution_count": null,
   "id": "a2c56ffd",
   "metadata": {},
   "outputs": [],
   "source": [
    "#Square\n",
    "\n",
    "2 ** 2"
   ]
  },
  {
   "cell_type": "markdown",
   "id": "59ed9c89",
   "metadata": {},
   "source": [
    "The type of the number produced by these operations are integers"
   ]
  },
  {
   "cell_type": "code",
   "execution_count": 12,
   "id": "0289b8be",
   "metadata": {},
   "outputs": [
    {
     "name": "stdout",
     "output_type": "stream",
     "text": [
      "<class 'int'>\n"
     ]
    }
   ],
   "source": [
    "print(type(revenue))"
   ]
  },
  {
   "cell_type": "markdown",
   "id": "49add3a3",
   "metadata": {},
   "source": [
    "However this changes when floats are involved"
   ]
  },
  {
   "cell_type": "markdown",
   "id": "fcec9484",
   "metadata": {},
   "source": [
    "Assign floats to variables"
   ]
  },
  {
   "cell_type": "code",
   "execution_count": 14,
   "id": "403e76f8",
   "metadata": {},
   "outputs": [],
   "source": [
    "z = 2.0\n",
    "\n",
    "x = 58.10\n",
    "\n",
    "q = .290"
   ]
  },
  {
   "cell_type": "code",
   "execution_count": null,
   "id": "0e94d6a3",
   "metadata": {},
   "outputs": [],
   "source": [
    "type(z)"
   ]
  },
  {
   "cell_type": "code",
   "execution_count": 13,
   "id": "8ae1918b",
   "metadata": {},
   "outputs": [],
   "source": [
    "points_per_game = 28.5\n",
    "\n",
    "games_played = 80"
   ]
  },
  {
   "cell_type": "markdown",
   "id": "f8cd3147",
   "metadata": {},
   "source": [
    "Calculate total number points scored in a season"
   ]
  },
  {
   "cell_type": "code",
   "execution_count": null,
   "id": "a924fcb3",
   "metadata": {},
   "outputs": [],
   "source": [
    "total_points = points_per_game * games_played\n",
    "type(total_points)"
   ]
  },
  {
   "cell_type": "markdown",
   "id": "793d2159",
   "metadata": {},
   "source": [
    "Operations involving integers and float produces float"
   ]
  },
  {
   "cell_type": "markdown",
   "id": "01d4bf81",
   "metadata": {},
   "source": [
    "Dividing two integers not divisible by one another produces a float"
   ]
  },
  {
   "cell_type": "code",
   "execution_count": null,
   "id": "e61ff634",
   "metadata": {},
   "outputs": [],
   "source": [
    "num1 = 8\n",
    "num2 = 5\n",
    "\n",
    "type(num1/num2)"
   ]
  },
  {
   "cell_type": "markdown",
   "id": "562985eb",
   "metadata": {},
   "source": [
    "The `//` operator calculates the whole-number result of division, while the '%' operator calculates the remainder from division."
   ]
  },
  {
   "cell_type": "code",
   "execution_count": null,
   "id": "a74ad0a9",
   "metadata": {},
   "outputs": [],
   "source": [
    "12//5"
   ]
  },
  {
   "cell_type": "code",
   "execution_count": null,
   "id": "0589512e",
   "metadata": {},
   "outputs": [],
   "source": [
    "12 % 5"
   ]
  },
  {
   "cell_type": "markdown",
   "id": "fe7490d6",
   "metadata": {},
   "source": [
    "**Comparison operator**\n",
    "\n",
    "In Python, comparison operators are used to compare two values and determine the relationship between them. These operators return a Boolean value (True or False) based on whether the comparison is true or false. "
   ]
  },
  {
   "cell_type": "markdown",
   "id": "3b291ddd",
   "metadata": {},
   "source": [
    "Equal to (==): Checks if the values on both sides are equal."
   ]
  },
  {
   "cell_type": "code",
   "execution_count": null,
   "id": "46c53a99",
   "metadata": {},
   "outputs": [],
   "source": [
    "num1 == num2"
   ]
  },
  {
   "cell_type": "code",
   "execution_count": null,
   "id": "551aa654",
   "metadata": {},
   "outputs": [],
   "source": [
    "num2 = 8\n",
    "\n",
    "num1 == num2"
   ]
  },
  {
   "cell_type": "markdown",
   "id": "92e874f1",
   "metadata": {},
   "source": [
    "Integer and float versions of the same number output `True`"
   ]
  },
  {
   "cell_type": "code",
   "execution_count": null,
   "id": "4dcf0144",
   "metadata": {},
   "outputs": [],
   "source": [
    "3 == 3.0"
   ]
  },
  {
   "cell_type": "markdown",
   "id": "ab1fc087",
   "metadata": {},
   "source": [
    "Not equal to (!=): Checks if the values on both sides are not equal."
   ]
  },
  {
   "cell_type": "code",
   "execution_count": null,
   "id": "a7c8258b",
   "metadata": {},
   "outputs": [],
   "source": [
    "num1 != num2"
   ]
  },
  {
   "cell_type": "markdown",
   "id": "15122d55",
   "metadata": {},
   "source": [
    "Greater than (>): Checks if the value on the left side is greater than the value on the right side."
   ]
  },
  {
   "cell_type": "code",
   "execution_count": null,
   "id": "ae97cfec",
   "metadata": {},
   "outputs": [],
   "source": [
    "greater_status = 10 > 9\n",
    "greater_status"
   ]
  },
  {
   "cell_type": "markdown",
   "id": "9efb922c",
   "metadata": {},
   "source": [
    "Adding an `=` sign changes the operation to greatet than or equal."
   ]
  },
  {
   "cell_type": "code",
   "execution_count": null,
   "id": "90367fc7",
   "metadata": {},
   "outputs": [],
   "source": [
    "3 >= 3"
   ]
  },
  {
   "cell_type": "markdown",
   "id": "e04cf097",
   "metadata": {},
   "source": [
    "Lesser than and lesser than or equal comparison"
   ]
  },
  {
   "cell_type": "code",
   "execution_count": null,
   "id": "52739f2a",
   "metadata": {},
   "outputs": [],
   "source": [
    "x = 13\n",
    "y = 20\n",
    "\n",
    "x <= y"
   ]
  },
  {
   "cell_type": "markdown",
   "id": "4b940a6d",
   "metadata": {},
   "source": [
    "**Strings**\n",
    "\n",
    "In jupyter notebook, strings are color coded as red.\n",
    "\n",
    "Write your first and last name between the quotation marks, which are used to denote strings in python."
   ]
  },
  {
   "cell_type": "code",
   "execution_count": null,
   "id": "9bc78b87",
   "metadata": {},
   "outputs": [],
   "source": [
    "first_name = \"\"\n",
    "last_name = \"\"\n",
    "\n",
    "print(\"My name is \", first_name, last_name)\n"
   ]
  },
  {
   "cell_type": "code",
   "execution_count": null,
   "id": "1f7fe956",
   "metadata": {},
   "outputs": [],
   "source": [
    "type(first_name)"
   ]
  },
  {
   "cell_type": "markdown",
   "id": "fd3763c4",
   "metadata": {},
   "source": [
    "We can use single, double or triple quotations, so long as both ends match."
   ]
  },
  {
   "cell_type": "code",
   "execution_count": 17,
   "id": "17f2b4d5",
   "metadata": {},
   "outputs": [],
   "source": [
    "single = 'text'\n",
    "double = \"text\"\n",
    "triple = \"\"\"text\"\"\""
   ]
  },
  {
   "cell_type": "markdown",
   "id": "edb5a893",
   "metadata": {},
   "source": [
    "Strings are case sensitive, so what will the following code output?"
   ]
  },
  {
   "cell_type": "code",
   "execution_count": null,
   "id": "ef4bbada",
   "metadata": {},
   "outputs": [],
   "source": [
    "\"berkeley\" == \"BerkeleY\""
   ]
  },
  {
   "cell_type": "markdown",
   "id": "1de597e7",
   "metadata": {},
   "source": [
    "We can use the built-in `len` function to calculate the number of characters in a string."
   ]
  },
  {
   "cell_type": "code",
   "execution_count": null,
   "id": "eee14064",
   "metadata": {},
   "outputs": [],
   "source": [
    "word = \"Antidisestablishmentarianism\"\n",
    "\n",
    "word_length = len(word)\n",
    "word_length"
   ]
  },
  {
   "cell_type": "code",
   "execution_count": null,
   "id": "8ed8d9e9",
   "metadata": {},
   "outputs": [],
   "source": [
    "empty_string = ''\n",
    "\n",
    "len(empty_string)"
   ]
  },
  {
   "cell_type": "markdown",
   "id": "2c6322f9",
   "metadata": {},
   "source": [
    "We can use certain operations on strings."
   ]
  },
  {
   "cell_type": "markdown",
   "id": "3bd4fd15",
   "metadata": {},
   "source": [
    "String concatenation. We can attach strings together by adding them"
   ]
  },
  {
   "cell_type": "code",
   "execution_count": null,
   "id": "b95730df",
   "metadata": {},
   "outputs": [],
   "source": [
    "full_name = first_name + \" \" + last_name\n",
    "print(full_name)"
   ]
  },
  {
   "cell_type": "markdown",
   "id": "9b09c9dc",
   "metadata": {},
   "source": [
    "We can duplicate strings by multiplying them by integers"
   ]
  },
  {
   "cell_type": "code",
   "execution_count": null,
   "id": "aea81f5e",
   "metadata": {},
   "outputs": [],
   "source": [
    "double_name = full_name*2\n",
    "print(double_name)"
   ]
  },
  {
   "cell_type": "markdown",
   "id": "e1625120",
   "metadata": {},
   "source": [
    "Subtraction and division operations do not apply to strings"
   ]
  },
  {
   "cell_type": "code",
   "execution_count": null,
   "id": "29c103c4",
   "metadata": {},
   "outputs": [],
   "source": [
    "\"hello\" - \"h\"\n"
   ]
  },
  {
   "cell_type": "code",
   "execution_count": null,
   "id": "03e2f4cf",
   "metadata": {},
   "outputs": [],
   "source": [
    "\"california\" /2"
   ]
  },
  {
   "cell_type": "code",
   "execution_count": null,
   "id": "5b912f93",
   "metadata": {},
   "outputs": [],
   "source": []
  },
  {
   "cell_type": "markdown",
   "id": "1d2d0f30",
   "metadata": {},
   "source": [
    "### Types Conversion"
   ]
  },
  {
   "cell_type": "markdown",
   "id": "f6de4e8a",
   "metadata": {},
   "source": [
    "Do you think this code works? "
   ]
  },
  {
   "cell_type": "code",
   "execution_count": null,
   "id": "ecb2724d",
   "metadata": {},
   "outputs": [],
   "source": [
    "width = 10\n",
    "height = \"20\"\n"
   ]
  },
  {
   "cell_type": "code",
   "execution_count": null,
   "id": "706b98e4",
   "metadata": {},
   "outputs": [],
   "source": [
    "area = width * height"
   ]
  },
  {
   "cell_type": "code",
   "execution_count": null,
   "id": "d5e60152",
   "metadata": {},
   "outputs": [],
   "source": []
  },
  {
   "cell_type": "markdown",
   "id": "34d3cc0f",
   "metadata": {},
   "source": [
    "**Spoiler Alert!!**\n",
    "\n",
    "It does not. In order to make it work we need to convert height to an integer by using the built-in integer function."
   ]
  },
  {
   "cell_type": "code",
   "execution_count": null,
   "id": "890db15a",
   "metadata": {},
   "outputs": [],
   "source": [
    "height = int(height)\n",
    "area = width*height\n",
    "area"
   ]
  },
  {
   "cell_type": "code",
   "execution_count": null,
   "id": "005ea4a5",
   "metadata": {},
   "outputs": [],
   "source": []
  },
  {
   "cell_type": "markdown",
   "id": "3b960d44",
   "metadata": {},
   "source": [
    "Converting a float to an integer rounds it down to the nearest whole number"
   ]
  },
  {
   "cell_type": "code",
   "execution_count": null,
   "id": "6df098f3",
   "metadata": {},
   "outputs": [],
   "source": [
    "x = 9.7\n",
    "int(x)"
   ]
  },
  {
   "cell_type": "markdown",
   "id": "db40ff72",
   "metadata": {},
   "source": [
    "We can do this with floats and strings as well"
   ]
  },
  {
   "cell_type": "code",
   "execution_count": null,
   "id": "8e380bb2",
   "metadata": {},
   "outputs": [],
   "source": [
    "gpa_string = \"3.72\"\n",
    "gpa_float = float(gpa_string)\n",
    "gpa_float"
   ]
  },
  {
   "cell_type": "code",
   "execution_count": null,
   "id": "1b779a89",
   "metadata": {},
   "outputs": [],
   "source": [
    "ranking_int = 10\n",
    "ranking_str = str(ranking_int)\n",
    "ranking_str\n"
   ]
  },
  {
   "cell_type": "markdown",
   "id": "711b3e4b",
   "metadata": {},
   "source": [
    "When converting string representations of number we have to make sure there are only numerical characters in the string."
   ]
  },
  {
   "cell_type": "code",
   "execution_count": null,
   "id": "04cde4d0",
   "metadata": {},
   "outputs": [],
   "source": [
    "#This works\n",
    "\n",
    "int(\"4\")"
   ]
  },
  {
   "cell_type": "code",
   "execution_count": null,
   "id": "44cd3d4a",
   "metadata": {},
   "outputs": [],
   "source": [
    "#This does not\n",
    "\n",
    "int(\"30 days\")"
   ]
  },
  {
   "cell_type": "code",
   "execution_count": null,
   "id": "99e1ddf5",
   "metadata": {},
   "outputs": [],
   "source": [
    "#Neither does this\n",
    "float(\"$38.39\")"
   ]
  },
  {
   "cell_type": "code",
   "execution_count": null,
   "id": "ee84864e",
   "metadata": {},
   "outputs": [],
   "source": []
  },
  {
   "cell_type": "markdown",
   "id": "eaa6ac5c",
   "metadata": {},
   "source": [
    "### Review Problems"
   ]
  },
  {
   "cell_type": "markdown",
   "id": "c1389006",
   "metadata": {},
   "source": [
    "**1**"
   ]
  },
  {
   "cell_type": "code",
   "execution_count": 21,
   "id": "50b60e41",
   "metadata": {},
   "outputs": [],
   "source": [
    "a = 1.0\n",
    "b = \"1\"\n",
    "c = \"1.1\""
   ]
  },
  {
   "cell_type": "markdown",
   "id": "7ed7f866",
   "metadata": {},
   "source": [
    "What do each of these operations do?"
   ]
  },
  {
   "cell_type": "markdown",
   "id": "2822adf2",
   "metadata": {},
   "source": [
    "1. `a + float(b)`\n",
    "2. `float(b) + float(c)`\n",
    "3. `a + int(c)`\n",
    "4. `a + int(float(c))`\n",
    "5. `int(a) + int(float(c))`\n",
    "6. `2.0 * b`"
   ]
  },
  {
   "cell_type": "markdown",
   "id": "cb5b3833",
   "metadata": {},
   "source": [
    "**2**\n",
    "\n",
    "Swap the values of a and z so that a = 10 and  z = 5"
   ]
  },
  {
   "cell_type": "code",
   "execution_count": null,
   "id": "cc6798a3",
   "metadata": {},
   "outputs": [],
   "source": [
    "a = 5 \n",
    "z = 10"
   ]
  },
  {
   "cell_type": "code",
   "execution_count": null,
   "id": "36b70e86",
   "metadata": {},
   "outputs": [],
   "source": []
  },
  {
   "cell_type": "markdown",
   "id": "8f113427",
   "metadata": {},
   "source": [
    "**3**\n",
    "\n",
    "Write out a sentence without punctuation and then concatenate it with a period, exclamation point or question mark."
   ]
  },
  {
   "cell_type": "code",
   "execution_count": null,
   "id": "146f64da",
   "metadata": {},
   "outputs": [],
   "source": [
    "sentence = \"\"\n",
    "period = \".\"\n",
    "exclamation_point = \"!\"\n",
    "question_mark = \"?\""
   ]
  },
  {
   "cell_type": "markdown",
   "id": "d6aaa51e",
   "metadata": {},
   "source": [
    "**4** \n",
    "\n",
    "Why do the following code snippets produce errors?"
   ]
  },
  {
   "cell_type": "code",
   "execution_count": null,
   "id": "1e0a653a",
   "metadata": {},
   "outputs": [],
   "source": [
    "print('I love python\")"
   ]
  },
  {
   "cell_type": "code",
   "execution_count": null,
   "id": "bf6ce322",
   "metadata": {},
   "outputs": [],
   "source": [
    "print(super_variable)"
   ]
  },
  {
   "cell_type": "code",
   "execution_count": null,
   "id": "e7b38f68",
   "metadata": {},
   "outputs": [],
   "source": [
    "float(\"3.9O\")"
   ]
  }
 ],
 "metadata": {
  "kernelspec": {
   "display_name": "Python 3 (ipykernel)",
   "language": "python",
   "name": "python3"
  },
  "language_info": {
   "codemirror_mode": {
    "name": "ipython",
    "version": 3
   },
   "file_extension": ".py",
   "mimetype": "text/x-python",
   "name": "python",
   "nbconvert_exporter": "python",
   "pygments_lexer": "ipython3",
   "version": "3.9.12"
  }
 },
 "nbformat": 4,
 "nbformat_minor": 5
}
