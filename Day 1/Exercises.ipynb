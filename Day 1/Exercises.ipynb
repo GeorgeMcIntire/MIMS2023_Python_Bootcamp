{
 "cells": [
  {
   "cell_type": "markdown",
   "id": "24190449",
   "metadata": {},
   "source": [
    "\n",
    "## Exercise 1\n",
    "\n",
    "Perimeter is calculated by 2 * length + 2 * width. Calculate the perimeter using the length and width values below."
   ]
  },
  {
   "cell_type": "code",
   "execution_count": null,
   "id": "aeefc276",
   "metadata": {},
   "outputs": [],
   "source": [
    "length = 100\n",
    "width = 150"
   ]
  },
  {
   "cell_type": "code",
   "execution_count": null,
   "id": "bfb89090",
   "metadata": {},
   "outputs": [],
   "source": []
  },
  {
   "cell_type": "markdown",
   "id": "0e9f5b2e",
   "metadata": {},
   "source": [
    "## Exercise 2\n",
    "\n",
    "Write out a script that composes an email address for someone using the lower-cased first letters of the first name, an underscore, and their last name in all caps.\n",
    "\n",
    "For example: jer_FARNSWORTH@gmail.com\n",
    "\n",
    "Use slicing, concatenation, and string methods"
   ]
  },
  {
   "cell_type": "code",
   "execution_count": null,
   "id": "786b04f2",
   "metadata": {},
   "outputs": [],
   "source": [
    "first_name = \"Jeremy\"\n",
    "last_name = \"Farnsworth\"\n",
    "\n",
    "domain = \"@gmail.com\""
   ]
  },
  {
   "cell_type": "code",
   "execution_count": null,
   "id": "bddf934d",
   "metadata": {},
   "outputs": [],
   "source": []
  },
  {
   "cell_type": "markdown",
   "id": "915f0ac8",
   "metadata": {},
   "source": [
    "## Exercise 3\n",
    "\n",
    "\n",
    "Duplictae the word 'reversal' by the number 'e' characters in it.\n",
    "\n",
    "Output: reversalreversal"
   ]
  },
  {
   "cell_type": "code",
   "execution_count": null,
   "id": "bd00a197",
   "metadata": {},
   "outputs": [],
   "source": []
  },
  {
   "cell_type": "markdown",
   "id": "6c053a21",
   "metadata": {},
   "source": [
    "## Exercise 4\n",
    "\n",
    "Check to see if the following string is anagram — when reversing the order of a string does not change it.\n",
    "\n",
    "Output should be boolean."
   ]
  },
  {
   "cell_type": "code",
   "execution_count": null,
   "id": "60a1c96a",
   "metadata": {},
   "outputs": [],
   "source": [
    "string = \"tacocat\"\n"
   ]
  },
  {
   "cell_type": "markdown",
   "id": "2e3d99ae",
   "metadata": {},
   "source": [
    "## Exercise 5\n",
    "\n",
    "If there 40 slices of pizza and you want to serve them to a group of people who each get slices, what is the maximum number of people you can serve."
   ]
  },
  {
   "cell_type": "code",
   "execution_count": null,
   "id": "e2832014",
   "metadata": {},
   "outputs": [],
   "source": [
    "num_slices = 40\n",
    "slices_per_person = 3"
   ]
  },
  {
   "cell_type": "code",
   "execution_count": null,
   "id": "e23bf492",
   "metadata": {},
   "outputs": [],
   "source": []
  },
  {
   "cell_type": "markdown",
   "id": "c66a746b",
   "metadata": {},
   "source": [
    "## Exercise 6\n",
    "\n",
    "Swap the first and last characters of this string."
   ]
  },
  {
   "cell_type": "code",
   "execution_count": 1,
   "id": "ea0784df",
   "metadata": {},
   "outputs": [],
   "source": [
    "string = 'sequence'"
   ]
  },
  {
   "cell_type": "code",
   "execution_count": null,
   "id": "1fd9240b",
   "metadata": {},
   "outputs": [],
   "source": []
  }
 ],
 "metadata": {
  "kernelspec": {
   "display_name": "Python 3 (ipykernel)",
   "language": "python",
   "name": "python3"
  },
  "language_info": {
   "codemirror_mode": {
    "name": "ipython",
    "version": 3
   },
   "file_extension": ".py",
   "mimetype": "text/x-python",
   "name": "python",
   "nbconvert_exporter": "python",
   "pygments_lexer": "ipython3",
   "version": "3.9.12"
  }
 },
 "nbformat": 4,
 "nbformat_minor": 5
}
