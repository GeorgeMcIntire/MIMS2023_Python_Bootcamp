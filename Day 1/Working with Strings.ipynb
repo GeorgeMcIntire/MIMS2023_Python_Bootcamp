{
 "cells": [
  {
   "cell_type": "markdown",
   "id": "4698035d",
   "metadata": {},
   "source": [
    "# Strings in Python\n",
    "\n",
    "**Agenda**\n",
    "\n",
    "- Learn how to work with and manipulate strings in python.\n",
    "- String methods such as lower, upper, replace, and more."
   ]
  },
  {
   "cell_type": "markdown",
   "id": "9a78a597",
   "metadata": {},
   "source": [
    "### String Methods\n",
    "\n",
    "In Python, a method is a function that is associated with an object. Methods are a way to perform actions or operations on objects of a particular type. Every data type or class in Python can have its own set of methods that define the behavior and capabilities of objects of that type.\n",
    "\n",
    "We'll learn more about functions later in python."
   ]
  },
  {
   "cell_type": "code",
   "execution_count": 1,
   "id": "23fbb334",
   "metadata": {},
   "outputs": [],
   "source": [
    "title = \"How Language and Social Status Change the Developing Brain\""
   ]
  },
  {
   "cell_type": "markdown",
   "id": "cdd17546",
   "metadata": {},
   "source": [
    "What if I wanted to change the casing of every character in this string?\n",
    "\n",
    "We use methods exclusively to string objects."
   ]
  },
  {
   "cell_type": "code",
   "execution_count": null,
   "id": "72b684c8",
   "metadata": {},
   "outputs": [],
   "source": [
    "upper_title = title.upper()\n",
    "upper_title"
   ]
  },
  {
   "cell_type": "code",
   "execution_count": null,
   "id": "0be206e2",
   "metadata": {},
   "outputs": [],
   "source": [
    "lower_title = upper_title.lower()\n",
    "lower_title"
   ]
  },
  {
   "cell_type": "code",
   "execution_count": null,
   "id": "898c8f58",
   "metadata": {},
   "outputs": [],
   "source": [
    "capital_title = lower_title.capitalize()\n",
    "capital_title"
   ]
  },
  {
   "cell_type": "code",
   "execution_count": null,
   "id": "1ce6d255",
   "metadata": {},
   "outputs": [],
   "source": [
    "title = lower_title.title()\n",
    "title"
   ]
  },
  {
   "cell_type": "markdown",
   "id": "e8a78b24",
   "metadata": {},
   "source": [
    "Integers have no method named `upper` so this code throws up an error."
   ]
  },
  {
   "cell_type": "code",
   "execution_count": null,
   "id": "5683b1fe",
   "metadata": {},
   "outputs": [],
   "source": [
    "hour = 12\n",
    "hour.upper()"
   ]
  },
  {
   "cell_type": "code",
   "execution_count": null,
   "id": "99a4e592",
   "metadata": {},
   "outputs": [],
   "source": []
  },
  {
   "cell_type": "markdown",
   "id": "3d0bae30",
   "metadata": {},
   "source": [
    "**Jupyter Notebook Detour Tip**\n",
    "\n",
    "Use this commands to pull the doc strings of a method or function."
   ]
  },
  {
   "cell_type": "code",
   "execution_count": null,
   "id": "e5001d9a",
   "metadata": {},
   "outputs": [],
   "source": [
    "title.lower?"
   ]
  },
  {
   "cell_type": "code",
   "execution_count": null,
   "id": "0209bc53",
   "metadata": {},
   "outputs": [],
   "source": [
    "help(title.lower)"
   ]
  },
  {
   "cell_type": "code",
   "execution_count": null,
   "id": "6708178b",
   "metadata": {},
   "outputs": [],
   "source": []
  },
  {
   "cell_type": "code",
   "execution_count": null,
   "id": "99f231fc",
   "metadata": {},
   "outputs": [],
   "source": []
  },
  {
   "cell_type": "markdown",
   "id": "763b1641",
   "metadata": {},
   "source": [
    "Fix the following code so that the proper names are capitalized"
   ]
  },
  {
   "cell_type": "code",
   "execution_count": null,
   "id": "91fc0d6c",
   "metadata": {},
   "outputs": [],
   "source": [
    "name = \"emily\"\n",
    "location = \"paris\"\n",
    "employer = \"nasa\"\n",
    "\n",
    "\n",
    "sentence = name + \" works for \" + employer + \" but lives in \" + location\n",
    "\n",
    "sentence"
   ]
  },
  {
   "cell_type": "code",
   "execution_count": null,
   "id": "3741b4d1",
   "metadata": {},
   "outputs": [],
   "source": []
  },
  {
   "cell_type": "markdown",
   "id": "f9d292c4",
   "metadata": {},
   "source": [
    "Replace characters in a string."
   ]
  },
  {
   "cell_type": "code",
   "execution_count": 5,
   "id": "2cbbfdd7",
   "metadata": {},
   "outputs": [],
   "source": [
    "animal = \"aardvark\""
   ]
  },
  {
   "cell_type": "markdown",
   "id": "3b130cfc",
   "metadata": {},
   "source": [
    "Use `.replace()` to replace the a in aardvark with an @"
   ]
  },
  {
   "cell_type": "code",
   "execution_count": null,
   "id": "8afdddf9",
   "metadata": {},
   "outputs": [],
   "source": [
    "animal.replace(\"a\", \"@\")\n"
   ]
  },
  {
   "cell_type": "markdown",
   "id": "d92610dd",
   "metadata": {},
   "source": [
    "Replace can be used to delete characters in a string by replacing characters with an empty string. Strings don't have a defined delete method."
   ]
  },
  {
   "cell_type": "code",
   "execution_count": null,
   "id": "2cc61664",
   "metadata": {},
   "outputs": [],
   "source": [
    "animal.replace(\"a\", '')"
   ]
  },
  {
   "cell_type": "code",
   "execution_count": null,
   "id": "92dd50a3",
   "metadata": {},
   "outputs": [],
   "source": []
  },
  {
   "cell_type": "markdown",
   "id": "acdc2ade",
   "metadata": {},
   "source": [
    "`strip` is used to strip out characters on either side of the string. Defaults to removing white space."
   ]
  },
  {
   "cell_type": "code",
   "execution_count": null,
   "id": "bf986bf5",
   "metadata": {},
   "outputs": [],
   "source": [
    "poem_line = \" I stand amid the roar Of a surf-tormented shore \"\n",
    "poem_line.strip()"
   ]
  },
  {
   "cell_type": "markdown",
   "id": "de229d84",
   "metadata": {},
   "source": [
    "Now with supplying a specific character"
   ]
  },
  {
   "cell_type": "code",
   "execution_count": null,
   "id": "39446e3c",
   "metadata": {},
   "outputs": [],
   "source": [
    "poem_line = \"Is it therefore the less gone?\"\n",
    "\n",
    "poem_line.strip(\"?\")"
   ]
  },
  {
   "cell_type": "markdown",
   "id": "8d4e417d",
   "metadata": {},
   "source": [
    "**Boolean String Methods**\n",
    "\n",
    "These methods produce booleans when called."
   ]
  },
  {
   "cell_type": "code",
   "execution_count": null,
   "id": "24a7abc4",
   "metadata": {},
   "outputs": [],
   "source": [
    "text = \"What is Hello World?\"\n",
    "text.startswith(\"W\")"
   ]
  },
  {
   "cell_type": "code",
   "execution_count": null,
   "id": "6e689fc2",
   "metadata": {},
   "outputs": [],
   "source": [
    "text.startswith(\"What\")"
   ]
  },
  {
   "cell_type": "code",
   "execution_count": null,
   "id": "8b1fe272",
   "metadata": {},
   "outputs": [],
   "source": [
    "text.endswith(\".\")"
   ]
  },
  {
   "cell_type": "code",
   "execution_count": null,
   "id": "e525b565",
   "metadata": {},
   "outputs": [],
   "source": [
    "a = \"a\"\n",
    "a.isalpha()"
   ]
  },
  {
   "cell_type": "code",
   "execution_count": null,
   "id": "e787144e",
   "metadata": {},
   "outputs": [],
   "source": [
    "x = \"2\"\n",
    "x.isnumeric()"
   ]
  },
  {
   "cell_type": "code",
   "execution_count": null,
   "id": "923c3f05",
   "metadata": {},
   "outputs": [],
   "source": [
    "service = \"sagemaker\"\n",
    "service.islower()"
   ]
  },
  {
   "cell_type": "code",
   "execution_count": null,
   "id": "df4247e4",
   "metadata": {},
   "outputs": [],
   "source": [
    "service.isupper()"
   ]
  },
  {
   "cell_type": "markdown",
   "id": "21c9a0e0",
   "metadata": {},
   "source": [
    "Splitting up strings."
   ]
  },
  {
   "cell_type": "code",
   "execution_count": 12,
   "id": "10922299",
   "metadata": {},
   "outputs": [],
   "source": [
    "article = \"To combat stress and burnout, employers are increasingly offering benefits\""
   ]
  },
  {
   "cell_type": "code",
   "execution_count": null,
   "id": "4e82bbea",
   "metadata": {},
   "outputs": [],
   "source": [
    "article.split()"
   ]
  },
  {
   "cell_type": "markdown",
   "id": "76db2493",
   "metadata": {},
   "source": [
    "`.split()` literally splits up the string into a list of strings."
   ]
  },
  {
   "cell_type": "markdown",
   "id": "f318b4ac",
   "metadata": {},
   "source": [
    "The default is to split on spaces but we can use other characters too."
   ]
  },
  {
   "cell_type": "code",
   "execution_count": null,
   "id": "afda89c9",
   "metadata": {},
   "outputs": [],
   "source": [
    "roster = \"Jeff/Terry/Tim/Laura/Cat\"\n",
    "split_roster = roster.split(\"/\")\n",
    "split_roster"
   ]
  },
  {
   "cell_type": "markdown",
   "id": "dba25e45",
   "metadata": {},
   "source": [
    "We can undo this by using `.join()`"
   ]
  },
  {
   "cell_type": "code",
   "execution_count": null,
   "id": "7cf71947",
   "metadata": {},
   "outputs": [],
   "source": [
    "\"/\".join(split_roster)"
   ]
  },
  {
   "cell_type": "code",
   "execution_count": null,
   "id": "a9f968b1",
   "metadata": {},
   "outputs": [],
   "source": []
  },
  {
   "cell_type": "markdown",
   "id": "7e3e0ce8",
   "metadata": {},
   "source": [
    "New line characters are represented as `\\n` in python."
   ]
  },
  {
   "cell_type": "code",
   "execution_count": null,
   "id": "4b27e149",
   "metadata": {},
   "outputs": [],
   "source": [
    "lines = \"First row\\nSecond row\\nThird row\"\n",
    "print(lines)"
   ]
  },
  {
   "cell_type": "code",
   "execution_count": null,
   "id": "a54c3e8a",
   "metadata": {},
   "outputs": [],
   "source": []
  },
  {
   "cell_type": "markdown",
   "id": "73a61e1e",
   "metadata": {},
   "source": [
    "### Slicing strings\n",
    "\n",
    "In Python, slicing strings allows you to extract a portion (substring) of a string based on a specific range of indices. The slicing notation is done using square brackets [], and it follows the format [start_index:end_index], where start_index is the index of the first character you want to include in the slice, and end_index is the index of the character just after the last character you want to include. The resulting slice will contain all characters from the start_index up to, but not including, the end_index.\n",
    "\n",
    "Here's the general syntax for slicing a string:\n",
    "\n",
    "`string_variable[start_index:end_index]`"
   ]
  },
  {
   "cell_type": "markdown",
   "id": "ab872ae6",
   "metadata": {},
   "source": [
    "The `start_index` number is inclusive while the `end_index` is not."
   ]
  },
  {
   "cell_type": "markdown",
   "id": "fcec4edc",
   "metadata": {},
   "source": [
    "REMEMBER THAT PYTHON INDEXES FROM ZERO NOT FROM ONE"
   ]
  },
  {
   "cell_type": "markdown",
   "id": "cdd4d84b",
   "metadata": {},
   "source": [
    "Extract the 3rd through 6th characters from the word quintessential. We should see `inte` returned"
   ]
  },
  {
   "cell_type": "code",
   "execution_count": null,
   "id": "2c72007b",
   "metadata": {},
   "outputs": [],
   "source": [
    "word = \"quintessential\"\n",
    "\n",
    "substring = word[2:6]\n",
    "substring"
   ]
  },
  {
   "cell_type": "code",
   "execution_count": 18,
   "id": "606e63fb",
   "metadata": {},
   "outputs": [
    {
     "name": "stdout",
     "output_type": "stream",
     "text": [
      "0 q\n",
      "1 u\n",
      "2 i\n",
      "3 n\n",
      "4 t\n",
      "5 e\n",
      "6 s\n",
      "7 s\n",
      "8 e\n",
      "9 n\n",
      "10 t\n",
      "11 i\n",
      "12 a\n",
      "13 l\n"
     ]
    }
   ],
   "source": []
  },
  {
   "cell_type": "markdown",
   "id": "acdc52b0",
   "metadata": {},
   "source": [
    "Since Python starts at 0, the 2 in this case represents the third character."
   ]
  },
  {
   "cell_type": "markdown",
   "id": "b29178ba",
   "metadata": {},
   "source": [
    "Extract the first four characters"
   ]
  },
  {
   "cell_type": "code",
   "execution_count": null,
   "id": "9015020c",
   "metadata": {},
   "outputs": [],
   "source": [
    "#This works\n",
    "word[:4]"
   ]
  },
  {
   "cell_type": "code",
   "execution_count": null,
   "id": "e73a61c4",
   "metadata": {},
   "outputs": [],
   "source": [
    "#So does this \n",
    "word[0:4]"
   ]
  },
  {
   "cell_type": "markdown",
   "id": "ba3bd658",
   "metadata": {},
   "source": [
    "Extract the characters after the fifth character"
   ]
  },
  {
   "cell_type": "code",
   "execution_count": null,
   "id": "49a02090",
   "metadata": {},
   "outputs": [],
   "source": [
    "word[5:]"
   ]
  },
  {
   "cell_type": "markdown",
   "id": "f0dd702e",
   "metadata": {},
   "source": [
    "Slicing does not affect the original string."
   ]
  },
  {
   "cell_type": "code",
   "execution_count": null,
   "id": "04262fcc",
   "metadata": {},
   "outputs": [],
   "source": [
    "word"
   ]
  },
  {
   "cell_type": "markdown",
   "id": "b1a9a33b",
   "metadata": {},
   "source": [
    "If you do not put integers on either side of the : you get the original string"
   ]
  },
  {
   "cell_type": "code",
   "execution_count": null,
   "id": "27c1bb36",
   "metadata": {},
   "outputs": [],
   "source": [
    "word[:]"
   ]
  },
  {
   "cell_type": "markdown",
   "id": "e7a94911",
   "metadata": {},
   "source": [
    "Accessing individual characters in the string"
   ]
  },
  {
   "cell_type": "code",
   "execution_count": null,
   "id": "722dcef2",
   "metadata": {},
   "outputs": [],
   "source": [
    "#First character\n",
    "word[0]"
   ]
  },
  {
   "cell_type": "code",
   "execution_count": null,
   "id": "50b58eac",
   "metadata": {},
   "outputs": [],
   "source": [
    "#Seventh character\n",
    "word[6]"
   ]
  },
  {
   "cell_type": "code",
   "execution_count": null,
   "id": "a405112f",
   "metadata": {},
   "outputs": [],
   "source": [
    "#Last character\n",
    "word[-1]"
   ]
  },
  {
   "cell_type": "markdown",
   "id": "67813663",
   "metadata": {},
   "source": [
    "We can also slice string using intervals or steps"
   ]
  },
  {
   "cell_type": "markdown",
   "id": "62f2f810",
   "metadata": {},
   "source": [
    "Slice every even position character in this string."
   ]
  },
  {
   "cell_type": "code",
   "execution_count": null,
   "id": "6901e2ed",
   "metadata": {},
   "outputs": [],
   "source": [
    "word[::2]"
   ]
  },
  {
   "cell_type": "markdown",
   "id": "999d7b76",
   "metadata": {},
   "source": [
    "Odd position characters"
   ]
  },
  {
   "cell_type": "code",
   "execution_count": null,
   "id": "43f0950a",
   "metadata": {},
   "outputs": [],
   "source": [
    "word[1::2]"
   ]
  },
  {
   "cell_type": "code",
   "execution_count": null,
   "id": "824bf75d",
   "metadata": {},
   "outputs": [],
   "source": []
  },
  {
   "cell_type": "markdown",
   "id": "1ffd344d",
   "metadata": {},
   "source": [
    "Reverse string by putting -1 after the second :"
   ]
  },
  {
   "cell_type": "code",
   "execution_count": null,
   "id": "7d73af44",
   "metadata": {},
   "outputs": [],
   "source": [
    "word[::-1]"
   ]
  },
  {
   "cell_type": "markdown",
   "id": "23120180",
   "metadata": {},
   "source": [
    "### Review exercises."
   ]
  },
  {
   "cell_type": "markdown",
   "id": "b72832fe",
   "metadata": {},
   "source": [
    "**1**\n",
    "\n",
    "Find out what the `.find` method using the tips I mentioned earlier.\n",
    "\n",
    "Use it on the string below"
   ]
  },
  {
   "cell_type": "code",
   "execution_count": null,
   "id": "f95f8865",
   "metadata": {},
   "outputs": [],
   "source": [
    "string = \"cheese\""
   ]
  },
  {
   "cell_type": "markdown",
   "id": "9f1280d9",
   "metadata": {},
   "source": [
    "**2**\n",
    "\n",
    "Now using `.find`, extract the characters in `string` before the letter s and assign it to a variable."
   ]
  },
  {
   "cell_type": "code",
   "execution_count": null,
   "id": "51a32b8b",
   "metadata": {},
   "outputs": [],
   "source": []
  },
  {
   "cell_type": "markdown",
   "id": "3488184d",
   "metadata": {},
   "source": [
    "**3** \n",
    "\n",
    "Use `.count` to count the number of e characters in `string`."
   ]
  },
  {
   "cell_type": "code",
   "execution_count": null,
   "id": "0abb4703",
   "metadata": {},
   "outputs": [],
   "source": []
  }
 ],
 "metadata": {
  "kernelspec": {
   "display_name": "Python 3 (ipykernel)",
   "language": "python",
   "name": "python3"
  },
  "language_info": {
   "codemirror_mode": {
    "name": "ipython",
    "version": 3
   },
   "file_extension": ".py",
   "mimetype": "text/x-python",
   "name": "python",
   "nbconvert_exporter": "python",
   "pygments_lexer": "ipython3",
   "version": "3.9.12"
  }
 },
 "nbformat": 4,
 "nbformat_minor": 5
}
