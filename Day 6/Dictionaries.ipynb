{
 "cells": [
  {
   "cell_type": "markdown",
   "id": "b0b9ec6e",
   "metadata": {},
   "source": [
    "# Dictionaries\n",
    "\n",
    "Agenda:\n",
    "\n",
    "    - What are dictionaries? Dictionary syntax ({}, keys, values)\n",
    "    - Storing and accessing data in dictionaries\n",
    "    - Iterating over dictionaries.\n",
    "    - Dictionary Methods\n",
    "    "
   ]
  },
  {
   "cell_type": "markdown",
   "id": "2876e4be",
   "metadata": {},
   "source": [
    "In Python, a dictionary is a built-in data structure that allows you to store and organize data in key-value pairs. It is also sometimes referred to as an associative array, hashmap, or hash table in other programming languages. Dictionaries are commonly used when you need to access and manipulate data using unique keys, rather than numerical indices.\n",
    "\n",
    "The key-value pairs in a dictionary have the following characteristics:\n",
    "\n",
    "**Keys**: Each key in a dictionary must be unique and immutable. This means that you can use data types like strings, numbers (integers or floats), and tuples as keys, but you cannot use lists or other dictionaries since they are mutable and cannot be used as keys.\n",
    "\n",
    "**Values**: Values can be of any data type, including numbers, strings, lists, tuples, dictionaries, or any other objects.\n",
    "\n",
    "Dictionaries are defined using curly braces {} and specifying the key-value pairs inside them."
   ]
  },
  {
   "cell_type": "code",
   "execution_count": null,
   "id": "89db8465",
   "metadata": {},
   "outputs": [],
   "source": [
    "person_dict = {\"name\": \"Kylian Mbappe\",\n",
    "              \"age\": 24,\n",
    "              \"country\": \"France\",\n",
    "              \"teams\":[\"Monaco\", \"PSG\"]}"
   ]
  },
  {
   "cell_type": "markdown",
   "id": "a8ddd125",
   "metadata": {},
   "source": [
    "We access values in a dictionary by passing in a key into the [ ] "
   ]
  },
  {
   "cell_type": "code",
   "execution_count": null,
   "id": "738a5dc5",
   "metadata": {},
   "outputs": [],
   "source": [
    "#Name\n",
    "person_dict[\"name\"]"
   ]
  },
  {
   "cell_type": "code",
   "execution_count": null,
   "id": "0a4607cc",
   "metadata": {},
   "outputs": [],
   "source": [
    "#Age\n",
    "person_dict[\"age\"]"
   ]
  },
  {
   "cell_type": "code",
   "execution_count": null,
   "id": "5366e26e",
   "metadata": {},
   "outputs": [],
   "source": [
    "#country\n",
    "person_dict[\"country\"]"
   ]
  },
  {
   "cell_type": "code",
   "execution_count": null,
   "id": "206a9156",
   "metadata": {},
   "outputs": [],
   "source": [
    "#teams\n",
    "person_dict[\"teams\"]"
   ]
  },
  {
   "cell_type": "markdown",
   "id": "6c4dda5d",
   "metadata": {},
   "source": [
    "How would we access the last item in the values for `teams`?"
   ]
  },
  {
   "cell_type": "code",
   "execution_count": null,
   "id": "b0fc0808",
   "metadata": {},
   "outputs": [],
   "source": []
  },
  {
   "cell_type": "code",
   "execution_count": null,
   "id": "c2858552",
   "metadata": {},
   "outputs": [],
   "source": []
  },
  {
   "cell_type": "markdown",
   "id": "92ed85d3",
   "metadata": {},
   "source": [
    "We can use dictionaries as values in a dictionary."
   ]
  },
  {
   "cell_type": "code",
   "execution_count": null,
   "id": "53d85017",
   "metadata": {},
   "outputs": [],
   "source": [
    "#Add in a key value pair where the value is a dictionary\n",
    "person_dict[\"trophy_haul\"] = {\"World Cup\":1, \"Ligue 1\": 6}"
   ]
  },
  {
   "cell_type": "markdown",
   "id": "b2a5213a",
   "metadata": {},
   "source": [
    "How would we access the number of World Cups Kylian Mbappe has won?"
   ]
  },
  {
   "cell_type": "code",
   "execution_count": null,
   "id": "1af23187",
   "metadata": {},
   "outputs": [],
   "source": []
  },
  {
   "cell_type": "code",
   "execution_count": null,
   "id": "bfe94e65",
   "metadata": {},
   "outputs": [],
   "source": []
  },
  {
   "cell_type": "code",
   "execution_count": null,
   "id": "e34784fe",
   "metadata": {},
   "outputs": [],
   "source": []
  },
  {
   "cell_type": "markdown",
   "id": "188f5978",
   "metadata": {},
   "source": [
    "Let's add in a new key-value pair and update an existing one."
   ]
  },
  {
   "cell_type": "code",
   "execution_count": null,
   "id": "038ab766",
   "metadata": {},
   "outputs": [],
   "source": [
    "#add in a new key-value pair\n",
    "person_dict[\"goals\"] = 329"
   ]
  },
  {
   "cell_type": "code",
   "execution_count": null,
   "id": "8f135154",
   "metadata": {},
   "outputs": [],
   "source": [
    "#update a pre-existing key value pair\n",
    "person_dict[\"age\"] += 1"
   ]
  },
  {
   "cell_type": "code",
   "execution_count": null,
   "id": "cf61232b",
   "metadata": {},
   "outputs": [],
   "source": [
    "person_dict"
   ]
  },
  {
   "cell_type": "markdown",
   "id": "d9436a43",
   "metadata": {},
   "source": [
    "We can use the `update` method to add in key value pairs. We pass in a dictionary as an argument into `update`"
   ]
  },
  {
   "cell_type": "code",
   "execution_count": null,
   "id": "76d6b5d8",
   "metadata": {},
   "outputs": [],
   "source": [
    "person_dict.update({\"goals\":330})"
   ]
  },
  {
   "cell_type": "code",
   "execution_count": null,
   "id": "d0922f1a",
   "metadata": {},
   "outputs": [],
   "source": [
    "person_dict"
   ]
  },
  {
   "cell_type": "code",
   "execution_count": null,
   "id": "45cea150",
   "metadata": {},
   "outputs": [],
   "source": []
  },
  {
   "cell_type": "markdown",
   "id": "2ecad073",
   "metadata": {},
   "source": [
    "What happens if we try to access a key-value that does not exist?"
   ]
  },
  {
   "cell_type": "code",
   "execution_count": null,
   "id": "b0f1e10f",
   "metadata": {},
   "outputs": [],
   "source": [
    "#Code here"
   ]
  },
  {
   "cell_type": "code",
   "execution_count": null,
   "id": "fe104c8f",
   "metadata": {},
   "outputs": [],
   "source": []
  },
  {
   "cell_type": "markdown",
   "id": "c192d708",
   "metadata": {},
   "source": [
    "We can use `get` to output a specific value when we try to use a non-existent key."
   ]
  },
  {
   "cell_type": "code",
   "execution_count": null,
   "id": "17981b66",
   "metadata": {},
   "outputs": [],
   "source": [
    "#use the non-existent key from earlier\n",
    "person_dict.get()"
   ]
  },
  {
   "cell_type": "code",
   "execution_count": null,
   "id": "5072c134",
   "metadata": {},
   "outputs": [],
   "source": [
    "person_dict.get( , \"unknown\")"
   ]
  },
  {
   "cell_type": "code",
   "execution_count": null,
   "id": "f5f322a3",
   "metadata": {},
   "outputs": [],
   "source": []
  },
  {
   "cell_type": "markdown",
   "id": "0d37bdc5",
   "metadata": {},
   "source": [
    "If we want just the keys in the dictionary, we can use the `keys` method"
   ]
  },
  {
   "cell_type": "code",
   "execution_count": null,
   "id": "9e3e09ac",
   "metadata": {},
   "outputs": [],
   "source": [
    "person_dict.keys()"
   ]
  },
  {
   "cell_type": "markdown",
   "id": "dbe8ae0c",
   "metadata": {},
   "source": [
    "If we want the values, use `values`"
   ]
  },
  {
   "cell_type": "code",
   "execution_count": null,
   "id": "484ab1cc",
   "metadata": {},
   "outputs": [],
   "source": [
    "person_dict.values()"
   ]
  },
  {
   "cell_type": "code",
   "execution_count": null,
   "id": "ee13ec20",
   "metadata": {},
   "outputs": [],
   "source": []
  },
  {
   "cell_type": "code",
   "execution_count": null,
   "id": "cb36e6dd",
   "metadata": {},
   "outputs": [],
   "source": []
  },
  {
   "cell_type": "markdown",
   "id": "6e99519c",
   "metadata": {},
   "source": [
    "Delete key-values using either `pop` or `del`"
   ]
  },
  {
   "cell_type": "code",
   "execution_count": null,
   "id": "e31fc2b5",
   "metadata": {},
   "outputs": [],
   "source": [
    "person_dict.pop(\"age\")"
   ]
  },
  {
   "cell_type": "code",
   "execution_count": null,
   "id": "55c6c669",
   "metadata": {},
   "outputs": [],
   "source": [
    "person_dict"
   ]
  },
  {
   "cell_type": "code",
   "execution_count": null,
   "id": "e222819a",
   "metadata": {},
   "outputs": [],
   "source": [
    "del person_dict[\"goals\"]"
   ]
  },
  {
   "cell_type": "code",
   "execution_count": null,
   "id": "1a3aa456",
   "metadata": {},
   "outputs": [],
   "source": [
    "person_dict"
   ]
  },
  {
   "cell_type": "code",
   "execution_count": null,
   "id": "403fc371",
   "metadata": {},
   "outputs": [],
   "source": []
  },
  {
   "cell_type": "markdown",
   "id": "03e02e1a",
   "metadata": {},
   "source": [
    "Use `in` to see if a key is in a dictionary"
   ]
  },
  {
   "cell_type": "code",
   "execution_count": null,
   "id": "42b46326",
   "metadata": {},
   "outputs": [],
   "source": [
    "\"name\" in person_dict"
   ]
  },
  {
   "cell_type": "code",
   "execution_count": null,
   "id": "1f744646",
   "metadata": {},
   "outputs": [],
   "source": [
    "\"age\" in person_dict"
   ]
  },
  {
   "cell_type": "code",
   "execution_count": null,
   "id": "5aaadff3",
   "metadata": {},
   "outputs": [],
   "source": []
  },
  {
   "cell_type": "code",
   "execution_count": null,
   "id": "bb3f2eb2",
   "metadata": {},
   "outputs": [],
   "source": []
  },
  {
   "cell_type": "markdown",
   "id": "8addc2db",
   "metadata": {},
   "source": [
    "Take a moment to fill out the empty dictionary `me_info` below with information about yourself."
   ]
  },
  {
   "cell_type": "code",
   "execution_count": null,
   "id": "234416c8",
   "metadata": {},
   "outputs": [],
   "source": [
    "me_info = {}"
   ]
  },
  {
   "cell_type": "code",
   "execution_count": null,
   "id": "e5909a55",
   "metadata": {},
   "outputs": [],
   "source": [
    "#Update me_info here"
   ]
  },
  {
   "cell_type": "code",
   "execution_count": null,
   "id": "a3d4f0f3",
   "metadata": {},
   "outputs": [],
   "source": []
  },
  {
   "cell_type": "code",
   "execution_count": null,
   "id": "58b19056",
   "metadata": {},
   "outputs": [],
   "source": []
  },
  {
   "cell_type": "markdown",
   "id": "a861d65b",
   "metadata": {},
   "source": [
    "**Can you think of an instance or situation where it would preferable to store data in a dictionary as opposed to a list?**"
   ]
  },
  {
   "cell_type": "code",
   "execution_count": null,
   "id": "eaa1c4a1",
   "metadata": {},
   "outputs": [],
   "source": []
  },
  {
   "cell_type": "code",
   "execution_count": null,
   "id": "13b92201",
   "metadata": {},
   "outputs": [],
   "source": []
  },
  {
   "cell_type": "code",
   "execution_count": null,
   "id": "330fb008",
   "metadata": {},
   "outputs": [],
   "source": []
  },
  {
   "cell_type": "markdown",
   "id": "bc2e8176",
   "metadata": {},
   "source": [
    "### Counter Dictionary"
   ]
  },
  {
   "cell_type": "markdown",
   "id": "2c43bccb",
   "metadata": {},
   "source": [
    "Let's use dictionaries to count up the frequency of numbers in the `num_list` below. The keys are the unique numbers and the values are the frequencies.\n",
    "\n",
    "We are going to iterate over `num_list` increment the frequencies of each unique number."
   ]
  },
  {
   "cell_type": "code",
   "execution_count": null,
   "id": "3c216722",
   "metadata": {},
   "outputs": [],
   "source": [
    "num_list = [9, 5, 5, 2, 3, 6, 1, 4, 7, 1, 6, 5, 1, 6, 4, 4, 8, 7, 9, 8, 3, 0, 7, 7, 4, 7, 0, 2, 7, 0]"
   ]
  },
  {
   "cell_type": "markdown",
   "id": "4f21ad3d",
   "metadata": {},
   "source": [
    "Let's put this in a function too."
   ]
  },
  {
   "cell_type": "code",
   "execution_count": null,
   "id": "a9585a07",
   "metadata": {},
   "outputs": [],
   "source": [
    "#Code here\n",
    "def counter(num_list):\n",
    "    "
   ]
  },
  {
   "cell_type": "code",
   "execution_count": null,
   "id": "3134f45e",
   "metadata": {},
   "outputs": [],
   "source": [
    "freq = counter(num_list)\n",
    "freq"
   ]
  },
  {
   "cell_type": "code",
   "execution_count": null,
   "id": "ad86461b",
   "metadata": {},
   "outputs": [],
   "source": []
  },
  {
   "cell_type": "markdown",
   "id": "8cefdaa2",
   "metadata": {},
   "source": [
    "Sort the frequency dictionary based on its keys."
   ]
  },
  {
   "cell_type": "code",
   "execution_count": null,
   "id": "90d5ba94",
   "metadata": {},
   "outputs": [],
   "source": [
    "sorted(freq.items())"
   ]
  },
  {
   "cell_type": "markdown",
   "id": "9d2feebd",
   "metadata": {},
   "source": [
    "Sort the frequency dictionary based on its values. We need to use a lambda function to direct `sorted` to sort by the values, which we pass into the `key` parameter of `sorted`."
   ]
  },
  {
   "cell_type": "code",
   "execution_count": null,
   "id": "8b46df80",
   "metadata": {},
   "outputs": [],
   "source": [
    "sorted(freq.items(), key= lambda x:x[1])"
   ]
  },
  {
   "cell_type": "code",
   "execution_count": null,
   "id": "d11824b0",
   "metadata": {},
   "outputs": [],
   "source": []
  },
  {
   "cell_type": "markdown",
   "id": "313c814c",
   "metadata": {},
   "source": [
    "Create a dictionary by zipping up two lists and use the `dict` function"
   ]
  },
  {
   "cell_type": "code",
   "execution_count": null,
   "id": "7fd7934c",
   "metadata": {},
   "outputs": [],
   "source": [
    "keys = list(range(10))\n",
    "values = [i**2 for i in keys]\n",
    "\n",
    "squares_dict = dict(zip(keys, values))\n",
    "squares_dict"
   ]
  },
  {
   "cell_type": "code",
   "execution_count": null,
   "id": "616e9771",
   "metadata": {},
   "outputs": [],
   "source": []
  },
  {
   "cell_type": "code",
   "execution_count": null,
   "id": "d3cf2bce",
   "metadata": {},
   "outputs": [],
   "source": []
  },
  {
   "cell_type": "markdown",
   "id": "230bf9bf",
   "metadata": {},
   "source": [
    "### Iterating over Dictionaries\n",
    "\n",
    "In Python, iterating over dictionaries allows you to access and process the key-value pairs present in the dictionary. Since dictionaries are unordered collections, the order of iteration may not match the order in which the items were added. There are several ways to iterate over dictionaries, each serving different purposes. Let's explore them:\n",
    "\n",
    "Iterating over keys:\n",
    "\n",
    "You can use a for loop to iterate over the keys of a dictionary using the `keys()` method or directly by using the dictionary itself as an iterable. By default, iterating over a dictionary directly will iterate over its keys."
   ]
  },
  {
   "cell_type": "code",
   "execution_count": null,
   "id": "08a40874",
   "metadata": {},
   "outputs": [],
   "source": [
    "#Iterate over the me_info dictionary\n",
    "for key in me_info:\n",
    "    print(f\"Key = {key}\")"
   ]
  },
  {
   "cell_type": "code",
   "execution_count": null,
   "id": "869b6313",
   "metadata": {},
   "outputs": [],
   "source": [
    "for key in me_info.keys():\n",
    "    print(f\"Key = {key}\")"
   ]
  },
  {
   "cell_type": "markdown",
   "id": "1fa0fdbd",
   "metadata": {},
   "source": [
    "We can also iterate over values"
   ]
  },
  {
   "cell_type": "code",
   "execution_count": null,
   "id": "2427997c",
   "metadata": {},
   "outputs": [],
   "source": [
    "for value in me_info.values():\n",
    "    print(f\"Value = {value}\")\n",
    "    "
   ]
  },
  {
   "cell_type": "markdown",
   "id": "9f9348c2",
   "metadata": {},
   "source": [
    "Iterate using both keys and values at the same time by using `.items()`"
   ]
  },
  {
   "cell_type": "code",
   "execution_count": null,
   "id": "aa15181e",
   "metadata": {},
   "outputs": [],
   "source": [
    "for key, value in me_info.items():\n",
    "    \n",
    "    print(f\"Key = {key}, Value = {value}\")"
   ]
  },
  {
   "cell_type": "code",
   "execution_count": null,
   "id": "24cb8587",
   "metadata": {},
   "outputs": [],
   "source": []
  },
  {
   "cell_type": "markdown",
   "id": "79964c29",
   "metadata": {},
   "source": [
    "**Dictionary Comprehension**"
   ]
  },
  {
   "cell_type": "markdown",
   "id": "6e1ac1e9",
   "metadata": {},
   "source": [
    "Dictionary comprehensions are functionally similar to list comprehensions but with a slight difference in syntax"
   ]
  },
  {
   "cell_type": "markdown",
   "id": "34e5f741",
   "metadata": {},
   "source": [
    "Syntax: {key_expression: value_expression for item in iterable}"
   ]
  },
  {
   "cell_type": "code",
   "execution_count": null,
   "id": "a93e758e",
   "metadata": {},
   "outputs": [],
   "source": [
    "squares_dict = {i:i**2 for i in range(10)}\n",
    "squares_dict"
   ]
  },
  {
   "cell_type": "markdown",
   "id": "3b6a28d4",
   "metadata": {},
   "source": [
    "Iterate over a dictionary in a dictionary comprehension.\n",
    "\n",
    "Example: swap around the keys and values in `squares_dict`"
   ]
  },
  {
   "cell_type": "code",
   "execution_count": null,
   "id": "c6a26da3",
   "metadata": {},
   "outputs": [],
   "source": [
    "squares_dict_swap = {v:k for k, v in squares_dict.items()}\n",
    "squares_dict_swap"
   ]
  },
  {
   "cell_type": "markdown",
   "id": "ff5e5046",
   "metadata": {},
   "source": [
    "Use a dictionary comprehensions to create dictionary of names and their lengths.\n",
    "\n",
    "First let's use the full name and make sure to remove spaces."
   ]
  },
  {
   "cell_type": "code",
   "execution_count": null,
   "id": "ef18aeea",
   "metadata": {},
   "outputs": [],
   "source": [
    "names = ['Isabel Martin', 'Janelle Lin', 'Jeffrey Chang',\n",
    " 'Karen Wei', 'Kimberley Soriano', 'Kritika Mishra', 'Harim Lee', 'Linda Mutesi',\n",
    " 'Marie Nurdaulet', 'Miguel Rodriguez-Arias', 'Naima Amraan', \"Frances Brittingham\"]\n",
    "\n",
    "# name_length_dict = \n",
    "# name_length_dict"
   ]
  },
  {
   "cell_type": "code",
   "execution_count": null,
   "id": "60e4ccb6",
   "metadata": {},
   "outputs": [],
   "source": [
    "print(\" \".join(names))"
   ]
  },
  {
   "cell_type": "markdown",
   "id": "e789fe1b",
   "metadata": {},
   "source": [
    "Now let's create a nested dictionary where the key points to a dictionary withs keys \"first\" and \"last\" which indicate the lengths of the first and last names.\n",
    "\n",
    "We're not using a comprehension here."
   ]
  },
  {
   "cell_type": "code",
   "execution_count": null,
   "id": "4c767dda",
   "metadata": {},
   "outputs": [],
   "source": [
    "name_length_dict = {}"
   ]
  },
  {
   "cell_type": "code",
   "execution_count": null,
   "id": "6a381b6c",
   "metadata": {},
   "outputs": [],
   "source": []
  },
  {
   "cell_type": "code",
   "execution_count": null,
   "id": "5c7724bc",
   "metadata": {},
   "outputs": [],
   "source": []
  },
  {
   "cell_type": "markdown",
   "id": "56642344",
   "metadata": {},
   "source": [
    "\n",
    "**Chunking With Python**"
   ]
  },
  {
   "cell_type": "markdown",
   "id": "4c5aace2",
   "metadata": {},
   "source": [
    "There are 12 items in the `names` list and I want to divide that list in four groups of three.\n",
    "\n",
    "So that the groups are:\n",
    "\n",
    "- Group 1: Isabel Martin, Janelle Lin, Jeffrey Chang\n",
    "- Group 2: Karen Wei, Kimberley Soriano, Kritika Mishra\n",
    "- Group 3: Harim Lee, Linda Mutesi, Marie Nurdaulet\n",
    "- Group 4: Miguel Rodriguez-Arias, Naima Amraan, Frances Brittingham\n",
    "<br>\n",
    "\n",
    "Basically the first three names are group 1, the second group of three are 2, and so on."
   ]
  },
  {
   "cell_type": "markdown",
   "id": "ea4b9743",
   "metadata": {},
   "source": [
    "The result will be stored in a dictionary where group names will be the keys and the values are lists of names."
   ]
  },
  {
   "cell_type": "code",
   "execution_count": null,
   "id": "0baabeef",
   "metadata": {},
   "outputs": [],
   "source": [
    "#Output DO NOT RUN THIS LINE"
   ]
  },
  {
   "cell_type": "code",
   "execution_count": null,
   "id": "a6792928",
   "metadata": {},
   "outputs": [],
   "source": [
    "group_dict = {}"
   ]
  },
  {
   "cell_type": "code",
   "execution_count": null,
   "id": "40235921",
   "metadata": {},
   "outputs": [],
   "source": []
  },
  {
   "cell_type": "markdown",
   "id": "992e0102",
   "metadata": {},
   "source": [
    "**Tag Time**\n",
    "\n",
    "In this not too different part, we're going to create a dictionary where keys are the tagger and the values are the tagged. \n",
    "\n",
    "We're going to use the order of names to determine the tagging as shown below"
   ]
  },
  {
   "cell_type": "code",
   "execution_count": null,
   "id": "4feb708a",
   "metadata": {},
   "outputs": [],
   "source": [
    "#Output DO NOT RUN THIS LINE"
   ]
  },
  {
   "cell_type": "code",
   "execution_count": null,
   "id": "4f33e990",
   "metadata": {},
   "outputs": [],
   "source": []
  },
  {
   "cell_type": "code",
   "execution_count": null,
   "id": "72d3da5c",
   "metadata": {},
   "outputs": [],
   "source": []
  },
  {
   "cell_type": "code",
   "execution_count": null,
   "id": "fcc9e4e3",
   "metadata": {},
   "outputs": [],
   "source": []
  },
  {
   "cell_type": "markdown",
   "id": "af6c0317",
   "metadata": {},
   "source": [
    "What if we want give someone to tag to Frances? Let's complete the circle by having Frances tag Isabel."
   ]
  },
  {
   "cell_type": "code",
   "execution_count": null,
   "id": "7ee0426d",
   "metadata": {},
   "outputs": [],
   "source": []
  }
 ],
 "metadata": {
  "kernelspec": {
   "display_name": "Python 3 (ipykernel)",
   "language": "python",
   "name": "python3"
  },
  "language_info": {
   "codemirror_mode": {
    "name": "ipython",
    "version": 3
   },
   "file_extension": ".py",
   "mimetype": "text/x-python",
   "name": "python",
   "nbconvert_exporter": "python",
   "pygments_lexer": "ipython3",
   "version": "3.9.12"
  }
 },
 "nbformat": 4,
 "nbformat_minor": 5
}
