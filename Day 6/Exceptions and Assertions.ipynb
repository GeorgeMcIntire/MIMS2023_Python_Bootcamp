{
 "cells": [
  {
   "cell_type": "markdown",
   "id": "863f4cd0",
   "metadata": {},
   "source": [
    "# Exceptions and Assertions"
   ]
  },
  {
   "cell_type": "markdown",
   "id": "48667ed1",
   "metadata": {},
   "source": [
    "### Exception Handling"
   ]
  },
  {
   "cell_type": "markdown",
   "id": "69a787ee",
   "metadata": {},
   "source": [
    "Exception handling is a mechanism in Python (and many other programming languages) that allows you to gracefully deal with runtime errors or exceptional situations that may occur during the execution of your code. These exceptional situations are known as exceptions.\n",
    "\n",
    "In Python, when an error or exception occurs during the execution of a program, it raises an exception. If the exception is not handled properly, it will result in the termination of the program with an error message.\n",
    "\n",
    "Exception handling allows you to intercept these exceptions, handle them, and continue the execution of the program without crashing. It provides a way to control the flow of the program even in the presence of unexpected errors.\n",
    "\n",
    "The core components of exception handling in Python are:\n",
    "\n",
    "`try`: This block is used to enclose the code that might raise an exception.\n",
    "\n",
    "`except`: If an exception occurs within the try block, it is caught by the corresponding except block. This block contains the code that will handle the exception.\n",
    "\n",
    "`else` (optional): The else block is executed only if there are no exceptions in the try block. It can be used for code that should run when there are no exceptions.\n",
    "\n",
    "`finally` (optional): The finally block is always executed, regardless of whether an exception occurred or not. It is typically used for cleanup actions like closing files or releasing resources."
   ]
  },
  {
   "cell_type": "code",
   "execution_count": null,
   "id": "b1bde092",
   "metadata": {},
   "outputs": [],
   "source": [
    "num = \"$3.39\"\n",
    "\n",
    "try:\n",
    "    \n",
    "    num = float(num)\n",
    "    print(\"Converted {} to float\".format(num))\n",
    "    \n",
    "except ValueError:\n",
    "    \n",
    "    print(\"Cannot convert {} to float\".format(num))\n",
    "    "
   ]
  },
  {
   "cell_type": "markdown",
   "id": "5682bc53",
   "metadata": {},
   "source": [
    "Example in which the `try` block works"
   ]
  },
  {
   "cell_type": "code",
   "execution_count": null,
   "id": "aec06b69",
   "metadata": {},
   "outputs": [],
   "source": [
    "num = \"3.39\"\n",
    "\n",
    "try:\n",
    "    \n",
    "    num = float(num)\n",
    "    print(\"Converted {} to float\".format(num))\n",
    "    \n",
    "except ValueError:\n",
    "    \n",
    "    print(\"Cannot convert {} to float\".format(num))\n",
    "    "
   ]
  },
  {
   "cell_type": "markdown",
   "id": "cd4102e9",
   "metadata": {},
   "source": [
    "You don't have to put a specific error you can use a general `except` clause"
   ]
  },
  {
   "cell_type": "code",
   "execution_count": null,
   "id": "e04266af",
   "metadata": {},
   "outputs": [],
   "source": [
    "num = \"$3.39\"\n",
    "\n",
    "try:\n",
    "    \n",
    "    num = float(num)\n",
    "    print(\"Converted {} to float\".format(num))\n",
    "    \n",
    "except:\n",
    "    \n",
    "    print(\"Cannot convert {} to float\".format(num))\n",
    "    "
   ]
  },
  {
   "cell_type": "markdown",
   "id": "c5d67796",
   "metadata": {},
   "source": [
    "This is generally not recommended.\n",
    "\n",
    "This [stack overflow response](https://stackoverflow.com/questions/14797375/should-i-always-specify-an-exception-type-in-except-statements) provides a great explanation why:\n",
    "\n",
    "\n",
    "\"It's almost always better to specify an explicit exception type. If you use a naked except: clause, you might end up catching exceptions other than the ones you expect to catch - this can hide bugs or make it harder to debug programs when they aren't doing what you expect.\n",
    "\n",
    "For example, if you're inserting a row into a database, you might want to catch an exception that indicates that the row already exists, so you can do an update.\n",
    "\n",
    "`try:\n",
    "    insert(connection, data)\n",
    "except:\n",
    "    update(connection, data)`\n",
    "    \n",
    "If you specify a bare except:, you would also catch a socket error indicating that the database server has fallen over. It's best to only catch exceptions that you know how to handle - it's often better for the program to fail at the point of the exception than to continue but behave in weird unexpected ways.\""
   ]
  },
  {
   "cell_type": "code",
   "execution_count": null,
   "id": "4b24fd71",
   "metadata": {},
   "outputs": [],
   "source": []
  },
  {
   "cell_type": "code",
   "execution_count": null,
   "id": "ee77cdd4",
   "metadata": {},
   "outputs": [],
   "source": []
  },
  {
   "cell_type": "markdown",
   "id": "e242e0db",
   "metadata": {},
   "source": [
    "Add `finally` block"
   ]
  },
  {
   "cell_type": "code",
   "execution_count": null,
   "id": "c90f666d",
   "metadata": {},
   "outputs": [],
   "source": [
    "num = \"3.39\"\n",
    "\n",
    "try:\n",
    "    \n",
    "    num = float(num)\n",
    "    result = \"Success\"\n",
    "    print(\"Converted {} to float\".format(num))\n",
    "    \n",
    "except ValueError:\n",
    "    \n",
    "    print(\"Cannot convert {} to float\".format(num))\n",
    "    result = \"Failure\"\n",
    "    \n",
    "    \n",
    "finally:\n",
    "    \n",
    "    print(\"Float Conversion program is complete it was a {}\".format(result))"
   ]
  },
  {
   "cell_type": "code",
   "execution_count": null,
   "id": "7881f7eb",
   "metadata": {},
   "outputs": [],
   "source": []
  },
  {
   "cell_type": "code",
   "execution_count": null,
   "id": "ace7e773",
   "metadata": {},
   "outputs": [],
   "source": []
  },
  {
   "cell_type": "markdown",
   "id": "6026424d",
   "metadata": {},
   "source": [
    "**Pseudo code exempt**\n",
    "\n",
    "I like to use `try/except` clauses when I'm scraping data from a list of websites. For websites that I fail to scrap (they return an error) I make sure to collect those failed urls in a list."
   ]
  },
  {
   "cell_type": "code",
   "execution_count": null,
   "id": "ea0c65b0",
   "metadata": {},
   "outputs": [],
   "source": [
    "# bad_urls = []\n",
    "\n",
    "# url_data = {}\n",
    "\n",
    "# for url in urls:\n",
    "#     try:\n",
    "#         data = scraper(url)\n",
    "#         url_data[url] = data\n",
    "#     except:\n",
    "#         bad_urls.append(url)"
   ]
  },
  {
   "cell_type": "code",
   "execution_count": null,
   "id": "10ec3ac0",
   "metadata": {},
   "outputs": [],
   "source": []
  },
  {
   "cell_type": "markdown",
   "id": "c5165173",
   "metadata": {},
   "source": [
    "## Assertions\n",
    "\n",
    "In Python, an assertion is a statement used to check whether a given condition is true. It is a way to ensure that certain conditions hold true during the execution of a program. Assertions are primarily used for debugging and testing purposes. When an assertion fails (i.e., the condition evaluates to False), it raises an exception called \"AssertionError.\""
   ]
  },
  {
   "cell_type": "markdown",
   "id": "7220cbb4",
   "metadata": {},
   "source": [
    "An assertion that checks to see if n is numeric and raises an error if it isn't."
   ]
  },
  {
   "cell_type": "code",
   "execution_count": null,
   "id": "5ffece42",
   "metadata": {},
   "outputs": [],
   "source": [
    "n = \"459\""
   ]
  },
  {
   "cell_type": "code",
   "execution_count": null,
   "id": "ded33de1",
   "metadata": {},
   "outputs": [],
   "source": [
    "assert n.isnumeric(), \"{} is not numeric\".format(n)"
   ]
  },
  {
   "cell_type": "markdown",
   "id": "70273164",
   "metadata": {},
   "source": [
    "Failed assertion. \"{} is not numeric\" is the message that is printed when the assertion fails."
   ]
  },
  {
   "cell_type": "code",
   "execution_count": null,
   "id": "49b99c27",
   "metadata": {},
   "outputs": [],
   "source": [
    "n = \"#459\"\n",
    "assert n.isnumeric(), \"{} is not numeric\".format(n)"
   ]
  },
  {
   "cell_type": "code",
   "execution_count": null,
   "id": "a5e3adfe",
   "metadata": {},
   "outputs": [],
   "source": []
  },
  {
   "cell_type": "markdown",
   "id": "d02575bd",
   "metadata": {},
   "source": [
    "Assertions can be used in checking the types of inputs in functions."
   ]
  },
  {
   "cell_type": "code",
   "execution_count": null,
   "id": "39614fd4",
   "metadata": {},
   "outputs": [],
   "source": [
    "def divide(a, b):\n",
    "    assert b != 0, \"Division by zero is not allowed!\"\n",
    "    return a / b\n",
    "\n",
    "result = divide(10, 2)\n",
    "result\n"
   ]
  },
  {
   "cell_type": "markdown",
   "id": "04fa82c7",
   "metadata": {},
   "source": [
    "This will raise an AssertionError"
   ]
  },
  {
   "cell_type": "code",
   "execution_count": null,
   "id": "e186d16e",
   "metadata": {},
   "outputs": [],
   "source": [
    "\n",
    "divide(10, 0)"
   ]
  },
  {
   "cell_type": "markdown",
   "id": "2200719f",
   "metadata": {},
   "source": [
    "Write a function that calculates the mean of a list of numbers that checks to see if \n",
    "\n",
    "- The function argument is a list\n",
    "- All the items in that argument are numeric."
   ]
  },
  {
   "cell_type": "code",
   "execution_count": null,
   "id": "e3ce3cc4",
   "metadata": {},
   "outputs": [],
   "source": [
    "def mean():"
   ]
  }
 ],
 "metadata": {
  "kernelspec": {
   "display_name": "Python 3 (ipykernel)",
   "language": "python",
   "name": "python3"
  },
  "language_info": {
   "codemirror_mode": {
    "name": "ipython",
    "version": 3
   },
   "file_extension": ".py",
   "mimetype": "text/x-python",
   "name": "python",
   "nbconvert_exporter": "python",
   "pygments_lexer": "ipython3",
   "version": "3.9.12"
  }
 },
 "nbformat": 4,
 "nbformat_minor": 5
}
