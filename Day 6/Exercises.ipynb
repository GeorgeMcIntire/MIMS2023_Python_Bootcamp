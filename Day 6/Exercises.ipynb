{
 "cells": [
  {
   "cell_type": "markdown",
   "id": "e4e70051",
   "metadata": {},
   "source": [
    "## Exercise 1: Case Urls\n",
    "\n",
    "\n"
   ]
  },
  {
   "cell_type": "markdown",
   "id": "6a72e76f",
   "metadata": {},
   "source": [
    "Create a dictionary where the ids in `case_ids` are keys in dictionary where the values are the urls for their legal cases. Put the case id in the curly brackets in the `url` string"
   ]
  },
  {
   "cell_type": "code",
   "execution_count": 3,
   "id": "c8583568",
   "metadata": {},
   "outputs": [],
   "source": [
    "url = \"https://scholar.google.com/scholar_case?case={}\"\n",
    "case_ids = [6768454, 7712102, 6448738, 5374866, 6167299, 4683704, 3160303,\n",
    "       3379031, 5507176, 7024792, 9332965, 3999836, 1314612, 5918388,\n",
    "       1994897, 6497745, 4011633, 2837473, 7121246, 2001872]"
   ]
  },
  {
   "cell_type": "markdown",
   "id": "4e0dd68e",
   "metadata": {},
   "source": [
    "Output"
   ]
  },
  {
   "cell_type": "code",
   "execution_count": 5,
   "id": "2c8fe5b8",
   "metadata": {},
   "outputs": [
    {
     "data": {
      "text/plain": [
       "{6768454: 'https://scholar.google.com/scholar_case?case=6768454',\n",
       " 7712102: 'https://scholar.google.com/scholar_case?case=7712102',\n",
       " 6448738: 'https://scholar.google.com/scholar_case?case=6448738',\n",
       " 5374866: 'https://scholar.google.com/scholar_case?case=5374866',\n",
       " 6167299: 'https://scholar.google.com/scholar_case?case=6167299',\n",
       " 4683704: 'https://scholar.google.com/scholar_case?case=4683704',\n",
       " 3160303: 'https://scholar.google.com/scholar_case?case=3160303',\n",
       " 3379031: 'https://scholar.google.com/scholar_case?case=3379031',\n",
       " 5507176: 'https://scholar.google.com/scholar_case?case=5507176',\n",
       " 7024792: 'https://scholar.google.com/scholar_case?case=7024792',\n",
       " 9332965: 'https://scholar.google.com/scholar_case?case=9332965',\n",
       " 3999836: 'https://scholar.google.com/scholar_case?case=3999836',\n",
       " 1314612: 'https://scholar.google.com/scholar_case?case=1314612',\n",
       " 5918388: 'https://scholar.google.com/scholar_case?case=5918388',\n",
       " 1994897: 'https://scholar.google.com/scholar_case?case=1994897',\n",
       " 6497745: 'https://scholar.google.com/scholar_case?case=6497745',\n",
       " 4011633: 'https://scholar.google.com/scholar_case?case=4011633',\n",
       " 2837473: 'https://scholar.google.com/scholar_case?case=2837473',\n",
       " 7121246: 'https://scholar.google.com/scholar_case?case=7121246',\n",
       " 2001872: 'https://scholar.google.com/scholar_case?case=2001872'}"
      ]
     },
     "execution_count": 5,
     "metadata": {},
     "output_type": "execute_result"
    }
   ],
   "source": [
    "# Do not run this cell."
   ]
  },
  {
   "cell_type": "code",
   "execution_count": 27,
   "id": "24234f0e",
   "metadata": {},
   "outputs": [],
   "source": [
    "#Code here"
   ]
  },
  {
   "cell_type": "code",
   "execution_count": null,
   "id": "964053bb",
   "metadata": {},
   "outputs": [],
   "source": []
  },
  {
   "cell_type": "markdown",
   "id": "3f095c60",
   "metadata": {},
   "source": [
    "## Exercise 2: Stock Price Difference"
   ]
  },
  {
   "cell_type": "markdown",
   "id": "8078b4e5",
   "metadata": {},
   "source": [
    "We're going to find the difference between stock price seperated by n number of days.\n",
    "\n",
    "For example if that n days is 3. Then we're going to find the difference between Day 1 and Day 4, Day 2 and Day 5, and so on."
   ]
  },
  {
   "cell_type": "markdown",
   "id": "82b567ab",
   "metadata": {},
   "source": [
    "`prices` is initialized below."
   ]
  },
  {
   "cell_type": "code",
   "execution_count": 8,
   "id": "fb5fa885",
   "metadata": {},
   "outputs": [],
   "source": [
    "prices = [109, 125, 138, 146, 133, 144, 147, 112, 134, 119, 141, 115, 102,\n",
    "       142, 112, 105, 103, 123, 104, 130]"
   ]
  },
  {
   "cell_type": "markdown",
   "id": "34d3d53c",
   "metadata": {},
   "source": [
    "Create a new list called `days` where the items are [\"Day 1\", \"Day 2\", \"Day 3\", \"Day 4\", ....]\n",
    "\n",
    "Use a list comprehension to do this."
   ]
  },
  {
   "cell_type": "code",
   "execution_count": 10,
   "id": "37738811",
   "metadata": {},
   "outputs": [],
   "source": [
    "days = "
   ]
  },
  {
   "cell_type": "markdown",
   "id": "0b9bfd3f",
   "metadata": {},
   "source": [
    "Now write a function that takes in three parameters:`days`, `prices` and `n`\n",
    "\n",
    "This function will output a dictionary where keys are \"Day x-y\" and the values are the differences. x and y are determined by `n`\n",
    "\n",
    "Example output below with n = 3"
   ]
  },
  {
   "cell_type": "code",
   "execution_count": 17,
   "id": "60bb51db",
   "metadata": {},
   "outputs": [
    {
     "data": {
      "text/plain": [
       "{'Day 1-4': 37,\n",
       " 'Day 2-5': 8,\n",
       " 'Day 3-6': 6,\n",
       " 'Day 4-7': 1,\n",
       " 'Day 5-8': -21,\n",
       " 'Day 6-9': -10,\n",
       " 'Day 7-10': -28,\n",
       " 'Day 8-11': 29,\n",
       " 'Day 9-12': -19,\n",
       " 'Day 10-13': -17,\n",
       " 'Day 11-14': 1,\n",
       " 'Day 12-15': -3,\n",
       " 'Day 13-16': 3,\n",
       " 'Day 14-17': -39,\n",
       " 'Day 15-18': 11,\n",
       " 'Day 16-19': -1,\n",
       " 'Day 17-20': 27}"
      ]
     },
     "execution_count": 17,
     "metadata": {},
     "output_type": "execute_result"
    }
   ],
   "source": [
    "#DO NOT RUN THIS CELL"
   ]
  },
  {
   "cell_type": "code",
   "execution_count": null,
   "id": "32999ea1",
   "metadata": {},
   "outputs": [],
   "source": [
    "#CODE HERE"
   ]
  },
  {
   "cell_type": "code",
   "execution_count": null,
   "id": "b1b6f0bb",
   "metadata": {},
   "outputs": [],
   "source": []
  },
  {
   "cell_type": "markdown",
   "id": "235361a6",
   "metadata": {},
   "source": [
    "## Exercise 3: First Letter Frequency\n",
    "\n",
    "Create a dictionary that keeps track of the frequencies of the first letters of the words in the follwing passage.\n",
    "\n",
    "Casing does not matter here."
   ]
  },
  {
   "cell_type": "code",
   "execution_count": 19,
   "id": "b87ff330",
   "metadata": {},
   "outputs": [],
   "source": [
    "text = \"\"\"MLPs – the other core building block of Transformers – also introduce an efficiency bottleneck, \n",
    "which becomes more acute as we continue to optimize attention. \n",
    "MLPs are quadratic in the model width, which means they grow more expensive as you make models wider. \n",
    "This is why models like GPT-3 are so expensive, \n",
    "and why GPT-4 has allegedly started using techniques like mixtures of experts.\"\"\"\n"
   ]
  },
  {
   "cell_type": "code",
   "execution_count": null,
   "id": "d270ea02",
   "metadata": {},
   "outputs": [],
   "source": []
  },
  {
   "cell_type": "markdown",
   "id": "f64140aa",
   "metadata": {},
   "source": [
    "**Part 2**\n",
    "\n",
    "Create a new dictionary that tallies the frequencies of starting letters that are vowel and consonants.\n",
    "\n",
    "Do this by iterating over the letter frequency dictionary you just created."
   ]
  },
  {
   "cell_type": "code",
   "execution_count": null,
   "id": "df5bd3a7",
   "metadata": {},
   "outputs": [],
   "source": []
  },
  {
   "cell_type": "markdown",
   "id": "3625ffb1",
   "metadata": {},
   "source": [
    "## Exercise 4: Fizz Buzz Dictionary\n",
    "\n",
    "\n",
    "Look at the fizz buzz exercise from the Day 5 exercise to refresh yourself on what fizzbuzz is.\n",
    "\n",
    "Create a dictionary where the keys are [\"Fizz\", \"Buzz\", \"FizzBuzz\"] and the values are list of the numbers assigned to each key. Do this for numbers 1 - 200"
   ]
  },
  {
   "cell_type": "markdown",
   "id": "4ddd1154",
   "metadata": {},
   "source": [
    "Hint: you may want to pre-initialize the keys with empty lists."
   ]
  },
  {
   "cell_type": "code",
   "execution_count": 26,
   "id": "84a76146",
   "metadata": {},
   "outputs": [
    {
     "name": "stdout",
     "output_type": "stream",
     "text": [
      "{'Fizz': [3, 6, 9, 12, 18, 21, 24, 27, 33, 36, 39, 42, 48, 51, 54, 57, 63, 66, 69, 72, 78, 81, 84, 87, 93, 96, 99, 102, 108, 111, 114, 117, 123, 126, 129, 132, 138, 141, 144, 147, 153, 156, 159, 162, 168, 171, 174, 177, 183, 186, 189, 192, 198], 'Buzz': [5, 10, 20, 25, 35, 40, 50, 55, 65, 70, 80, 85, 95, 100, 110, 115, 125, 130, 140, 145, 155, 160, 170, 175, 185, 190, 200], 'FizzBuzz': [15, 30, 45, 60, 75, 90, 105, 120, 135, 150, 165, 180, 195]}\n"
     ]
    }
   ],
   "source": [
    "#Output DO NOT RUN THIS CELL"
   ]
  },
  {
   "cell_type": "code",
   "execution_count": null,
   "id": "00941cdb",
   "metadata": {},
   "outputs": [],
   "source": [
    "#Code here\n"
   ]
  },
  {
   "cell_type": "code",
   "execution_count": null,
   "id": "f435a631",
   "metadata": {},
   "outputs": [],
   "source": []
  },
  {
   "cell_type": "markdown",
   "id": "2542cc4b",
   "metadata": {},
   "source": [
    "## Exercise 5: IQR \n",
    "\n",
    "Write a function that finds the IQR (inter quartile range) for a list of numbers.\n",
    "\n",
    "[IQR Explanation](https://www.scribbr.com/statistics/interquartile-range/#:~:text=In%20descriptive%20statistics%2C%20the%20interquartile,half%20of%20your%20data%20set.)"
   ]
  },
  {
   "cell_type": "code",
   "execution_count": 33,
   "id": "ffcf3553",
   "metadata": {},
   "outputs": [],
   "source": [
    "num_list = [6, 3, 20, 45, 8, 39, 18, 9, 45,\n",
    "            18, 39, 45, 10, 15, 19, \n",
    "            12, 14, 25, 22, 9]"
   ]
  },
  {
   "cell_type": "code",
   "execution_count": 42,
   "id": "b9badb10",
   "metadata": {},
   "outputs": [],
   "source": [
    "Output: 18.75"
   ]
  },
  {
   "cell_type": "code",
   "execution_count": null,
   "id": "8b4ab3c5",
   "metadata": {},
   "outputs": [],
   "source": []
  }
 ],
 "metadata": {
  "kernelspec": {
   "display_name": "Python 3 (ipykernel)",
   "language": "python",
   "name": "python3"
  },
  "language_info": {
   "codemirror_mode": {
    "name": "ipython",
    "version": 3
   },
   "file_extension": ".py",
   "mimetype": "text/x-python",
   "name": "python",
   "nbconvert_exporter": "python",
   "pygments_lexer": "ipython3",
   "version": "3.9.12"
  }
 },
 "nbformat": 4,
 "nbformat_minor": 5
}
