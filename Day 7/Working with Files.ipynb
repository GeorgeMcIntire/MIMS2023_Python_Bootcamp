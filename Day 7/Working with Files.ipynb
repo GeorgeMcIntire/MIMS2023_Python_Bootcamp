{
 "cells": [
  {
   "cell_type": "markdown",
   "id": "57836f08",
   "metadata": {},
   "source": [
    "# Reading and Writing Files\n",
    "\n",
    "\n",
    "In Python, reading and writing files is a fundamental operation for handling data. Python provides built-in functions and methods to easily perform these tasks. To work with files, you typically follow these steps:\n",
    "\n",
    "Opening a File:\n",
    "To read from or write to a file, you first need to open it. You can use the built-in open() function for this purpose. The open() function takes two arguments: the file path and the mode. The mode specifies whether you want to read, write, or append to the file. The common modes are:\n",
    "\n",
    "`r`: Read mode (default). It allows you to read from the file.\n",
    "\n",
    "`w`: Write mode. It allows you to write to the file. If the file exists, it will be truncated (i.e., its content will be erased). If the file does not exist, a new file will be created.\n",
    "\n",
    "`a`: Append mode. It allows you to write to the file, but the data will be added at the end of the file, preserving the existing content. If the file does not exist, a new file will be created.\n",
    "\n",
    "Here's an example of opening a file in read mode:"
   ]
  },
  {
   "cell_type": "code",
   "execution_count": null,
   "id": "a54b8e36",
   "metadata": {},
   "outputs": [],
   "source": [
    "filepath = \"zen_of_python.txt\"\n",
    "\n",
    "with open(filepath, \"r\") as f:\n",
    "    zen = f.read()\n",
    "    "
   ]
  },
  {
   "cell_type": "markdown",
   "id": "e13fb507",
   "metadata": {},
   "source": [
    "Once the file is open in read mode, you can use the file object's read() method to read its content. This method reads the entire content of the file as a single string."
   ]
  },
  {
   "cell_type": "code",
   "execution_count": null,
   "id": "49be220d",
   "metadata": {},
   "outputs": [],
   "source": [
    "print(zen)"
   ]
  },
  {
   "cell_type": "markdown",
   "id": "cee6589d",
   "metadata": {},
   "source": [
    "The `with` statement in Python is used for what is called \"context management.\" It is mainly used when working with resources that need to be properly managed, such as files, network connections, and databases. The with statement ensures that the resource is properly set up, used, and cleaned up when it is no longer needed, even if an exception occurs.\n",
    "\n",
    "We are using the `with` statement to open up the text file, read its contents and then close it."
   ]
  },
  {
   "cell_type": "markdown",
   "id": "afa795fc",
   "metadata": {},
   "source": [
    "Here's the other way when it comes to opening and close files in Python."
   ]
  },
  {
   "cell_type": "markdown",
   "id": "155fbd1d",
   "metadata": {},
   "source": [
    "Open the file"
   ]
  },
  {
   "cell_type": "code",
   "execution_count": null,
   "id": "b9dadeec",
   "metadata": {},
   "outputs": [],
   "source": [
    "f = open(\"zen_of_python.txt\")"
   ]
  },
  {
   "cell_type": "markdown",
   "id": "59918533",
   "metadata": {},
   "source": [
    "Extract the content"
   ]
  },
  {
   "cell_type": "code",
   "execution_count": null,
   "id": "4ee03a5d",
   "metadata": {},
   "outputs": [],
   "source": [
    "zen = f.read()"
   ]
  },
  {
   "cell_type": "markdown",
   "id": "692e9906",
   "metadata": {},
   "source": [
    "Close the file"
   ]
  },
  {
   "cell_type": "code",
   "execution_count": null,
   "id": "987ee1fe",
   "metadata": {},
   "outputs": [],
   "source": [
    "f.close()"
   ]
  },
  {
   "cell_type": "code",
   "execution_count": null,
   "id": "143217ca",
   "metadata": {},
   "outputs": [],
   "source": []
  },
  {
   "cell_type": "markdown",
   "id": "ce5d9df4",
   "metadata": {},
   "source": [
    "`.readlines()` is a method that tokenizes or splits up the text based on the lines in the text."
   ]
  },
  {
   "cell_type": "code",
   "execution_count": null,
   "id": "dc67cf11",
   "metadata": {},
   "outputs": [],
   "source": [
    "with open(\"zen_of_python.txt\") as f:\n",
    "    zen = f.readlines()"
   ]
  },
  {
   "cell_type": "markdown",
   "id": "38fbdf97",
   "metadata": {},
   "source": [
    "`zen` is a list of lines"
   ]
  },
  {
   "cell_type": "code",
   "execution_count": null,
   "id": "94c3ca61",
   "metadata": {},
   "outputs": [],
   "source": [
    "zen"
   ]
  },
  {
   "cell_type": "markdown",
   "id": "0384cf33",
   "metadata": {},
   "source": [
    "Run `!ls`  to list the files in this directory."
   ]
  },
  {
   "cell_type": "code",
   "execution_count": null,
   "id": "4d1b6a5a",
   "metadata": {},
   "outputs": [],
   "source": [
    "!ls"
   ]
  },
  {
   "cell_type": "markdown",
   "id": "3c8b4ec4",
   "metadata": {},
   "source": [
    "Let's load in `example.txt` file and find out how many characters, words, and lines are in it."
   ]
  },
  {
   "cell_type": "code",
   "execution_count": null,
   "id": "a85d9382",
   "metadata": {},
   "outputs": [],
   "source": [
    "#code here"
   ]
  },
  {
   "cell_type": "code",
   "execution_count": null,
   "id": "2235b541",
   "metadata": {},
   "outputs": [],
   "source": []
  },
  {
   "cell_type": "markdown",
   "id": "335466c1",
   "metadata": {},
   "source": [
    "**Writing and Appending to Files**"
   ]
  },
  {
   "cell_type": "markdown",
   "id": "1cd345d7",
   "metadata": {},
   "source": [
    "To write data to a file, you need to open the file in write or append mode. You can use the file object's `write()` method to write data to the file."
   ]
  },
  {
   "cell_type": "markdown",
   "id": "95d7dfc7",
   "metadata": {},
   "source": [
    "Let's write the following text passage and to a new file."
   ]
  },
  {
   "cell_type": "code",
   "execution_count": null,
   "id": "0dcb4e4b",
   "metadata": {},
   "outputs": [],
   "source": [
    "text = \"\"\"By memorizing & compressing the data, the NN generalizes, and at scale, \n",
    "like other self-supervised architectures, will learn to meta-learn datapoints, \n",
    "becoming a compact encoding of the distribution which rapidly learns each new datapoint \n",
    "in a single gradient descent step (like Hopfield nets or Reptile). \n",
    "Because of the uniformity and small dimensionality of input/output, \n",
    "the NN can be a deep MLP rather than a CNN, Transformer, or MoE.\"\"\""
   ]
  },
  {
   "cell_type": "markdown",
   "id": "b2958234",
   "metadata": {},
   "source": [
    "`open(\"text.txt\", \"w\")` creates a new .txt file."
   ]
  },
  {
   "cell_type": "code",
   "execution_count": null,
   "id": "06311668",
   "metadata": {},
   "outputs": [],
   "source": [
    "with open(\"text.txt\", \"w\") as f:\n",
    "    f.write(text)"
   ]
  },
  {
   "cell_type": "markdown",
   "id": "3c6db719",
   "metadata": {},
   "source": [
    "Let's verify it actually exists by opening and reading the `text.txt` file"
   ]
  },
  {
   "cell_type": "code",
   "execution_count": null,
   "id": "fe738082",
   "metadata": {},
   "outputs": [],
   "source": [
    "with open(\"text.txt\") as f:\n",
    "    print(f.read())"
   ]
  },
  {
   "cell_type": "code",
   "execution_count": null,
   "id": "9682732c",
   "metadata": {},
   "outputs": [],
   "source": []
  },
  {
   "cell_type": "markdown",
   "id": "0bf24207",
   "metadata": {},
   "source": [
    "**BE CAREFUL WITH WRITE MODE**"
   ]
  },
  {
   "cell_type": "markdown",
   "id": "be405c54",
   "metadata": {},
   "source": [
    "The following code if run would delete/overwrite `zen_of_python.txt`"
   ]
  },
  {
   "cell_type": "code",
   "execution_count": null,
   "id": "7ebee878",
   "metadata": {},
   "outputs": [],
   "source": [
    "# with open(\"zen_of_python.txt\", \"w\") as f:\n",
    "    "
   ]
  },
  {
   "cell_type": "markdown",
   "id": "a6b0bf02",
   "metadata": {},
   "source": [
    "What if we want to add to an existing file? Then we use `a` or append mode"
   ]
  },
  {
   "cell_type": "markdown",
   "id": "81c88450",
   "metadata": {},
   "source": [
    "Let's append this second text passage to `text.txt`"
   ]
  },
  {
   "cell_type": "code",
   "execution_count": null,
   "id": "90a64ef7",
   "metadata": {},
   "outputs": [],
   "source": [
    "text2 = \"\"\"Training can be done by ordinary SGD, \n",
    "but also by any local learning rule, or any mix thereof\n",
    "(eg. SGD at training time in compute-optimal large batches for offline training datasets, \n",
    "and then a local learning rule at ‘runtime’ when conditioning online with new inputs).\"\"\""
   ]
  },
  {
   "cell_type": "markdown",
   "id": "c3a65b72",
   "metadata": {},
   "source": [
    "We're adding a `\\n` character seperate the two text passages"
   ]
  },
  {
   "cell_type": "code",
   "execution_count": null,
   "id": "9c473f2d",
   "metadata": {},
   "outputs": [],
   "source": [
    "with open(\"text.txt\", \"a\") as f:\n",
    "    f.write(\"\\n\" + text2)"
   ]
  },
  {
   "cell_type": "markdown",
   "id": "9be3fe10",
   "metadata": {},
   "source": [
    "Let's look at the results."
   ]
  },
  {
   "cell_type": "code",
   "execution_count": null,
   "id": "65dd4ac8",
   "metadata": {},
   "outputs": [],
   "source": [
    "with open(\"text.txt\") as f:\n",
    "    print(f.read())"
   ]
  },
  {
   "cell_type": "markdown",
   "id": "713b07ce",
   "metadata": {},
   "source": [
    "Let's try using iteration to write data line by line to a text file."
   ]
  },
  {
   "cell_type": "markdown",
   "id": "b8154d21",
   "metadata": {},
   "source": [
    "We're going to write to a text file the full url for each of these case ids."
   ]
  },
  {
   "cell_type": "code",
   "execution_count": null,
   "id": "04cb9be8",
   "metadata": {},
   "outputs": [],
   "source": [
    "url = \"https://scholar.google.com/scholar_case?case={}\"\n",
    "case_ids = [6768454, 7712102, 6448738, 5374866, 6167299, 4683704, 3160303,\n",
    "       3379031, 5507176, 7024792, 9332965, 3999836, 1314612, 5918388,\n",
    "       1994897, 6497745, 4011633, 2837473, 7121246, 2001872]"
   ]
  },
  {
   "cell_type": "code",
   "execution_count": null,
   "id": "a1842e06",
   "metadata": {},
   "outputs": [],
   "source": [
    "with open(\"case_urls.txt\", \"a\") as f:\n",
    "    \n",
    "    for i in case_ids:\n",
    "        f.write(url.format(i) + \"\\n\" + \"-\"*50 + \"\\n\")"
   ]
  },
  {
   "cell_type": "markdown",
   "id": "33305d31",
   "metadata": {},
   "source": [
    "Load that file back in"
   ]
  },
  {
   "cell_type": "code",
   "execution_count": null,
   "id": "82747312",
   "metadata": {},
   "outputs": [],
   "source": []
  }
 ],
 "metadata": {
  "kernelspec": {
   "display_name": "Python 3 (ipykernel)",
   "language": "python",
   "name": "python3"
  },
  "language_info": {
   "codemirror_mode": {
    "name": "ipython",
    "version": 3
   },
   "file_extension": ".py",
   "mimetype": "text/x-python",
   "name": "python",
   "nbconvert_exporter": "python",
   "pygments_lexer": "ipython3",
   "version": "3.9.12"
  }
 },
 "nbformat": 4,
 "nbformat_minor": 5
}
