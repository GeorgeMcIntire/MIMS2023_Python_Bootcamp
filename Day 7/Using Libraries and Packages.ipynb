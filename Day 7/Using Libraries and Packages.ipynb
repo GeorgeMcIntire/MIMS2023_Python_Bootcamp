{
 "cells": [
  {
   "cell_type": "markdown",
   "id": "8c07717d",
   "metadata": {},
   "source": [
    "# Libraries\n",
    "\n",
    "Agenda:\n",
    "\n",
    "- Learn how to import libraries and the various syntaxes for doing so.\n",
    "\n",
    "- Demonstrate how to use a variety of popular libraries in python.\n",
    "\n",
    "    - time, random, os, datetime, collections, itertools, numpy, requests, json.\n",
    "\n",
    "Using libraries in Python is a powerful way to extend the functionality of your code without having to reinvent the wheel. A library is a collection of pre-written code that provides various functions, classes, and modules that can be easily imported and used in your Python programs. Python has a rich ecosystem of libraries covering a wide range of domains, such as data manipulation, web development, machine learning, and more.\n",
    "\n",
    "\n",
    "**THERE IS A PYTHON PACKAGE FOR EVERYTHING**"
   ]
  },
  {
   "cell_type": "markdown",
   "id": "2ec7cf86",
   "metadata": {},
   "source": [
    "[Check out the full list of standard python libraries.](https://docs.python.org/3/library/index.html)"
   ]
  },
  {
   "cell_type": "markdown",
   "id": "3c936e5e",
   "metadata": {},
   "source": [
    "### Importing libraries/packages"
   ]
  },
  {
   "cell_type": "markdown",
   "id": "3272d6bd",
   "metadata": {},
   "source": [
    "Let's trip importing our first package `time`"
   ]
  },
  {
   "cell_type": "markdown",
   "id": "29d2ee13",
   "metadata": {},
   "source": [
    "**Import the whole library**"
   ]
  },
  {
   "cell_type": "code",
   "execution_count": null,
   "id": "c6dbe1b8",
   "metadata": {},
   "outputs": [],
   "source": [
    "import time"
   ]
  },
  {
   "cell_type": "markdown",
   "id": "2feecb17",
   "metadata": {},
   "source": [
    "Now we have access to every function, object, and attribute in the time library."
   ]
  },
  {
   "cell_type": "markdown",
   "id": "f3a77557",
   "metadata": {},
   "source": [
    "**Import a single function**\n",
    "\n",
    "Sometime we don't want the whole package we just want a specific function"
   ]
  },
  {
   "cell_type": "markdown",
   "id": "6b2aef96",
   "metadata": {},
   "source": [
    "Import the `time` function from the `time` library"
   ]
  },
  {
   "cell_type": "code",
   "execution_count": null,
   "id": "a4c55858",
   "metadata": {},
   "outputs": [],
   "source": [
    "from time import time"
   ]
  },
  {
   "cell_type": "markdown",
   "id": "13d54292",
   "metadata": {},
   "source": [
    "What does `time` do?"
   ]
  },
  {
   "cell_type": "code",
   "execution_count": null,
   "id": "ae96fa55",
   "metadata": {},
   "outputs": [],
   "source": [
    "help(time)"
   ]
  },
  {
   "cell_type": "markdown",
   "id": "965d0e1c",
   "metadata": {},
   "source": [
    "Call `time`"
   ]
  },
  {
   "cell_type": "code",
   "execution_count": null,
   "id": "2a89a4ac",
   "metadata": {},
   "outputs": [],
   "source": [
    "time()"
   ]
  },
  {
   "cell_type": "code",
   "execution_count": null,
   "id": "a20fea17",
   "metadata": {},
   "outputs": [],
   "source": []
  },
  {
   "cell_type": "markdown",
   "id": "1c96e337",
   "metadata": {},
   "source": [
    "What do you think `time()` is useful for? Any guesses?"
   ]
  },
  {
   "cell_type": "code",
   "execution_count": null,
   "id": "42a55a48",
   "metadata": {},
   "outputs": [],
   "source": []
  },
  {
   "cell_type": "code",
   "execution_count": null,
   "id": "fcf52696",
   "metadata": {},
   "outputs": [],
   "source": []
  },
  {
   "cell_type": "code",
   "execution_count": null,
   "id": "da528665",
   "metadata": {},
   "outputs": [],
   "source": []
  },
  {
   "cell_type": "markdown",
   "id": "a1faab4b",
   "metadata": {},
   "source": [
    "We can use `time` to time our code, in official terms profile our code."
   ]
  },
  {
   "cell_type": "markdown",
   "id": "97d1c8a6",
   "metadata": {},
   "source": [
    "Our plan:\n",
    "\n",
    "1. Initialize `start` variable by assigning it to `time()`\n",
    "\n",
    "2. Execute our code\n",
    "\n",
    "3. Initialized `end` variable by assigning it to `time()`\n",
    "\n",
    "4. Find the difference between `end` and `start`"
   ]
  },
  {
   "cell_type": "code",
   "execution_count": null,
   "id": "505a765b",
   "metadata": {},
   "outputs": [],
   "source": [
    "start = time()\n",
    "_ = [sum(range(i)) for i in range(100000)]\n",
    "end = time()\n",
    "time_diff = end-start\n",
    "\n",
    "print(\"This code took {:.3f} seconds to run\".format(time_diff))"
   ]
  },
  {
   "cell_type": "markdown",
   "id": "59891d34",
   "metadata": {},
   "source": [
    "This is a quick way to profile your code and is useful for comparing the runtimes for two pieces of code that complete the same task."
   ]
  },
  {
   "cell_type": "code",
   "execution_count": null,
   "id": "299de9ec",
   "metadata": {},
   "outputs": [],
   "source": []
  },
  {
   "cell_type": "markdown",
   "id": "daafc718",
   "metadata": {},
   "source": [
    "Another useful function in the time library is `sleep`"
   ]
  },
  {
   "cell_type": "code",
   "execution_count": null,
   "id": "8690072d",
   "metadata": {},
   "outputs": [],
   "source": [
    "from time import sleep"
   ]
  },
  {
   "cell_type": "code",
   "execution_count": null,
   "id": "dd340310",
   "metadata": {},
   "outputs": [],
   "source": [
    "help(sleep)"
   ]
  },
  {
   "cell_type": "code",
   "execution_count": null,
   "id": "87fddce7",
   "metadata": {},
   "outputs": [],
   "source": [
    "sleep(5)"
   ]
  },
  {
   "cell_type": "markdown",
   "id": "724d75b4",
   "metadata": {},
   "source": [
    "So `sleep` essentially does nothing but trust me it is useful."
   ]
  },
  {
   "cell_type": "markdown",
   "id": "f4ab8c0f",
   "metadata": {},
   "source": [
    "I use it whenever I web scrape. When I scrape a bunch of webpages from a web site I purpose delay each scrap so as not to burden the web site's servers.\n",
    "\n",
    "Here's what that looks like in pseudo-code."
   ]
  },
  {
   "cell_type": "code",
   "execution_count": null,
   "id": "18450979",
   "metadata": {},
   "outputs": [],
   "source": [
    "# url_dict = {}\n",
    "# for url in urls:\n",
    "#     data = scraper(url)\n",
    "#     url_dict[url] = data\n",
    "#     sleep(5)"
   ]
  },
  {
   "cell_type": "markdown",
   "id": "95f91bbb",
   "metadata": {},
   "source": [
    "Let's move onto the next library: **random**"
   ]
  },
  {
   "cell_type": "code",
   "execution_count": null,
   "id": "07615691",
   "metadata": {},
   "outputs": [],
   "source": [
    "import random"
   ]
  },
  {
   "cell_type": "markdown",
   "id": "394a38c8",
   "metadata": {},
   "source": [
    "Anyone wanna take a guess as to what `random` does?"
   ]
  },
  {
   "cell_type": "markdown",
   "id": "d2fb5e3e",
   "metadata": {},
   "source": [
    "Let's take a look at some of the methods in `random`"
   ]
  },
  {
   "cell_type": "markdown",
   "id": "b2c7df9d",
   "metadata": {},
   "source": [
    "`.random()` outputs a random number between 0 and 1."
   ]
  },
  {
   "cell_type": "code",
   "execution_count": null,
   "id": "2ac843c5",
   "metadata": {},
   "outputs": [],
   "source": [
    "random.random()"
   ]
  },
  {
   "cell_type": "markdown",
   "id": "6dc987b4",
   "metadata": {},
   "source": [
    "Put your cursor after the period and hit tab to see the full list of methods and objects attached to `random`"
   ]
  },
  {
   "cell_type": "code",
   "execution_count": null,
   "id": "591c9a4f",
   "metadata": {},
   "outputs": [],
   "source": [
    "random."
   ]
  },
  {
   "cell_type": "markdown",
   "id": "868917f2",
   "metadata": {},
   "source": [
    "Let's explore more of what `random` has to offer."
   ]
  },
  {
   "cell_type": "code",
   "execution_count": null,
   "id": "0d3ec32f",
   "metadata": {},
   "outputs": [],
   "source": []
  },
  {
   "cell_type": "code",
   "execution_count": null,
   "id": "60ff865f",
   "metadata": {},
   "outputs": [],
   "source": []
  },
  {
   "cell_type": "code",
   "execution_count": null,
   "id": "a9b466a6",
   "metadata": {},
   "outputs": [],
   "source": []
  },
  {
   "cell_type": "markdown",
   "id": "64c5d5a5",
   "metadata": {},
   "source": [
    "### os (operating system)\n",
    "\n",
    "\"This [module](https://docs.python.org/3/library/os.html) provides a portable way of using operating system dependent functionality\"\n"
   ]
  },
  {
   "cell_type": "code",
   "execution_count": null,
   "id": "2b01a37a",
   "metadata": {},
   "outputs": [],
   "source": [
    "import os"
   ]
  },
  {
   "cell_type": "code",
   "execution_count": null,
   "id": "29e1e69b",
   "metadata": {},
   "outputs": [],
   "source": []
  },
  {
   "cell_type": "code",
   "execution_count": null,
   "id": "d29cc71b",
   "metadata": {},
   "outputs": [],
   "source": [
    "help(os.listdir)"
   ]
  },
  {
   "cell_type": "code",
   "execution_count": null,
   "id": "76890d86",
   "metadata": {},
   "outputs": [],
   "source": [
    "file_list = os.listdir()\n",
    "file_list"
   ]
  },
  {
   "cell_type": "code",
   "execution_count": null,
   "id": "f814c9b1",
   "metadata": {},
   "outputs": [],
   "source": [
    "help(os.getcwd)"
   ]
  },
  {
   "cell_type": "code",
   "execution_count": null,
   "id": "29a03f4c",
   "metadata": {},
   "outputs": [],
   "source": [
    "cwd = os.getcwd() \n",
    "cwd"
   ]
  },
  {
   "cell_type": "markdown",
   "id": "7a875caa",
   "metadata": {},
   "source": [
    "Make a new directory with python using `mkdir`"
   ]
  },
  {
   "cell_type": "code",
   "execution_count": null,
   "id": "d6161e8d",
   "metadata": {},
   "outputs": [],
   "source": [
    "os.mkdir(\"new_directory\")"
   ]
  },
  {
   "cell_type": "code",
   "execution_count": null,
   "id": "c2907ec3",
   "metadata": {},
   "outputs": [],
   "source": [
    "os.listdir()"
   ]
  },
  {
   "cell_type": "markdown",
   "id": "ddf552fe",
   "metadata": {},
   "source": [
    "Delete files and directories"
   ]
  },
  {
   "cell_type": "code",
   "execution_count": null,
   "id": "cfcb84e6",
   "metadata": {},
   "outputs": [],
   "source": [
    "#os.remove()"
   ]
  },
  {
   "cell_type": "code",
   "execution_count": null,
   "id": "a7be0733",
   "metadata": {},
   "outputs": [],
   "source": [
    "#os.rmdir()"
   ]
  },
  {
   "cell_type": "markdown",
   "id": "36af97f5",
   "metadata": {},
   "source": [
    "Rename a file"
   ]
  },
  {
   "cell_type": "code",
   "execution_count": null,
   "id": "69caa04b",
   "metadata": {},
   "outputs": [],
   "source": [
    "help(os.rename)"
   ]
  },
  {
   "cell_type": "code",
   "execution_count": null,
   "id": "fd0c1137",
   "metadata": {},
   "outputs": [],
   "source": [
    "os.rename(\"text.txt\", \"new_name.txt\")"
   ]
  },
  {
   "cell_type": "markdown",
   "id": "721a8918",
   "metadata": {},
   "source": [
    "Check to see if certain paths exists"
   ]
  },
  {
   "cell_type": "code",
   "execution_count": null,
   "id": "c794685c",
   "metadata": {},
   "outputs": [],
   "source": [
    "os.path.exists(\"new_name.txt\")"
   ]
  },
  {
   "cell_type": "code",
   "execution_count": null,
   "id": "7bb71ddb",
   "metadata": {},
   "outputs": [],
   "source": [
    "os.path.exists(\"missing_file.txt\")"
   ]
  },
  {
   "cell_type": "code",
   "execution_count": null,
   "id": "eb6ef733",
   "metadata": {},
   "outputs": [],
   "source": []
  },
  {
   "cell_type": "markdown",
   "id": "a658c822",
   "metadata": {},
   "source": [
    "Get the size of a file in bytes"
   ]
  },
  {
   "cell_type": "code",
   "execution_count": null,
   "id": "758e30f4",
   "metadata": {},
   "outputs": [],
   "source": [
    "file_size = os.path.getsize(\"text.txt\")\n",
    "file_size"
   ]
  },
  {
   "cell_type": "code",
   "execution_count": null,
   "id": "b51f6618",
   "metadata": {},
   "outputs": [],
   "source": []
  },
  {
   "cell_type": "markdown",
   "id": "33a4be0b",
   "metadata": {},
   "source": [
    "**datetime**\n",
    "\n",
    "\"The [datetime](https://docs.python.org/3/library/datetime.html) module supplies classes for manipulating dates and times.\""
   ]
  },
  {
   "cell_type": "markdown",
   "id": "54344e6d",
   "metadata": {},
   "source": [
    "Let's import multiple functions from `datetime`"
   ]
  },
  {
   "cell_type": "code",
   "execution_count": null,
   "id": "27878c59",
   "metadata": {},
   "outputs": [],
   "source": [
    "from datetime import date, time, datetime"
   ]
  },
  {
   "cell_type": "code",
   "execution_count": null,
   "id": "d59d2b87",
   "metadata": {},
   "outputs": [],
   "source": [
    "today = date(year = 2023, month = 8, day = 2)\n",
    "yesterday = date(year = 2023, month = 8, day = 1)"
   ]
  },
  {
   "cell_type": "code",
   "execution_count": null,
   "id": "0ae40549",
   "metadata": {},
   "outputs": [],
   "source": [
    "type(today)"
   ]
  },
  {
   "cell_type": "markdown",
   "id": "3a3b8294",
   "metadata": {},
   "source": [
    "Compare the two `date` objects"
   ]
  },
  {
   "cell_type": "code",
   "execution_count": null,
   "id": "26147408",
   "metadata": {},
   "outputs": [],
   "source": [
    "today > yesterday"
   ]
  },
  {
   "cell_type": "markdown",
   "id": "ae731656",
   "metadata": {},
   "source": [
    "What are some methods attached to `today`"
   ]
  },
  {
   "cell_type": "code",
   "execution_count": null,
   "id": "77fc2b27",
   "metadata": {},
   "outputs": [],
   "source": []
  },
  {
   "cell_type": "code",
   "execution_count": null,
   "id": "c226f945",
   "metadata": {},
   "outputs": [],
   "source": [
    "current_time = time(hour = , minute = , second = )"
   ]
  },
  {
   "cell_type": "code",
   "execution_count": null,
   "id": "b6a86d7d",
   "metadata": {},
   "outputs": [],
   "source": [
    "current_datetime = datetime(year= , month = , day = , hour = , minute = , second = )\n",
    "current_datetime"
   ]
  },
  {
   "cell_type": "code",
   "execution_count": null,
   "id": "c0a354d2",
   "metadata": {},
   "outputs": [],
   "source": []
  },
  {
   "cell_type": "code",
   "execution_count": null,
   "id": "c2c42f44",
   "metadata": {},
   "outputs": [],
   "source": []
  },
  {
   "cell_type": "markdown",
   "id": "9ac3222e",
   "metadata": {},
   "source": [
    "Let's explore some of the methods attached to `current_datetime`"
   ]
  },
  {
   "cell_type": "code",
   "execution_count": null,
   "id": "b108621c",
   "metadata": {},
   "outputs": [],
   "source": [
    "current_datetime."
   ]
  },
  {
   "cell_type": "code",
   "execution_count": null,
   "id": "8f8170cd",
   "metadata": {},
   "outputs": [],
   "source": []
  },
  {
   "cell_type": "markdown",
   "id": "8ee415d3",
   "metadata": {},
   "source": [
    "The easy to get today and the current_time"
   ]
  },
  {
   "cell_type": "code",
   "execution_count": null,
   "id": "9a35cf46",
   "metadata": {},
   "outputs": [],
   "source": [
    "today = date.today()\n",
    "now = datetime.now()\n",
    "now"
   ]
  },
  {
   "cell_type": "code",
   "execution_count": null,
   "id": "f8f0f977",
   "metadata": {},
   "outputs": [],
   "source": []
  },
  {
   "cell_type": "markdown",
   "id": "c2f4a180",
   "metadata": {},
   "source": [
    "We can create datetime objects from strings"
   ]
  },
  {
   "cell_type": "code",
   "execution_count": null,
   "id": "189e002a",
   "metadata": {},
   "outputs": [],
   "source": [
    "date.fromisoformat(\"2022-08-14\")"
   ]
  },
  {
   "cell_type": "code",
   "execution_count": null,
   "id": "d0c1f782",
   "metadata": {},
   "outputs": [],
   "source": []
  },
  {
   "cell_type": "code",
   "execution_count": null,
   "id": "5537d932",
   "metadata": {},
   "outputs": [],
   "source": []
  },
  {
   "cell_type": "markdown",
   "id": "81558a60",
   "metadata": {},
   "source": [
    "**Collections**\n",
    "\n",
    "import defaultdict and counter"
   ]
  },
  {
   "cell_type": "code",
   "execution_count": null,
   "id": "941d04d2",
   "metadata": {},
   "outputs": [],
   "source": [
    "from collections import defaultdict, Counter"
   ]
  },
  {
   "cell_type": "markdown",
   "id": "df55f4f3",
   "metadata": {},
   "source": [
    "`Counter` allows you to tally up the frequency of items in an iterable or object."
   ]
  },
  {
   "cell_type": "code",
   "execution_count": null,
   "id": "bc4565e0",
   "metadata": {},
   "outputs": [],
   "source": [
    "num_list = [39, 38, 38, 37, 33, 32, 34, 39, 38, 38, 38, 36, 33, 35, 31, 30, 34,\n",
    "       38, 39, 34]"
   ]
  },
  {
   "cell_type": "code",
   "execution_count": null,
   "id": "88aacb57",
   "metadata": {},
   "outputs": [],
   "source": [
    "freq = Counter(num_list)\n",
    "freq"
   ]
  },
  {
   "cell_type": "markdown",
   "id": "0f6d3768",
   "metadata": {},
   "source": [
    "`Counter` object method `most_common`"
   ]
  },
  {
   "cell_type": "code",
   "execution_count": null,
   "id": "4284908d",
   "metadata": {},
   "outputs": [],
   "source": [
    "freq.most_common()"
   ]
  },
  {
   "cell_type": "markdown",
   "id": "72274cd4",
   "metadata": {},
   "source": [
    "`defaultdict` is handy tool for dealing with missing keys in dictionaries"
   ]
  },
  {
   "cell_type": "code",
   "execution_count": null,
   "id": "cf4ae2d9",
   "metadata": {},
   "outputs": [],
   "source": [
    "me_info = defaultdict(list)\n",
    "\n",
    "me_info[\"classes\"].append(\"206B\")\n",
    "me_info[\"classes\"].append(\"202\")\n",
    "me_info[\"classes\"].append(\"201\")\n",
    "me_info"
   ]
  },
  {
   "cell_type": "code",
   "execution_count": null,
   "id": "79f9902d",
   "metadata": {},
   "outputs": [],
   "source": []
  },
  {
   "cell_type": "markdown",
   "id": "6e1b1b98",
   "metadata": {},
   "source": [
    "**Itertools**"
   ]
  },
  {
   "cell_type": "code",
   "execution_count": null,
   "id": "d0965e98",
   "metadata": {},
   "outputs": [],
   "source": [
    "from itertools import combinations, permutations"
   ]
  },
  {
   "cell_type": "code",
   "execution_count": null,
   "id": "3e048968",
   "metadata": {},
   "outputs": [],
   "source": [
    "colors = [\"magenta\", \"teal\", \"gold\", \"burnt-orange\", \"cyan\"]\n",
    "color_combos = combinations(colors, r = 2)\n",
    "for combo in color_combos:\n",
    "    print(combo)"
   ]
  },
  {
   "cell_type": "markdown",
   "id": "8efc0ab2",
   "metadata": {},
   "source": [
    "Try with `r=2`"
   ]
  },
  {
   "cell_type": "code",
   "execution_count": null,
   "id": "68aa22c4",
   "metadata": {},
   "outputs": [],
   "source": [
    "color_combos = combinations(colors, 3)\n",
    "for combo in color_combos:\n",
    "    print(combo)"
   ]
  },
  {
   "cell_type": "markdown",
   "id": "45d5ebb4",
   "metadata": {},
   "source": [
    "Permutations"
   ]
  },
  {
   "cell_type": "code",
   "execution_count": null,
   "id": "06dd8182",
   "metadata": {},
   "outputs": [],
   "source": [
    "color_perms = permutations(colors)\n",
    "for color in color_perms:\n",
    "    print(color)"
   ]
  },
  {
   "cell_type": "markdown",
   "id": "672daa71",
   "metadata": {},
   "source": [
    "**numpy**\n",
    "\n",
    "NumPy is a powerful Python library used for numerical and scientific computing. Its name stands for \"Numerical Python.\" NumPy provides support for large, multi-dimensional arrays and matrices, as well as a vast collection of high-level mathematical functions to operate on these arrays. It is one of the fundamental libraries in the Python data science ecosystem."
   ]
  },
  {
   "cell_type": "markdown",
   "id": "29577ccc",
   "metadata": {},
   "source": [
    "Here we are giving an alias `np` to numpy when we import the library."
   ]
  },
  {
   "cell_type": "code",
   "execution_count": null,
   "id": "19a7efb5",
   "metadata": {},
   "outputs": [],
   "source": [
    "import numpy as np"
   ]
  },
  {
   "cell_type": "markdown",
   "id": "b7d1cb93",
   "metadata": {},
   "source": [
    "Convert `num_list` to a numpy array"
   ]
  },
  {
   "cell_type": "code",
   "execution_count": null,
   "id": "aa75243c",
   "metadata": {},
   "outputs": [],
   "source": [
    "num_arr = np.array(num_list)\n",
    "type(num_arr)"
   ]
  },
  {
   "cell_type": "markdown",
   "id": "ac479ab1",
   "metadata": {},
   "source": [
    "Now that its an array, we can use a variety of numpy array methods."
   ]
  },
  {
   "cell_type": "code",
   "execution_count": null,
   "id": "cf991a7c",
   "metadata": {},
   "outputs": [],
   "source": [
    "#mean\n",
    "num_arr.mean()"
   ]
  },
  {
   "cell_type": "code",
   "execution_count": null,
   "id": "1ee98984",
   "metadata": {},
   "outputs": [],
   "source": [
    "#sum\n",
    "num_arr.sum()"
   ]
  },
  {
   "cell_type": "code",
   "execution_count": null,
   "id": "33824d3d",
   "metadata": {},
   "outputs": [],
   "source": [
    "#standard deviation\n",
    "num_arr.std()"
   ]
  },
  {
   "cell_type": "markdown",
   "id": "3d5b7135",
   "metadata": {},
   "source": [
    "argmax and argmin tell us the location of the maximum and minimum values."
   ]
  },
  {
   "cell_type": "code",
   "execution_count": null,
   "id": "3317a2f8",
   "metadata": {},
   "outputs": [],
   "source": [
    "num_arr.argmax()"
   ]
  },
  {
   "cell_type": "code",
   "execution_count": null,
   "id": "651b8a62",
   "metadata": {},
   "outputs": [],
   "source": [
    "num_arr.argmin()"
   ]
  },
  {
   "cell_type": "markdown",
   "id": "36dd13de",
   "metadata": {},
   "source": [
    "Reshape into a 2D matrix. Since len(num_arr) = 20 we can transform it into a 5x4 matrix."
   ]
  },
  {
   "cell_type": "code",
   "execution_count": null,
   "id": "a94a89e2",
   "metadata": {},
   "outputs": [],
   "source": [
    "num_arr"
   ]
  },
  {
   "cell_type": "code",
   "execution_count": null,
   "id": "8e0ea55a",
   "metadata": {},
   "outputs": [],
   "source": [
    "num_matrix = num_arr.reshape(5,4)\n",
    "num_matrix"
   ]
  },
  {
   "cell_type": "markdown",
   "id": "4c3558d6",
   "metadata": {},
   "source": [
    "With a 2D matrix we can do 2D slicing"
   ]
  },
  {
   "cell_type": "markdown",
   "id": "b3593d99",
   "metadata": {},
   "source": [
    "Slice the second column"
   ]
  },
  {
   "cell_type": "code",
   "execution_count": null,
   "id": "120e6aef",
   "metadata": {},
   "outputs": [],
   "source": [
    "num_matrix[:, 1]"
   ]
  },
  {
   "cell_type": "markdown",
   "id": "be14d388",
   "metadata": {},
   "source": [
    "Slice after the second row and before the third column"
   ]
  },
  {
   "cell_type": "code",
   "execution_count": null,
   "id": "69ec0407",
   "metadata": {},
   "outputs": [],
   "source": [
    "num_matrix[2:, :3]"
   ]
  },
  {
   "cell_type": "markdown",
   "id": "ae384e3c",
   "metadata": {},
   "source": [
    "**Requests and JSON**\n",
    "\n",
    "The `requests` library is a popular Python library used for making HTTP requests to interact with web servers and retrieve data from web resources. It simplifies the process of sending HTTP requests and handling responses, making it easier for developers to work with web APIs and web services.\n",
    "\n",
    "\n",
    "The `json` package is a built-in Python module that provides methods for encoding and decoding JSON (JavaScript Object Notation) data."
   ]
  },
  {
   "cell_type": "code",
   "execution_count": null,
   "id": "3dcfdf51",
   "metadata": {},
   "outputs": [],
   "source": [
    "import requests"
   ]
  },
  {
   "cell_type": "markdown",
   "id": "e5105e2c",
   "metadata": {},
   "source": [
    "The url that we are scraping"
   ]
  },
  {
   "cell_type": "code",
   "execution_count": null,
   "id": "42eb1ca2",
   "metadata": {},
   "outputs": [],
   "source": [
    "url = \"https://jsonplaceholder.typicode.com/todos\""
   ]
  },
  {
   "cell_type": "markdown",
   "id": "3c7d88c0",
   "metadata": {},
   "source": [
    "`get` gets the web page data for that url."
   ]
  },
  {
   "cell_type": "code",
   "execution_count": null,
   "id": "cda1317d",
   "metadata": {},
   "outputs": [],
   "source": [
    "r = requests.get(url)\n",
    "r"
   ]
  },
  {
   "cell_type": "markdown",
   "id": "97625f97",
   "metadata": {},
   "source": [
    "200 is good! That's what we want. We can also do `r.ok` to check to see if our scrape was successful"
   ]
  },
  {
   "cell_type": "code",
   "execution_count": null,
   "id": "3f3bbd47",
   "metadata": {},
   "outputs": [],
   "source": [
    "r.ok"
   ]
  },
  {
   "cell_type": "markdown",
   "id": "2b3d8531",
   "metadata": {},
   "source": [
    "Here's what the data looks like in json form"
   ]
  },
  {
   "cell_type": "code",
   "execution_count": null,
   "id": "d2124ae6",
   "metadata": {},
   "outputs": [],
   "source": [
    "json_data = r.json()\n",
    "json_data"
   ]
  },
  {
   "cell_type": "markdown",
   "id": "92ee2f10",
   "metadata": {},
   "source": [
    "Let's save this data as a json file in our current directory."
   ]
  },
  {
   "cell_type": "code",
   "execution_count": null,
   "id": "a0abe2b6",
   "metadata": {},
   "outputs": [],
   "source": [
    "import json"
   ]
  },
  {
   "cell_type": "code",
   "execution_count": null,
   "id": "97a89c37",
   "metadata": {},
   "outputs": [],
   "source": [
    "#CODE HERE\n"
   ]
  },
  {
   "cell_type": "markdown",
   "id": "1ab3ec5d",
   "metadata": {},
   "source": [
    "Now let's try this again but in a directory outside of our current directory."
   ]
  },
  {
   "cell_type": "code",
   "execution_count": null,
   "id": "5a8c82c6",
   "metadata": {},
   "outputs": [],
   "source": []
  },
  {
   "cell_type": "code",
   "execution_count": null,
   "id": "572a5b59",
   "metadata": {},
   "outputs": [],
   "source": []
  },
  {
   "cell_type": "markdown",
   "id": "a7bf7f40",
   "metadata": {},
   "source": [
    "Load that file back in."
   ]
  },
  {
   "cell_type": "code",
   "execution_count": null,
   "id": "74e1f06f",
   "metadata": {},
   "outputs": [],
   "source": []
  }
 ],
 "metadata": {
  "kernelspec": {
   "display_name": "Python 3 (ipykernel)",
   "language": "python",
   "name": "python3"
  },
  "language_info": {
   "codemirror_mode": {
    "name": "ipython",
    "version": 3
   },
   "file_extension": ".py",
   "mimetype": "text/x-python",
   "name": "python",
   "nbconvert_exporter": "python",
   "pygments_lexer": "ipython3",
   "version": "3.9.12"
  }
 },
 "nbformat": 4,
 "nbformat_minor": 5
}
