{
 "cells": [
  {
   "cell_type": "markdown",
   "id": "4cd49ee3",
   "metadata": {},
   "source": [
    "## Exercise 1\n",
    "\n",
    "\n",
    "Write a program that checks to see if `num` is positive, negative, or zero. Print that says `num` is negative, positive, or zero\n",
    "\n"
   ]
  },
  {
   "cell_type": "code",
   "execution_count": 1,
   "id": "cfa6a03b",
   "metadata": {},
   "outputs": [
    {
     "name": "stdout",
     "output_type": "stream",
     "text": [
      "Negative\n"
     ]
    }
   ],
   "source": [
    "num = -1\n",
    "\n",
    "if num > 0:\n",
    "    print(\"Positive\")\n",
    "elif num == 0:\n",
    "    print(\"Zero\")\n",
    "else:\n",
    "    print(\"Negative\")"
   ]
  },
  {
   "cell_type": "markdown",
   "id": "58cfa6ed",
   "metadata": {},
   "source": [
    "## Exercise 2"
   ]
  },
  {
   "cell_type": "markdown",
   "id": "6992e050",
   "metadata": {},
   "source": [
    "Check to see if a string exclusively has number and thus can be converted to an integer and convert it if that's the case. If not then print \"cannot convert to integer\""
   ]
  },
  {
   "cell_type": "code",
   "execution_count": 2,
   "id": "5587c068",
   "metadata": {},
   "outputs": [],
   "source": [
    "string_num = \"34\"\n",
    "\n",
    "if string_num.isnumeric():\n",
    "    num = int(string_num)\n",
    "else:\n",
    "    print(\"cannot convert\")"
   ]
  },
  {
   "cell_type": "code",
   "execution_count": 3,
   "id": "93c3d248",
   "metadata": {},
   "outputs": [
    {
     "data": {
      "text/plain": [
       "34"
      ]
     },
     "execution_count": 3,
     "metadata": {},
     "output_type": "execute_result"
    }
   ],
   "source": [
    "num"
   ]
  },
  {
   "cell_type": "markdown",
   "id": "56cc4851",
   "metadata": {},
   "source": [
    "## Exercise 3\n",
    "\n",
    "Calculate a tax bill calculator where \n",
    "\n",
    "    - Less than 0-$50000 is taxed at 10%\n",
    "\n",
    "    - Greater than $50000 is taxed 25%"
   ]
  },
  {
   "cell_type": "code",
   "execution_count": 4,
   "id": "cdbe3b4f",
   "metadata": {},
   "outputs": [
    {
     "data": {
      "text/plain": [
       "7500.0"
      ]
     },
     "execution_count": 4,
     "metadata": {},
     "output_type": "execute_result"
    }
   ],
   "source": [
    "income = 60000\n",
    "\n",
    "\n",
    "if income >= 50000:\n",
    "    post50k = income - 50000\n",
    "    \n",
    "    tax_bill = post50k*.25 + 50000*0.1\n",
    "    \n",
    "else:\n",
    "    tax_bill = income*0.1\n",
    "    \n",
    "tax_bill"
   ]
  },
  {
   "cell_type": "markdown",
   "id": "1160b6c7",
   "metadata": {},
   "source": [
    "## Exercise 4"
   ]
  },
  {
   "cell_type": "markdown",
   "id": "a36d9e64",
   "metadata": {},
   "source": [
    "Add parentheses so that the following expressions all evaluate to True"
   ]
  },
  {
   "cell_type": "code",
   "execution_count": 5,
   "id": "174fce0c",
   "metadata": {},
   "outputs": [
    {
     "data": {
      "text/plain": [
       "True"
      ]
     },
     "execution_count": 5,
     "metadata": {},
     "output_type": "execute_result"
    }
   ],
   "source": [
    "False == (not True)"
   ]
  },
  {
   "cell_type": "code",
   "execution_count": 6,
   "id": "efc0ae15",
   "metadata": {},
   "outputs": [
    {
     "data": {
      "text/plain": [
       "True"
      ]
     },
     "execution_count": 6,
     "metadata": {},
     "output_type": "execute_result"
    }
   ],
   "source": [
    "(True and False) == (True and False)"
   ]
  },
  {
   "cell_type": "code",
   "execution_count": 7,
   "id": "e7b26644",
   "metadata": {},
   "outputs": [
    {
     "data": {
      "text/plain": [
       "True"
      ]
     },
     "execution_count": 7,
     "metadata": {},
     "output_type": "execute_result"
    }
   ],
   "source": [
    "not (True and \"A\" == \"B\")"
   ]
  },
  {
   "cell_type": "markdown",
   "id": "20388b73",
   "metadata": {},
   "source": [
    "## Exercise 5"
   ]
  },
  {
   "cell_type": "markdown",
   "id": "c7a2e0ce",
   "metadata": {},
   "source": [
    "How would you check to see if a number is odd or even?\n",
    "\n",
    "Hint: use modulo sign %"
   ]
  },
  {
   "cell_type": "code",
   "execution_count": 8,
   "id": "fa62027e",
   "metadata": {},
   "outputs": [],
   "source": [
    "num = 7"
   ]
  },
  {
   "cell_type": "code",
   "execution_count": 9,
   "id": "57cc0306",
   "metadata": {},
   "outputs": [
    {
     "name": "stdout",
     "output_type": "stream",
     "text": [
      "odd\n"
     ]
    }
   ],
   "source": [
    "if num % 2 == 1:\n",
    "    print(\"odd\")\n",
    "else:\n",
    "    print(\"even\")"
   ]
  },
  {
   "cell_type": "code",
   "execution_count": null,
   "id": "59517e45",
   "metadata": {},
   "outputs": [],
   "source": []
  }
 ],
 "metadata": {
  "kernelspec": {
   "display_name": "Python 3 (ipykernel)",
   "language": "python",
   "name": "python3"
  },
  "language_info": {
   "codemirror_mode": {
    "name": "ipython",
    "version": 3
   },
   "file_extension": ".py",
   "mimetype": "text/x-python",
   "name": "python",
   "nbconvert_exporter": "python",
   "pygments_lexer": "ipython3",
   "version": "3.9.12"
  }
 },
 "nbformat": 4,
 "nbformat_minor": 5
}
