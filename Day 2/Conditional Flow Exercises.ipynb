{
 "cells": [
  {
   "cell_type": "markdown",
   "id": "4cd49ee3",
   "metadata": {},
   "source": [
    "## Exercise 1\n",
    "\n",
    "\n",
    "Write a program that checks to see if `num` is positive, negative, or zero. Print that says `num` is negative, positive, or zero\n",
    "\n"
   ]
  },
  {
   "cell_type": "code",
   "execution_count": null,
   "id": "cfa6a03b",
   "metadata": {},
   "outputs": [],
   "source": [
    "num = -1"
   ]
  },
  {
   "cell_type": "markdown",
   "id": "58cfa6ed",
   "metadata": {},
   "source": [
    "## Exercise 2"
   ]
  },
  {
   "cell_type": "markdown",
   "id": "6992e050",
   "metadata": {},
   "source": [
    "Check to see if a string exclusively has number and thus can be converted to an integer and convert it if that's the case. If not then print \"cannot convert to integer\""
   ]
  },
  {
   "cell_type": "code",
   "execution_count": null,
   "id": "5587c068",
   "metadata": {},
   "outputs": [],
   "source": [
    "string_num = \"34\""
   ]
  },
  {
   "cell_type": "markdown",
   "id": "56cc4851",
   "metadata": {},
   "source": [
    "## Exercise 3\n",
    "\n",
    "Calculate a tax bill calculator where \n",
    "\n",
    "    - Less than 0-$50000 is taxed at 10%\n",
    "\n",
    "    - Greater than $50000 is taxed 25%"
   ]
  },
  {
   "cell_type": "code",
   "execution_count": 8,
   "id": "cdbe3b4f",
   "metadata": {},
   "outputs": [],
   "source": [
    "income = 60000"
   ]
  },
  {
   "cell_type": "markdown",
   "id": "1160b6c7",
   "metadata": {},
   "source": [
    "## Exercise 4"
   ]
  },
  {
   "cell_type": "markdown",
   "id": "a36d9e64",
   "metadata": {},
   "source": [
    "Add parentheses so that the following expressions all evaluate to True"
   ]
  },
  {
   "cell_type": "code",
   "execution_count": null,
   "id": "174fce0c",
   "metadata": {},
   "outputs": [],
   "source": [
    "False == not True"
   ]
  },
  {
   "cell_type": "code",
   "execution_count": null,
   "id": "efc0ae15",
   "metadata": {},
   "outputs": [],
   "source": [
    "True and False == True and False"
   ]
  },
  {
   "cell_type": "code",
   "execution_count": null,
   "id": "e7b26644",
   "metadata": {},
   "outputs": [],
   "source": [
    "not True and \"A\" == \"B\""
   ]
  },
  {
   "cell_type": "markdown",
   "id": "20388b73",
   "metadata": {},
   "source": [
    "## Exercise 5"
   ]
  },
  {
   "cell_type": "markdown",
   "id": "c7a2e0ce",
   "metadata": {},
   "source": [
    "How would you check to see if a number is odd or even?\n",
    "\n",
    "Hint: use modulo sign %"
   ]
  },
  {
   "cell_type": "code",
   "execution_count": null,
   "id": "57cc0306",
   "metadata": {},
   "outputs": [],
   "source": []
  }
 ],
 "metadata": {
  "kernelspec": {
   "display_name": "Python 3 (ipykernel)",
   "language": "python",
   "name": "python3"
  },
  "language_info": {
   "codemirror_mode": {
    "name": "ipython",
    "version": 3
   },
   "file_extension": ".py",
   "mimetype": "text/x-python",
   "name": "python",
   "nbconvert_exporter": "python",
   "pygments_lexer": "ipython3",
   "version": "3.9.12"
  }
 },
 "nbformat": 4,
 "nbformat_minor": 5
}
