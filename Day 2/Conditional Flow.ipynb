{
 "cells": [
  {
   "cell_type": "markdown",
   "id": "5d9f3419",
   "metadata": {},
   "source": [
    "# Conditional Flow"
   ]
  },
  {
   "cell_type": "markdown",
   "id": "37af4979",
   "metadata": {},
   "source": [
    "There are many situations where you change your behavior based on\n",
    "the environment. For example, if it is raining outside, you wear\n",
    "rain boots. Otherwise, you might wear a different kind of shoe\n",
    "like tennis shoes.\n",
    "\n",
    "You probably have even more complicated environmental responses\n",
    "as well. For example, if you are ordering bubble tea, your order\n",
    "might go like this: if the shop has taro, you get taro in your\n",
    "tea. If the shop doesn’t have taro but has pearl, you get pearl\n",
    "in your tea. Finally, in the case that the shop doesn’t have taro\n",
    "or pearl, you don’t order any bubble tea.\n",
    "\n",
    "In computer science, we call this kind of behavior conditional:\n",
    "your code runs only in the case that some condition is satisfied."
   ]
  },
  {
   "cell_type": "markdown",
   "id": "18dc5a3c",
   "metadata": {},
   "source": [
    "**Conditional flow**, also known as conditional statements or conditional branching, is a fundamental concept in programming that allows you to make decisions based on certain conditions. In Python, like in many other programming languages, you can use conditional flow to direct the flow of your program, executing specific blocks of code only when certain conditions are met.\n",
    "\n",
    "The most common conditional flow statement in Python is the if statement, which has the following general syntax:"
   ]
  },
  {
   "cell_type": "markdown",
   "id": "ed15df64",
   "metadata": {},
   "source": [
    "if condition:\n",
    "\n",
    "    code to be executed if the condition is True"
   ]
  },
  {
   "cell_type": "markdown",
   "id": "b132ae28",
   "metadata": {},
   "source": [
    "The condition represents boolean value. If the condition is True, the indented block of code below the if statement will be executed. If the condition is False, the block of code will be skipped, and the program will move on to the next part of the code.\n",
    "\n",
    "Indentation: Python uses indentation to define blocks of code. All statements that should be executed when the condition is True must be indented consistently. Usually, four spaces are used for indentation, but you can use tabs as well."
   ]
  },
  {
   "cell_type": "markdown",
   "id": "54daa48e",
   "metadata": {},
   "source": [
    "In this example imagine if a bar bouncer was a python program."
   ]
  },
  {
   "cell_type": "code",
   "execution_count": null,
   "id": "bc10dea0",
   "metadata": {},
   "outputs": [],
   "source": [
    "age = 28\n",
    "\n",
    "legal_drinking_age = 21\n",
    "\n",
    "if age >= legal_drinking_age:\n",
    "    print(\"You may enter the bar\")"
   ]
  },
  {
   "cell_type": "markdown",
   "id": "f7419d6a",
   "metadata": {},
   "source": [
    "Now what if the person is under 21?"
   ]
  },
  {
   "cell_type": "code",
   "execution_count": null,
   "id": "e5a288b2",
   "metadata": {},
   "outputs": [],
   "source": [
    "age = 20\n",
    "\n",
    "if age >= legal_drinking_age:\n",
    "    print(\"You may enter the bar\")"
   ]
  },
  {
   "cell_type": "markdown",
   "id": "bc9679ed",
   "metadata": {},
   "source": [
    "Nothing happens.\n",
    "<br>\n",
    "\n",
    "Since the condition `age >= legal_drinking_age` is `False` python ignores the indented code below it and continue running the rest of the program."
   ]
  },
  {
   "cell_type": "markdown",
   "id": "779a310e",
   "metadata": {},
   "source": [
    "What if we want to execute for when our condition is False?\n",
    "\n",
    "That's where an else statement comes in."
   ]
  },
  {
   "cell_type": "code",
   "execution_count": null,
   "id": "1a12d4db",
   "metadata": {},
   "outputs": [],
   "source": [
    "if age >= legal_drinking_age:\n",
    "    # code to be executed if the condition is True\n",
    "    print(\"You may enter the bar\")\n",
    "else:\n",
    "    # code to be executed if the condition is False\n",
    "    print(\"You are rejected!!\")"
   ]
  },
  {
   "cell_type": "markdown",
   "id": "7387b9ca",
   "metadata": {},
   "source": [
    "Conditional statements can also have alternative branches using the else keyword, which allows you to specify a block of code to be executed when the condition is False."
   ]
  },
  {
   "cell_type": "markdown",
   "id": "4482b2aa",
   "metadata": {},
   "source": [
    "Think of the else block as code accounting for other situation or scenario or event."
   ]
  },
  {
   "cell_type": "code",
   "execution_count": null,
   "id": "4dfbd2ba",
   "metadata": {},
   "outputs": [],
   "source": []
  },
  {
   "cell_type": "markdown",
   "id": "a06e38e5",
   "metadata": {},
   "source": [
    "Another example"
   ]
  },
  {
   "cell_type": "code",
   "execution_count": null,
   "id": "523f28cf",
   "metadata": {},
   "outputs": [],
   "source": [
    "chance_rain = 0.2\n",
    "\n",
    "clouds = True\n",
    "\n",
    "if clouds:\n",
    "    chance_rain = chance_rain*2 \n",
    "    #Or you can write it like this\n",
    "    #chance_rain *= 0.2\n",
    "els:\n",
    "    chance_rain = 0"
   ]
  },
  {
   "cell_type": "code",
   "execution_count": null,
   "id": "1f3be11f",
   "metadata": {},
   "outputs": [],
   "source": []
  },
  {
   "cell_type": "markdown",
   "id": "60fa1a5e",
   "metadata": {},
   "source": [
    "**More than two conditions**\n",
    "\n",
    "\n",
    "Additionally, you can have more complex decision-making using **elif** (short for \"else if\") clauses. This allows you to check multiple conditions in sequence."
   ]
  },
  {
   "cell_type": "markdown",
   "id": "a1a2f73c",
   "metadata": {},
   "source": [
    "![](https://d1whtlypfis84e.cloudfront.net/guides/wp-content/uploads/2021/06/29090653/If-elif-else-flowchart.jpg)"
   ]
  },
  {
   "cell_type": "markdown",
   "id": "1ea40e51",
   "metadata": {},
   "source": [
    "What path are we taking?"
   ]
  },
  {
   "cell_type": "code",
   "execution_count": null,
   "id": "b6a8fbb9",
   "metadata": {},
   "outputs": [],
   "source": [
    "path_A = False\n",
    "path_B = True\n",
    "path_C = False\n",
    "\n",
    "\n",
    "if path_A:\n",
    "    chosen_path = \"A\"\n",
    "elif path_B:\n",
    "    chosen_path = \"B\"\n",
    "else:\n",
    "    chosen_path = \"C\"\n",
    "    \n",
    "    \n",
    "print(\"We are taking path: \", chosen_path)\n",
    "\n"
   ]
  },
  {
   "cell_type": "markdown",
   "id": "c0189558",
   "metadata": {},
   "source": [
    "Why didn't we have to specify a condition involving `path_C`"
   ]
  },
  {
   "cell_type": "code",
   "execution_count": null,
   "id": "219014e6",
   "metadata": {},
   "outputs": [],
   "source": []
  },
  {
   "cell_type": "markdown",
   "id": "437374a2",
   "metadata": {},
   "source": [
    "Let's change path_A to True. What happens now?"
   ]
  },
  {
   "cell_type": "code",
   "execution_count": null,
   "id": "c70c24ea",
   "metadata": {},
   "outputs": [],
   "source": [
    "path_A = True\n",
    "path_B = True\n",
    "path_C = False\n",
    "\n",
    "\n",
    "if path_A:\n",
    "    chosen_path = \"A\"\n",
    "elif path_B:\n",
    "    chosen_path = \"B\"\n",
    "else:\n",
    "    chosen_path = \"C\"\n",
    "    \n",
    "    \n",
    "print(\"We are taking path: \", chosen_path)"
   ]
  },
  {
   "cell_type": "markdown",
   "id": "f49feeea",
   "metadata": {},
   "source": [
    "What does this result tell us?"
   ]
  },
  {
   "cell_type": "code",
   "execution_count": null,
   "id": "e12c1cf6",
   "metadata": {},
   "outputs": [],
   "source": []
  },
  {
   "cell_type": "markdown",
   "id": "ccb806b2",
   "metadata": {},
   "source": [
    "Let's create a program that converts number grades into letter grades."
   ]
  },
  {
   "cell_type": "code",
   "execution_count": null,
   "id": "701670c4",
   "metadata": {},
   "outputs": [],
   "source": [
    "score = 82"
   ]
  },
  {
   "cell_type": "markdown",
   "id": "daefb7cd",
   "metadata": {},
   "source": [
    "Since this score is 82, then it should be assigned a \"B\""
   ]
  },
  {
   "cell_type": "code",
   "execution_count": null,
   "id": "07283c5e",
   "metadata": {},
   "outputs": [],
   "source": [
    "if grade >= 60:\n",
    "    letter_grade = \"D\"\n",
    "elif grade >=70:\n",
    "    letter_grade = \"C\"\n",
    "elif grade >=80:\n",
    "    letter_grade = \"B\"\n",
    "elif grade >=90:\n",
    "    letter_grade = \"A\"\n",
    "    \n",
    "print(\"Grade ==>\", letter_grade)\n"
   ]
  },
  {
   "cell_type": "markdown",
   "id": "a64a96dd",
   "metadata": {},
   "source": [
    "What's your assessment of this code?"
   ]
  },
  {
   "cell_type": "code",
   "execution_count": null,
   "id": "5dcb8179",
   "metadata": {},
   "outputs": [],
   "source": []
  },
  {
   "cell_type": "code",
   "execution_count": null,
   "id": "6291f075",
   "metadata": {},
   "outputs": [],
   "source": []
  },
  {
   "cell_type": "code",
   "execution_count": null,
   "id": "7d411cd0",
   "metadata": {},
   "outputs": [],
   "source": []
  },
  {
   "cell_type": "markdown",
   "id": "9e8baf46",
   "metadata": {},
   "source": [
    "Even though the code is wrong it doesn't produce an error. Yes the score is greater than 60 but it is not a D."
   ]
  },
  {
   "cell_type": "markdown",
   "id": "53904bee",
   "metadata": {},
   "source": [
    "Let's go ahead and type out the correct version of this code below together."
   ]
  },
  {
   "cell_type": "code",
   "execution_count": null,
   "id": "b2af6932",
   "metadata": {},
   "outputs": [],
   "source": [
    "#CODE HERE"
   ]
  },
  {
   "cell_type": "code",
   "execution_count": null,
   "id": "7646ba15",
   "metadata": {},
   "outputs": [],
   "source": []
  },
  {
   "cell_type": "markdown",
   "id": "75e2ff7e",
   "metadata": {},
   "source": [
    "### Multiple Conditions.\n",
    "\n",
    "In Python, the `and` and `or` operators are used to create boolean conditions that combine multiple expressions. These operators allow you to check multiple conditions at once and determine whether the overall expression evaluates to True or False. These boolean conditions are particularly useful in conditional statements and loops."
   ]
  },
  {
   "cell_type": "markdown",
   "id": "149b76d2",
   "metadata": {},
   "source": [
    "![](https://content.codecademy.com/practice/art-for-practice/new-pngs/Boolean-operators-dk.png)\n",
    "\n",
    "Source: Codeacademy"
   ]
  },
  {
   "cell_type": "markdown",
   "id": "719cf1bf",
   "metadata": {},
   "source": [
    "The `and` operator returns `True` if both the left and right conditions are `True`, otherwise, it returns `False`."
   ]
  },
  {
   "cell_type": "code",
   "execution_count": null,
   "id": "335987d8",
   "metadata": {},
   "outputs": [],
   "source": [
    "tango1 = True\n",
    "tango2 = True\n",
    "\n",
    "if tango1 and tango2:\n",
    "    print(\"Tango Time!\")\n",
    "else:\n",
    "    print(\"It takes two to Tango!\")"
   ]
  },
  {
   "cell_type": "markdown",
   "id": "911af9ea",
   "metadata": {},
   "source": [
    "Change tango1 to `False`"
   ]
  },
  {
   "cell_type": "code",
   "execution_count": null,
   "id": "c9735a03",
   "metadata": {},
   "outputs": [],
   "source": [
    "tango1 = False\n",
    "\n",
    "if tango1 and tango2:\n",
    "    print(\"Tango Time!\")\n",
    "else:\n",
    "    print(\"It takes two to Tango!\")"
   ]
  },
  {
   "cell_type": "markdown",
   "id": "a7aa9087",
   "metadata": {},
   "source": [
    "Let's add in some elif blocks"
   ]
  },
  {
   "cell_type": "code",
   "execution_count": null,
   "id": "addaf137",
   "metadata": {},
   "outputs": [],
   "source": [
    "\n",
    "if tango1 and tango2:\n",
    "    print(\"Tango Time!\")\n",
    "    \n",
    "elif tango1 and not tango2:\n",
    "    print(\"Person 1 wants to Tango but not Person 2\")\n",
    "    \n",
    "elif not tango1 and tango2:\n",
    "    print(\"Person 1 wants to Tango but not Person 2\")\n",
    "else:\n",
    "    print(\"It takes two to Tango!\")"
   ]
  },
  {
   "cell_type": "code",
   "execution_count": null,
   "id": "464ea268",
   "metadata": {},
   "outputs": [],
   "source": []
  },
  {
   "cell_type": "markdown",
   "id": "9c907569",
   "metadata": {},
   "source": [
    "**What is `NOT` doing in this code block**"
   ]
  },
  {
   "cell_type": "code",
   "execution_count": null,
   "id": "ee994f9b",
   "metadata": {},
   "outputs": [],
   "source": []
  },
  {
   "cell_type": "markdown",
   "id": "22cd2eb9",
   "metadata": {},
   "source": [
    "The `or` operator returns `True` if at least one of the operands is `True`. It returns `False` only if both operands are `False`."
   ]
  },
  {
   "cell_type": "code",
   "execution_count": null,
   "id": "2b2fb670",
   "metadata": {},
   "outputs": [],
   "source": [
    "x = 10\n",
    "y = 5\n",
    "\n",
    "x > 12 or y < 7"
   ]
  },
  {
   "cell_type": "code",
   "execution_count": null,
   "id": "88686908",
   "metadata": {},
   "outputs": [],
   "source": []
  },
  {
   "cell_type": "markdown",
   "id": "57dadc27",
   "metadata": {},
   "source": [
    "Let's take it up a notch!"
   ]
  },
  {
   "cell_type": "markdown",
   "id": "31e2d3b2",
   "metadata": {},
   "source": [
    "What do you think happens here?"
   ]
  },
  {
   "cell_type": "code",
   "execution_count": null,
   "id": "032713e7",
   "metadata": {},
   "outputs": [],
   "source": [
    "z = 8\n",
    "\n",
    "result = (x > 5 and y < 7) or z == 8\n",
    "print(result)"
   ]
  },
  {
   "cell_type": "code",
   "execution_count": null,
   "id": "91d209e8",
   "metadata": {},
   "outputs": [],
   "source": []
  },
  {
   "cell_type": "markdown",
   "id": "db85f884",
   "metadata": {},
   "source": [
    "Let's break it down"
   ]
  },
  {
   "cell_type": "markdown",
   "id": "56d21292",
   "metadata": {},
   "source": [
    "Rewrite it this way"
   ]
  },
  {
   "cell_type": "markdown",
   "id": "42017be2",
   "metadata": {},
   "source": [
    "(`False` and `True`) or `True` ==> `False` or `True` ==> `True`"
   ]
  },
  {
   "cell_type": "code",
   "execution_count": null,
   "id": "9bd53ff2",
   "metadata": {},
   "outputs": [],
   "source": []
  },
  {
   "cell_type": "code",
   "execution_count": null,
   "id": "bda9b91f",
   "metadata": {},
   "outputs": [],
   "source": []
  },
  {
   "cell_type": "markdown",
   "id": "44a7aaa5",
   "metadata": {},
   "source": [
    "Another way to write multiple conditions."
   ]
  },
  {
   "cell_type": "code",
   "execution_count": null,
   "id": "83d45172",
   "metadata": {},
   "outputs": [],
   "source": [
    "100 < 150 <= 200"
   ]
  },
  {
   "cell_type": "code",
   "execution_count": null,
   "id": "2608b3a6",
   "metadata": {},
   "outputs": [],
   "source": []
  },
  {
   "cell_type": "markdown",
   "id": "b0024593",
   "metadata": {},
   "source": [
    "### Leap Year Check"
   ]
  },
  {
   "cell_type": "markdown",
   "id": "331f7c17",
   "metadata": {},
   "source": [
    "Let's write a program together that checks to see if a year is a leap year. \n",
    "\n",
    "Remember that a leap year\n",
    "\n",
    "    - Divisible by 4\n",
    "    \n",
    "    - Not divisible by 100\n",
    "    \n",
    "    - Divisible by 400"
   ]
  },
  {
   "cell_type": "code",
   "execution_count": null,
   "id": "4ae8c827",
   "metadata": {},
   "outputs": [],
   "source": [
    "#CODE HERE\n",
    "\n",
    "year = ..."
   ]
  },
  {
   "cell_type": "code",
   "execution_count": null,
   "id": "39dc523c",
   "metadata": {},
   "outputs": [],
   "source": []
  },
  {
   "cell_type": "markdown",
   "id": "022954f6",
   "metadata": {},
   "source": []
  }
 ],
 "metadata": {
  "kernelspec": {
   "display_name": "Python 3 (ipykernel)",
   "language": "python",
   "name": "python3"
  },
  "language_info": {
   "codemirror_mode": {
    "name": "ipython",
    "version": 3
   },
   "file_extension": ".py",
   "mimetype": "text/x-python",
   "name": "python",
   "nbconvert_exporter": "python",
   "pygments_lexer": "ipython3",
   "version": "3.9.12"
  }
 },
 "nbformat": 4,
 "nbformat_minor": 5
}
